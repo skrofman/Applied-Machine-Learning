{
  "nbformat": 4,
  "nbformat_minor": 0,
  "metadata": {
    "colab": {
      "name": "Lab1_working.ipynb",
      "provenance": [],
      "collapsed_sections": [],
      "mount_file_id": "17lBCOj80xZzf6ptMutx8CGAdjnNWl1dL",
      "authorship_tag": "ABX9TyMd5b7bYYSjb1W03YNfIRbA",
      "include_colab_link": true
    },
    "kernelspec": {
      "name": "python3",
      "display_name": "Python 3"
    }
  },
  "cells": [
    {
      "cell_type": "markdown",
      "metadata": {
        "id": "view-in-github",
        "colab_type": "text"
      },
      "source": [
        "<a href=\"https://colab.research.google.com/github/skrofman/Applied-Machine-Learning/blob/master/Lab1_working.ipynb\" target=\"_parent\"><img src=\"https://colab.research.google.com/assets/colab-badge.svg\" alt=\"Open In Colab\"/></a>"
      ]
    },
    {
      "cell_type": "markdown",
      "metadata": {
        "id": "7bDB2bXlbYjQ"
      },
      "source": [
        " 1. What would be the most commonly used level of measurement if the variable is the temperature of the air?\n",
        "\n",
        " Interval"
      ]
    },
    {
      "cell_type": "markdown",
      "metadata": {
        "id": "ySyX_1BMbiG6"
      },
      "source": [
        "2. Write a Python code to import the data file 'L1data.csv' (introduced in Lecture 1).\n",
        "\n",
        "Code an imputation for replacing the NaN values in the \"Age\" column with the median of the column.\n",
        "The NaN instances are replaced by...?"
      ]
    },
    {
      "cell_type": "code",
      "metadata": {
        "colab": {
          "base_uri": "https://localhost:8080/",
          "height": 793
        },
        "id": "pepZRm4OMmm3",
        "outputId": "7898331c-6b80-41d5-ce05-863a0dc5afc6"
      },
      "source": [
        "import numpy as np\n",
        "import pandas as pd\n",
        "\n",
        "data = pd.read_csv('drive/MyDrive/Colab_Notebooks/L1Data.csv')\n",
        "data"
      ],
      "execution_count": 2,
      "outputs": [
        {
          "output_type": "execute_result",
          "data": {
            "text/html": [
              "<div>\n",
              "<style scoped>\n",
              "    .dataframe tbody tr th:only-of-type {\n",
              "        vertical-align: middle;\n",
              "    }\n",
              "\n",
              "    .dataframe tbody tr th {\n",
              "        vertical-align: top;\n",
              "    }\n",
              "\n",
              "    .dataframe thead th {\n",
              "        text-align: right;\n",
              "    }\n",
              "</style>\n",
              "<table border=\"1\" class=\"dataframe\">\n",
              "  <thead>\n",
              "    <tr style=\"text-align: right;\">\n",
              "      <th></th>\n",
              "      <th>Class</th>\n",
              "      <th>Age</th>\n",
              "      <th>Funds</th>\n",
              "      <th>Sale</th>\n",
              "    </tr>\n",
              "  </thead>\n",
              "  <tbody>\n",
              "    <tr>\n",
              "      <th>0</th>\n",
              "      <td>Freshmen</td>\n",
              "      <td>18.0</td>\n",
              "      <td>600.0</td>\n",
              "      <td>No</td>\n",
              "    </tr>\n",
              "    <tr>\n",
              "      <th>1</th>\n",
              "      <td>Freshmen</td>\n",
              "      <td>18.0</td>\n",
              "      <td>500.0</td>\n",
              "      <td>No</td>\n",
              "    </tr>\n",
              "    <tr>\n",
              "      <th>2</th>\n",
              "      <td>Freshmen</td>\n",
              "      <td>18.0</td>\n",
              "      <td>600.0</td>\n",
              "      <td>No</td>\n",
              "    </tr>\n",
              "    <tr>\n",
              "      <th>3</th>\n",
              "      <td>Senior</td>\n",
              "      <td>23.0</td>\n",
              "      <td>800.0</td>\n",
              "      <td>No</td>\n",
              "    </tr>\n",
              "    <tr>\n",
              "      <th>4</th>\n",
              "      <td>Junior</td>\n",
              "      <td>21.0</td>\n",
              "      <td>400.0</td>\n",
              "      <td>Yes</td>\n",
              "    </tr>\n",
              "    <tr>\n",
              "      <th>5</th>\n",
              "      <td>Freshmen</td>\n",
              "      <td>19.0</td>\n",
              "      <td>600.0</td>\n",
              "      <td>No</td>\n",
              "    </tr>\n",
              "    <tr>\n",
              "      <th>6</th>\n",
              "      <td>Freshmen</td>\n",
              "      <td>20.0</td>\n",
              "      <td>600.0</td>\n",
              "      <td>No</td>\n",
              "    </tr>\n",
              "    <tr>\n",
              "      <th>7</th>\n",
              "      <td>Senior</td>\n",
              "      <td>24.0</td>\n",
              "      <td>NaN</td>\n",
              "      <td>Yes</td>\n",
              "    </tr>\n",
              "    <tr>\n",
              "      <th>8</th>\n",
              "      <td>Sophomore</td>\n",
              "      <td>23.0</td>\n",
              "      <td>620.0</td>\n",
              "      <td>Yes</td>\n",
              "    </tr>\n",
              "    <tr>\n",
              "      <th>9</th>\n",
              "      <td>Sophomore</td>\n",
              "      <td>25.0</td>\n",
              "      <td>800.0</td>\n",
              "      <td>Yes</td>\n",
              "    </tr>\n",
              "    <tr>\n",
              "      <th>10</th>\n",
              "      <td>Junior</td>\n",
              "      <td>21.0</td>\n",
              "      <td>900.0</td>\n",
              "      <td>No</td>\n",
              "    </tr>\n",
              "    <tr>\n",
              "      <th>11</th>\n",
              "      <td>Junior</td>\n",
              "      <td>21.0</td>\n",
              "      <td>650.0</td>\n",
              "      <td>Yes</td>\n",
              "    </tr>\n",
              "    <tr>\n",
              "      <th>12</th>\n",
              "      <td>Sophomore</td>\n",
              "      <td>NaN</td>\n",
              "      <td>500.0</td>\n",
              "      <td>No</td>\n",
              "    </tr>\n",
              "    <tr>\n",
              "      <th>13</th>\n",
              "      <td>Junior</td>\n",
              "      <td>21.0</td>\n",
              "      <td>800.0</td>\n",
              "      <td>No</td>\n",
              "    </tr>\n",
              "    <tr>\n",
              "      <th>14</th>\n",
              "      <td>Junior</td>\n",
              "      <td>20.0</td>\n",
              "      <td>650.0</td>\n",
              "      <td>Yes</td>\n",
              "    </tr>\n",
              "    <tr>\n",
              "      <th>15</th>\n",
              "      <td>Sophomore</td>\n",
              "      <td>21.0</td>\n",
              "      <td>580.0</td>\n",
              "      <td>Yes</td>\n",
              "    </tr>\n",
              "    <tr>\n",
              "      <th>16</th>\n",
              "      <td>Sophomore</td>\n",
              "      <td>20.0</td>\n",
              "      <td>800.0</td>\n",
              "      <td>Yes</td>\n",
              "    </tr>\n",
              "    <tr>\n",
              "      <th>17</th>\n",
              "      <td>Senior</td>\n",
              "      <td>26.0</td>\n",
              "      <td>NaN</td>\n",
              "      <td>Yes</td>\n",
              "    </tr>\n",
              "    <tr>\n",
              "      <th>18</th>\n",
              "      <td>Senior</td>\n",
              "      <td>25.0</td>\n",
              "      <td>NaN</td>\n",
              "      <td>Yes</td>\n",
              "    </tr>\n",
              "    <tr>\n",
              "      <th>19</th>\n",
              "      <td>Senior</td>\n",
              "      <td>41.0</td>\n",
              "      <td>NaN</td>\n",
              "      <td>Yes</td>\n",
              "    </tr>\n",
              "    <tr>\n",
              "      <th>20</th>\n",
              "      <td>Sophomore</td>\n",
              "      <td>NaN</td>\n",
              "      <td>500.0</td>\n",
              "      <td>No</td>\n",
              "    </tr>\n",
              "    <tr>\n",
              "      <th>21</th>\n",
              "      <td>Freshmen</td>\n",
              "      <td>18.0</td>\n",
              "      <td>500.0</td>\n",
              "      <td>No</td>\n",
              "    </tr>\n",
              "    <tr>\n",
              "      <th>22</th>\n",
              "      <td>Freshmen</td>\n",
              "      <td>18.0</td>\n",
              "      <td>500.0</td>\n",
              "      <td>No</td>\n",
              "    </tr>\n",
              "    <tr>\n",
              "      <th>23</th>\n",
              "      <td>Freshmen</td>\n",
              "      <td>18.0</td>\n",
              "      <td>600.0</td>\n",
              "      <td>No</td>\n",
              "    </tr>\n",
              "  </tbody>\n",
              "</table>\n",
              "</div>"
            ],
            "text/plain": [
              "        Class   Age  Funds Sale\n",
              "0    Freshmen  18.0  600.0   No\n",
              "1    Freshmen  18.0  500.0   No\n",
              "2    Freshmen  18.0  600.0   No\n",
              "3      Senior  23.0  800.0   No\n",
              "4      Junior  21.0  400.0  Yes\n",
              "5    Freshmen  19.0  600.0   No\n",
              "6    Freshmen  20.0  600.0   No\n",
              "7      Senior  24.0    NaN  Yes\n",
              "8   Sophomore  23.0  620.0  Yes\n",
              "9   Sophomore  25.0  800.0  Yes\n",
              "10     Junior  21.0  900.0   No\n",
              "11     Junior  21.0  650.0  Yes\n",
              "12  Sophomore   NaN  500.0   No\n",
              "13     Junior  21.0  800.0   No\n",
              "14     Junior  20.0  650.0  Yes\n",
              "15  Sophomore  21.0  580.0  Yes\n",
              "16  Sophomore  20.0  800.0  Yes\n",
              "17     Senior  26.0    NaN  Yes\n",
              "18     Senior  25.0    NaN  Yes\n",
              "19     Senior  41.0    NaN  Yes\n",
              "20  Sophomore   NaN  500.0   No\n",
              "21   Freshmen  18.0  500.0   No\n",
              "22   Freshmen  18.0  500.0   No\n",
              "23   Freshmen  18.0  600.0   No"
            ]
          },
          "metadata": {
            "tags": []
          },
          "execution_count": 2
        }
      ]
    },
    {
      "cell_type": "code",
      "metadata": {
        "colab": {
          "base_uri": "https://localhost:8080/"
        },
        "id": "boVafQnVNSAT",
        "outputId": "03adf460-d92d-41de-bde3-14f526650723"
      },
      "source": [
        "from sklearn.impute import SimpleImputer\n",
        "imp = SimpleImputer(missing_values=np.nan,strategy='median')\n",
        "imp.fit(data.loc[:,[\"Age\"]])"
      ],
      "execution_count": 8,
      "outputs": [
        {
          "output_type": "execute_result",
          "data": {
            "text/plain": [
              "SimpleImputer(add_indicator=False, copy=True, fill_value=None,\n",
              "              missing_values=nan, strategy='median', verbose=0)"
            ]
          },
          "metadata": {
            "tags": []
          },
          "execution_count": 8
        }
      ]
    },
    {
      "cell_type": "code",
      "metadata": {
        "id": "59eAFCaMOK-J"
      },
      "source": [
        "data.loc[:,[\"Age\"]] = imp.transform(data.loc[:,[\"Age\"]])"
      ],
      "execution_count": 9,
      "outputs": []
    },
    {
      "cell_type": "code",
      "metadata": {
        "colab": {
          "base_uri": "https://localhost:8080/",
          "height": 793
        },
        "id": "mNTaAzABOSFr",
        "outputId": "0357ca2f-8258-4496-fc6b-4fe29db11d63"
      },
      "source": [
        "data"
      ],
      "execution_count": 10,
      "outputs": [
        {
          "output_type": "execute_result",
          "data": {
            "text/html": [
              "<div>\n",
              "<style scoped>\n",
              "    .dataframe tbody tr th:only-of-type {\n",
              "        vertical-align: middle;\n",
              "    }\n",
              "\n",
              "    .dataframe tbody tr th {\n",
              "        vertical-align: top;\n",
              "    }\n",
              "\n",
              "    .dataframe thead th {\n",
              "        text-align: right;\n",
              "    }\n",
              "</style>\n",
              "<table border=\"1\" class=\"dataframe\">\n",
              "  <thead>\n",
              "    <tr style=\"text-align: right;\">\n",
              "      <th></th>\n",
              "      <th>Class</th>\n",
              "      <th>Age</th>\n",
              "      <th>Funds</th>\n",
              "      <th>Sale</th>\n",
              "    </tr>\n",
              "  </thead>\n",
              "  <tbody>\n",
              "    <tr>\n",
              "      <th>0</th>\n",
              "      <td>Freshmen</td>\n",
              "      <td>18.0</td>\n",
              "      <td>600.0</td>\n",
              "      <td>No</td>\n",
              "    </tr>\n",
              "    <tr>\n",
              "      <th>1</th>\n",
              "      <td>Freshmen</td>\n",
              "      <td>18.0</td>\n",
              "      <td>500.0</td>\n",
              "      <td>No</td>\n",
              "    </tr>\n",
              "    <tr>\n",
              "      <th>2</th>\n",
              "      <td>Freshmen</td>\n",
              "      <td>18.0</td>\n",
              "      <td>600.0</td>\n",
              "      <td>No</td>\n",
              "    </tr>\n",
              "    <tr>\n",
              "      <th>3</th>\n",
              "      <td>Senior</td>\n",
              "      <td>23.0</td>\n",
              "      <td>800.0</td>\n",
              "      <td>No</td>\n",
              "    </tr>\n",
              "    <tr>\n",
              "      <th>4</th>\n",
              "      <td>Junior</td>\n",
              "      <td>21.0</td>\n",
              "      <td>400.0</td>\n",
              "      <td>Yes</td>\n",
              "    </tr>\n",
              "    <tr>\n",
              "      <th>5</th>\n",
              "      <td>Freshmen</td>\n",
              "      <td>19.0</td>\n",
              "      <td>600.0</td>\n",
              "      <td>No</td>\n",
              "    </tr>\n",
              "    <tr>\n",
              "      <th>6</th>\n",
              "      <td>Freshmen</td>\n",
              "      <td>20.0</td>\n",
              "      <td>600.0</td>\n",
              "      <td>No</td>\n",
              "    </tr>\n",
              "    <tr>\n",
              "      <th>7</th>\n",
              "      <td>Senior</td>\n",
              "      <td>24.0</td>\n",
              "      <td>NaN</td>\n",
              "      <td>Yes</td>\n",
              "    </tr>\n",
              "    <tr>\n",
              "      <th>8</th>\n",
              "      <td>Sophomore</td>\n",
              "      <td>23.0</td>\n",
              "      <td>620.0</td>\n",
              "      <td>Yes</td>\n",
              "    </tr>\n",
              "    <tr>\n",
              "      <th>9</th>\n",
              "      <td>Sophomore</td>\n",
              "      <td>25.0</td>\n",
              "      <td>800.0</td>\n",
              "      <td>Yes</td>\n",
              "    </tr>\n",
              "    <tr>\n",
              "      <th>10</th>\n",
              "      <td>Junior</td>\n",
              "      <td>21.0</td>\n",
              "      <td>900.0</td>\n",
              "      <td>No</td>\n",
              "    </tr>\n",
              "    <tr>\n",
              "      <th>11</th>\n",
              "      <td>Junior</td>\n",
              "      <td>21.0</td>\n",
              "      <td>650.0</td>\n",
              "      <td>Yes</td>\n",
              "    </tr>\n",
              "    <tr>\n",
              "      <th>12</th>\n",
              "      <td>Sophomore</td>\n",
              "      <td>21.0</td>\n",
              "      <td>500.0</td>\n",
              "      <td>No</td>\n",
              "    </tr>\n",
              "    <tr>\n",
              "      <th>13</th>\n",
              "      <td>Junior</td>\n",
              "      <td>21.0</td>\n",
              "      <td>800.0</td>\n",
              "      <td>No</td>\n",
              "    </tr>\n",
              "    <tr>\n",
              "      <th>14</th>\n",
              "      <td>Junior</td>\n",
              "      <td>20.0</td>\n",
              "      <td>650.0</td>\n",
              "      <td>Yes</td>\n",
              "    </tr>\n",
              "    <tr>\n",
              "      <th>15</th>\n",
              "      <td>Sophomore</td>\n",
              "      <td>21.0</td>\n",
              "      <td>580.0</td>\n",
              "      <td>Yes</td>\n",
              "    </tr>\n",
              "    <tr>\n",
              "      <th>16</th>\n",
              "      <td>Sophomore</td>\n",
              "      <td>20.0</td>\n",
              "      <td>800.0</td>\n",
              "      <td>Yes</td>\n",
              "    </tr>\n",
              "    <tr>\n",
              "      <th>17</th>\n",
              "      <td>Senior</td>\n",
              "      <td>26.0</td>\n",
              "      <td>NaN</td>\n",
              "      <td>Yes</td>\n",
              "    </tr>\n",
              "    <tr>\n",
              "      <th>18</th>\n",
              "      <td>Senior</td>\n",
              "      <td>25.0</td>\n",
              "      <td>NaN</td>\n",
              "      <td>Yes</td>\n",
              "    </tr>\n",
              "    <tr>\n",
              "      <th>19</th>\n",
              "      <td>Senior</td>\n",
              "      <td>41.0</td>\n",
              "      <td>NaN</td>\n",
              "      <td>Yes</td>\n",
              "    </tr>\n",
              "    <tr>\n",
              "      <th>20</th>\n",
              "      <td>Sophomore</td>\n",
              "      <td>21.0</td>\n",
              "      <td>500.0</td>\n",
              "      <td>No</td>\n",
              "    </tr>\n",
              "    <tr>\n",
              "      <th>21</th>\n",
              "      <td>Freshmen</td>\n",
              "      <td>18.0</td>\n",
              "      <td>500.0</td>\n",
              "      <td>No</td>\n",
              "    </tr>\n",
              "    <tr>\n",
              "      <th>22</th>\n",
              "      <td>Freshmen</td>\n",
              "      <td>18.0</td>\n",
              "      <td>500.0</td>\n",
              "      <td>No</td>\n",
              "    </tr>\n",
              "    <tr>\n",
              "      <th>23</th>\n",
              "      <td>Freshmen</td>\n",
              "      <td>18.0</td>\n",
              "      <td>600.0</td>\n",
              "      <td>No</td>\n",
              "    </tr>\n",
              "  </tbody>\n",
              "</table>\n",
              "</div>"
            ],
            "text/plain": [
              "        Class   Age  Funds Sale\n",
              "0    Freshmen  18.0  600.0   No\n",
              "1    Freshmen  18.0  500.0   No\n",
              "2    Freshmen  18.0  600.0   No\n",
              "3      Senior  23.0  800.0   No\n",
              "4      Junior  21.0  400.0  Yes\n",
              "5    Freshmen  19.0  600.0   No\n",
              "6    Freshmen  20.0  600.0   No\n",
              "7      Senior  24.0    NaN  Yes\n",
              "8   Sophomore  23.0  620.0  Yes\n",
              "9   Sophomore  25.0  800.0  Yes\n",
              "10     Junior  21.0  900.0   No\n",
              "11     Junior  21.0  650.0  Yes\n",
              "12  Sophomore  21.0  500.0   No\n",
              "13     Junior  21.0  800.0   No\n",
              "14     Junior  20.0  650.0  Yes\n",
              "15  Sophomore  21.0  580.0  Yes\n",
              "16  Sophomore  20.0  800.0  Yes\n",
              "17     Senior  26.0    NaN  Yes\n",
              "18     Senior  25.0    NaN  Yes\n",
              "19     Senior  41.0    NaN  Yes\n",
              "20  Sophomore  21.0  500.0   No\n",
              "21   Freshmen  18.0  500.0   No\n",
              "22   Freshmen  18.0  500.0   No\n",
              "23   Freshmen  18.0  600.0   No"
            ]
          },
          "metadata": {
            "tags": []
          },
          "execution_count": 10
        }
      ]
    },
    {
      "cell_type": "markdown",
      "metadata": {
        "id": "Lh5UxlRgbsMM"
      },
      "source": [
        "3. In Bayesian inference the \"likelihood\" represents:\n",
        "\n",
        "  How probable is the data (evidence) given that our hypothesis is true."
      ]
    },
    {
      "cell_type": "markdown",
      "metadata": {
        "id": "eDpJqXdTbv0D"
      },
      "source": [
        "4. The main goal of Monte Carlo simulations is to solve problems by approximating a probability value via carefully designed simulations.\n",
        "\n",
        "  True"
      ]
    },
    {
      "cell_type": "markdown",
      "metadata": {
        "id": "621hnI9wbv3L"
      },
      "source": [
        "5. Assume that during a pandemic 15% of the population gets infected with a respiratory virus while about 35% of the population has some general respiratory symptoms such as sneezing, stuffy nose etc.\n",
        "\n",
        "Assume that approximately 30% of the people infected with the virus are asymptomatic.\n",
        "\n",
        "What is the probability that someone who has the symptom actually has the disease?"
      ]
    },
    {
      "cell_type": "markdown",
      "metadata": {
        "id": "2rIJc61xTnSr"
      },
      "source": [
        "\n",
        "- Assume that $15\\%$ of the population has a disease and label this event by $A$.\n",
        "- Assume that $35\\%$ of the population has the symptom (label the event of someone having the symptom by $B$) and that of those who have the disease, about $70\\%$ have the symptom.\n",
        "\n",
        "What is the probability that someone who has the symptom actually has the disease?\n",
        "\n",
        "$$\\Large{P\\left (A\\,|\\,B\\right )=\\frac{P(B\\,|\\,A)P(A)}{P(B)}=\\frac{0.70\\cdot 0.15}{0.35}=0.30}$$"
      ]
    },
    {
      "cell_type": "markdown",
      "metadata": {
        "id": "AK12KVO-cGm9"
      },
      "source": [
        "6. A Monte Carlo simulation should never include more than 1000 repetitions of the experiment.\n",
        "\n",
        "  False"
      ]
    },
    {
      "cell_type": "markdown",
      "metadata": {
        "id": "HvbTeDpXcGw1"
      },
      "source": [
        "7. One can decide that the number of iterations in a Monte Carlo simulation was sufficient by visualizing a Probability-Iteration plot and determining where the probability graph approaches a horizontal line.\n",
        "\n",
        "  True"
      ]
    },
    {
      "cell_type": "markdown",
      "metadata": {
        "id": "x3LzJg6aVWUy"
      },
      "source": [
        "8. Assume we play a slightly bit different version of the original Monte Hall problem such as having four doors one car and three goats.\n",
        "\n",
        "\n",
        "***The rules of the game are the same, the contestant chooses one door (that remains closed) and one of the other doors who had a goat behind it is being opened.\n",
        "\n",
        "**The contestant has to make a choice as to stick with the original choice or rather switch for one of the remaining closed doors.\n",
        "\n",
        "Write a Python code to approximate the winning probabilities, for each choice, by the means of Monte Carlo simulations. The probability that the contestant will ultimately win by sticking with the original choice is closer to:"
      ]
    },
    {
      "cell_type": "code",
      "metadata": {
        "colab": {
          "base_uri": "https://localhost:8080/",
          "height": 606
        },
        "id": "2b4TyA5_Ut0i",
        "outputId": "442766fe-6dde-4b5b-ab73-c0b95cc0e220"
      },
      "source": [
        "%matplotlib inline\n",
        "%config InlineBackend.figure_format = 'retina'\n",
        "import matplotlib as mpl\n",
        "mpl.rcParams['figure.dpi'] = 150\n",
        "\n",
        "import random\n",
        "import matplotlib.pyplot as plt\n",
        "\n",
        "doors = [\"goat\",\"goat\",\"car\",\"goat\"]\n",
        "\n",
        "# approximated results\n",
        "switch_win_probability = []\n",
        "stick_win_probability = []\n",
        "\n",
        "plt.axhline(y=0.75, color='red', linestyle='--')\n",
        "plt.axhline(y=0.25, color='green', linestyle='--')\n",
        "\n",
        "def monte_carlo(n):\n",
        "\n",
        "  switch_wins = 0\n",
        "  stick_wins = 0\n",
        "\n",
        "  for i in range(n):\n",
        "     random.shuffle(doors)\n",
        "\n",
        "     k = random.randrange(4)\n",
        "\n",
        "     if doors[k] != 'car':\n",
        "       switch_wins +=1\n",
        "    \n",
        "     else:\n",
        "       stick_wins +=1\n",
        "    \n",
        "     switch_win_probability.append(switch_wins/(i+1))\n",
        "     stick_win_probability.append(stick_wins/(i+1))\n",
        "    \n",
        "  plt.plot(switch_win_probability,label='Switch')\n",
        "  plt.plot(stick_win_probability,label='Stick')\n",
        "  plt.tick_params(axis='x', colors='navy')\n",
        "  plt.tick_params(axis='y', colors='navy')\n",
        "  plt.xlabel('Iterations',fontsize=14,color='DeepSkyBlue')\n",
        "  plt.ylabel('Probability of Winning',fontsize=14,color='green')\n",
        "  plt.legend()\n",
        "  print('Winning probability if you always switch:', switch_win_probability[-1])\n",
        "  print('Winning probability if you always stick to your original choice:', stick_win_probability[-1])\n",
        "\n",
        "monte_carlo(5000)"
      ],
      "execution_count": 29,
      "outputs": [
        {
          "output_type": "stream",
          "text": [
            "Winning probability if you always switch: 0.7526\n",
            "Winning probability if you always stick to your original choice: 0.2474\n"
          ],
          "name": "stdout"
        },
        {
          "output_type": "display_data",
          "data": {
            "image/png": "[encoded data removed]",
            "text/plain": [
              "<Figure size 900x600 with 1 Axes>"
            ]
          },
          "metadata": {
            "tags": [],
            "image/png": {
              "width": 812,
              "height": 555
            },
            "needs_background": "light"
          }
        }
      ]
    },
    {
      "cell_type": "markdown",
      "metadata": {
        "id": "39w_A8TIcYo5"
      },
      "source": [
        "9. In Python one of the libraries that we can use for generating repeated experiments in Monte Carlo simulations is:\n",
        "\n",
        "  random"
      ]
    },
    {
      "cell_type": "markdown",
      "metadata": {
        "id": "TGTF-BT9cbOH"
      },
      "source": [
        "10. In Python, for creating a random permutation of an array whose entries are nominal variables we used:\n",
        "\n",
        "  random.shuffle"
      ]
    },
    {
      "cell_type": "code",
      "metadata": {
        "id": "WM6u_KrMcc0r"
      },
      "source": [
        ""
      ],
      "execution_count": 29,
      "outputs": []
    }
  ]
}