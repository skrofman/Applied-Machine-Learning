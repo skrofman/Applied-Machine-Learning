{
  "nbformat": 4,
  "nbformat_minor": 0,
  "metadata": {
    "colab": {
      "name": "midterm_working.ipynb",
      "provenance": [],
      "mount_file_id": "1DLieEhpze10CUXoua7WMfW3AVYYJ05KS",
      "authorship_tag": "ABX9TyN48J/OuciGoIkjdF+toQ1n",
      "include_colab_link": true
    },
    "kernelspec": {
      "name": "python3",
      "display_name": "Python 3"
    },
    "language_info": {
      "name": "python"
    }
  },
  "cells": [
    {
      "cell_type": "markdown",
      "metadata": {
        "id": "view-in-github",
        "colab_type": "text"
      },
      "source": [
        "<a href=\"https://colab.research.google.com/github/skrofman/Applied-Machine-Learning/blob/master/midterm_working.ipynb\" target=\"_parent\"><img src=\"https://colab.research.google.com/assets/colab-badge.svg\" alt=\"Open In Colab\"/></a>"
      ]
    },
    {
      "cell_type": "markdown",
      "metadata": {
        "id": "wtztxEoRh4nN"
      },
      "source": [
        "1. Import the weatherHistory.csv into a data frame. How many observations do we have? \n",
        "\n",
        "96453"
      ]
    },
    {
      "cell_type": "code",
      "metadata": {
        "id": "9R3S0cJEhzaq"
      },
      "source": [
        "import numpy as np\n",
        "import pandas as pd\n",
        "import operator\n",
        "from sklearn.svm import LinearSVR\n",
        "from sklearn.linear_model import Ridge, Lasso, ElasticNet, LinearRegression\n",
        "from sklearn.ensemble import RandomForestRegressor\n",
        "from sklearn.datasets import load_boston\n",
        "from sklearn.preprocessing import StandardScaler, PolynomialFeatures\n",
        "from sklearn.metrics import mean_absolute_error as MAE\n",
        "from sklearn.pipeline import Pipeline\n",
        "from sklearn.model_selection import KFold\n",
        "from sklearn.metrics import mean_squared_error, r2_score\n",
        "from sklearn.model_selection import train_test_split"
      ],
      "execution_count": 100,
      "outputs": []
    },
    {
      "cell_type": "code",
      "metadata": {
        "colab": {
          "base_uri": "https://localhost:8080/",
          "height": 606
        },
        "id": "eas_FQ7LiTr9",
        "outputId": "20b34dd0-e943-41cb-f0b9-617ca74b3899"
      },
      "source": [
        "df = pd.read_csv(\"drive/MyDrive/DATA 310/weatherHistory.csv\")\n",
        "df"
      ],
      "execution_count": 3,
      "outputs": [
        {
          "output_type": "execute_result",
          "data": {
            "text/html": [
              "<div>\n",
              "<style scoped>\n",
              "    .dataframe tbody tr th:only-of-type {\n",
              "        vertical-align: middle;\n",
              "    }\n",
              "\n",
              "    .dataframe tbody tr th {\n",
              "        vertical-align: top;\n",
              "    }\n",
              "\n",
              "    .dataframe thead th {\n",
              "        text-align: right;\n",
              "    }\n",
              "</style>\n",
              "<table border=\"1\" class=\"dataframe\">\n",
              "  <thead>\n",
              "    <tr style=\"text-align: right;\">\n",
              "      <th></th>\n",
              "      <th>Formatted Date</th>\n",
              "      <th>Summary</th>\n",
              "      <th>Precip Type</th>\n",
              "      <th>Temperature (C)</th>\n",
              "      <th>Apparent Temperature (C)</th>\n",
              "      <th>Humidity</th>\n",
              "      <th>Wind Speed (km/h)</th>\n",
              "      <th>Wind Bearing (degrees)</th>\n",
              "      <th>Visibility (km)</th>\n",
              "      <th>Loud Cover</th>\n",
              "      <th>Pressure (millibars)</th>\n",
              "      <th>Daily Summary</th>\n",
              "    </tr>\n",
              "  </thead>\n",
              "  <tbody>\n",
              "    <tr>\n",
              "      <th>0</th>\n",
              "      <td>2006-04-01 00:00:00.000 +0200</td>\n",
              "      <td>Partly Cloudy</td>\n",
              "      <td>rain</td>\n",
              "      <td>9.472222</td>\n",
              "      <td>7.388889</td>\n",
              "      <td>0.89</td>\n",
              "      <td>14.1197</td>\n",
              "      <td>251.0</td>\n",
              "      <td>15.8263</td>\n",
              "      <td>0.0</td>\n",
              "      <td>1015.13</td>\n",
              "      <td>Partly cloudy throughout the day.</td>\n",
              "    </tr>\n",
              "    <tr>\n",
              "      <th>1</th>\n",
              "      <td>2006-04-01 01:00:00.000 +0200</td>\n",
              "      <td>Partly Cloudy</td>\n",
              "      <td>rain</td>\n",
              "      <td>9.355556</td>\n",
              "      <td>7.227778</td>\n",
              "      <td>0.86</td>\n",
              "      <td>14.2646</td>\n",
              "      <td>259.0</td>\n",
              "      <td>15.8263</td>\n",
              "      <td>0.0</td>\n",
              "      <td>1015.63</td>\n",
              "      <td>Partly cloudy throughout the day.</td>\n",
              "    </tr>\n",
              "    <tr>\n",
              "      <th>2</th>\n",
              "      <td>2006-04-01 02:00:00.000 +0200</td>\n",
              "      <td>Mostly Cloudy</td>\n",
              "      <td>rain</td>\n",
              "      <td>9.377778</td>\n",
              "      <td>9.377778</td>\n",
              "      <td>0.89</td>\n",
              "      <td>3.9284</td>\n",
              "      <td>204.0</td>\n",
              "      <td>14.9569</td>\n",
              "      <td>0.0</td>\n",
              "      <td>1015.94</td>\n",
              "      <td>Partly cloudy throughout the day.</td>\n",
              "    </tr>\n",
              "    <tr>\n",
              "      <th>3</th>\n",
              "      <td>2006-04-01 03:00:00.000 +0200</td>\n",
              "      <td>Partly Cloudy</td>\n",
              "      <td>rain</td>\n",
              "      <td>8.288889</td>\n",
              "      <td>5.944444</td>\n",
              "      <td>0.83</td>\n",
              "      <td>14.1036</td>\n",
              "      <td>269.0</td>\n",
              "      <td>15.8263</td>\n",
              "      <td>0.0</td>\n",
              "      <td>1016.41</td>\n",
              "      <td>Partly cloudy throughout the day.</td>\n",
              "    </tr>\n",
              "    <tr>\n",
              "      <th>4</th>\n",
              "      <td>2006-04-01 04:00:00.000 +0200</td>\n",
              "      <td>Mostly Cloudy</td>\n",
              "      <td>rain</td>\n",
              "      <td>8.755556</td>\n",
              "      <td>6.977778</td>\n",
              "      <td>0.83</td>\n",
              "      <td>11.0446</td>\n",
              "      <td>259.0</td>\n",
              "      <td>15.8263</td>\n",
              "      <td>0.0</td>\n",
              "      <td>1016.51</td>\n",
              "      <td>Partly cloudy throughout the day.</td>\n",
              "    </tr>\n",
              "    <tr>\n",
              "      <th>...</th>\n",
              "      <td>...</td>\n",
              "      <td>...</td>\n",
              "      <td>...</td>\n",
              "      <td>...</td>\n",
              "      <td>...</td>\n",
              "      <td>...</td>\n",
              "      <td>...</td>\n",
              "      <td>...</td>\n",
              "      <td>...</td>\n",
              "      <td>...</td>\n",
              "      <td>...</td>\n",
              "      <td>...</td>\n",
              "    </tr>\n",
              "    <tr>\n",
              "      <th>96448</th>\n",
              "      <td>2016-09-09 19:00:00.000 +0200</td>\n",
              "      <td>Partly Cloudy</td>\n",
              "      <td>rain</td>\n",
              "      <td>26.016667</td>\n",
              "      <td>26.016667</td>\n",
              "      <td>0.43</td>\n",
              "      <td>10.9963</td>\n",
              "      <td>31.0</td>\n",
              "      <td>16.1000</td>\n",
              "      <td>0.0</td>\n",
              "      <td>1014.36</td>\n",
              "      <td>Partly cloudy starting in the morning.</td>\n",
              "    </tr>\n",
              "    <tr>\n",
              "      <th>96449</th>\n",
              "      <td>2016-09-09 20:00:00.000 +0200</td>\n",
              "      <td>Partly Cloudy</td>\n",
              "      <td>rain</td>\n",
              "      <td>24.583333</td>\n",
              "      <td>24.583333</td>\n",
              "      <td>0.48</td>\n",
              "      <td>10.0947</td>\n",
              "      <td>20.0</td>\n",
              "      <td>15.5526</td>\n",
              "      <td>0.0</td>\n",
              "      <td>1015.16</td>\n",
              "      <td>Partly cloudy starting in the morning.</td>\n",
              "    </tr>\n",
              "    <tr>\n",
              "      <th>96450</th>\n",
              "      <td>2016-09-09 21:00:00.000 +0200</td>\n",
              "      <td>Partly Cloudy</td>\n",
              "      <td>rain</td>\n",
              "      <td>22.038889</td>\n",
              "      <td>22.038889</td>\n",
              "      <td>0.56</td>\n",
              "      <td>8.9838</td>\n",
              "      <td>30.0</td>\n",
              "      <td>16.1000</td>\n",
              "      <td>0.0</td>\n",
              "      <td>1015.66</td>\n",
              "      <td>Partly cloudy starting in the morning.</td>\n",
              "    </tr>\n",
              "    <tr>\n",
              "      <th>96451</th>\n",
              "      <td>2016-09-09 22:00:00.000 +0200</td>\n",
              "      <td>Partly Cloudy</td>\n",
              "      <td>rain</td>\n",
              "      <td>21.522222</td>\n",
              "      <td>21.522222</td>\n",
              "      <td>0.60</td>\n",
              "      <td>10.5294</td>\n",
              "      <td>20.0</td>\n",
              "      <td>16.1000</td>\n",
              "      <td>0.0</td>\n",
              "      <td>1015.95</td>\n",
              "      <td>Partly cloudy starting in the morning.</td>\n",
              "    </tr>\n",
              "    <tr>\n",
              "      <th>96452</th>\n",
              "      <td>2016-09-09 23:00:00.000 +0200</td>\n",
              "      <td>Partly Cloudy</td>\n",
              "      <td>rain</td>\n",
              "      <td>20.438889</td>\n",
              "      <td>20.438889</td>\n",
              "      <td>0.61</td>\n",
              "      <td>5.8765</td>\n",
              "      <td>39.0</td>\n",
              "      <td>15.5204</td>\n",
              "      <td>0.0</td>\n",
              "      <td>1016.16</td>\n",
              "      <td>Partly cloudy starting in the morning.</td>\n",
              "    </tr>\n",
              "  </tbody>\n",
              "</table>\n",
              "<p>96453 rows × 12 columns</p>\n",
              "</div>"
            ],
            "text/plain": [
              "                      Formatted Date  ...                           Daily Summary\n",
              "0      2006-04-01 00:00:00.000 +0200  ...       Partly cloudy throughout the day.\n",
              "1      2006-04-01 01:00:00.000 +0200  ...       Partly cloudy throughout the day.\n",
              "2      2006-04-01 02:00:00.000 +0200  ...       Partly cloudy throughout the day.\n",
              "3      2006-04-01 03:00:00.000 +0200  ...       Partly cloudy throughout the day.\n",
              "4      2006-04-01 04:00:00.000 +0200  ...       Partly cloudy throughout the day.\n",
              "...                              ...  ...                                     ...\n",
              "96448  2016-09-09 19:00:00.000 +0200  ...  Partly cloudy starting in the morning.\n",
              "96449  2016-09-09 20:00:00.000 +0200  ...  Partly cloudy starting in the morning.\n",
              "96450  2016-09-09 21:00:00.000 +0200  ...  Partly cloudy starting in the morning.\n",
              "96451  2016-09-09 22:00:00.000 +0200  ...  Partly cloudy starting in the morning.\n",
              "96452  2016-09-09 23:00:00.000 +0200  ...  Partly cloudy starting in the morning.\n",
              "\n",
              "[96453 rows x 12 columns]"
            ]
          },
          "metadata": {
            "tags": []
          },
          "execution_count": 3
        }
      ]
    },
    {
      "cell_type": "markdown",
      "metadata": {
        "id": "6jtps9W3h3u8"
      },
      "source": [
        "2. In the weatherHistory.csv data how many features are just nominal variables?\n",
        "\n",
        "Summary, Precip Type, Daily Summary == 3 features"
      ]
    },
    {
      "cell_type": "markdown",
      "metadata": {
        "id": "9XEfJ9y-jyqj"
      },
      "source": [
        "3. If we want to use all the unstandardized observations for 'Temperature (C)' and predict the Humidity the resulting root mean squared error is (just copy the first 4 decimal places):"
      ]
    },
    {
      "cell_type": "code",
      "metadata": {
        "colab": {
          "base_uri": "https://localhost:8080/",
          "height": 419
        },
        "id": "4A45D5krmfEZ",
        "outputId": "717d4606-2057-4a17-d6df-4aa7a076b6e4"
      },
      "source": [
        "temp = df[\"Temperature (C)\"]\n",
        "humidity = df[\"Humidity\"]\n",
        "temp_df = df[[\"Temperature (C)\"]]\n",
        "humidity_df = df[[\"Humidity\"]]"
      ],
      "execution_count": 67,
      "outputs": [
        {
          "output_type": "execute_result",
          "data": {
            "text/html": [
              "<div>\n",
              "<style scoped>\n",
              "    .dataframe tbody tr th:only-of-type {\n",
              "        vertical-align: middle;\n",
              "    }\n",
              "\n",
              "    .dataframe tbody tr th {\n",
              "        vertical-align: top;\n",
              "    }\n",
              "\n",
              "    .dataframe thead th {\n",
              "        text-align: right;\n",
              "    }\n",
              "</style>\n",
              "<table border=\"1\" class=\"dataframe\">\n",
              "  <thead>\n",
              "    <tr style=\"text-align: right;\">\n",
              "      <th></th>\n",
              "      <th>Temperature (C)</th>\n",
              "    </tr>\n",
              "  </thead>\n",
              "  <tbody>\n",
              "    <tr>\n",
              "      <th>0</th>\n",
              "      <td>9.472222</td>\n",
              "    </tr>\n",
              "    <tr>\n",
              "      <th>1</th>\n",
              "      <td>9.355556</td>\n",
              "    </tr>\n",
              "    <tr>\n",
              "      <th>2</th>\n",
              "      <td>9.377778</td>\n",
              "    </tr>\n",
              "    <tr>\n",
              "      <th>3</th>\n",
              "      <td>8.288889</td>\n",
              "    </tr>\n",
              "    <tr>\n",
              "      <th>4</th>\n",
              "      <td>8.755556</td>\n",
              "    </tr>\n",
              "    <tr>\n",
              "      <th>...</th>\n",
              "      <td>...</td>\n",
              "    </tr>\n",
              "    <tr>\n",
              "      <th>96448</th>\n",
              "      <td>26.016667</td>\n",
              "    </tr>\n",
              "    <tr>\n",
              "      <th>96449</th>\n",
              "      <td>24.583333</td>\n",
              "    </tr>\n",
              "    <tr>\n",
              "      <th>96450</th>\n",
              "      <td>22.038889</td>\n",
              "    </tr>\n",
              "    <tr>\n",
              "      <th>96451</th>\n",
              "      <td>21.522222</td>\n",
              "    </tr>\n",
              "    <tr>\n",
              "      <th>96452</th>\n",
              "      <td>20.438889</td>\n",
              "    </tr>\n",
              "  </tbody>\n",
              "</table>\n",
              "<p>96453 rows × 1 columns</p>\n",
              "</div>"
            ],
            "text/plain": [
              "       Temperature (C)\n",
              "0             9.472222\n",
              "1             9.355556\n",
              "2             9.377778\n",
              "3             8.288889\n",
              "4             8.755556\n",
              "...                ...\n",
              "96448        26.016667\n",
              "96449        24.583333\n",
              "96450        22.038889\n",
              "96451        21.522222\n",
              "96452        20.438889\n",
              "\n",
              "[96453 rows x 1 columns]"
            ]
          },
          "metadata": {
            "tags": []
          },
          "execution_count": 67
        }
      ]
    },
    {
      "cell_type": "code",
      "metadata": {
        "id": "pTi2TBJPQBj5"
      },
      "source": [
        "temps = temp.values\n",
        "humidities = humidity.values"
      ],
      "execution_count": 178,
      "outputs": []
    },
    {
      "cell_type": "code",
      "metadata": {
        "colab": {
          "base_uri": "https://localhost:8080/"
        },
        "id": "37_gu85dPaNI",
        "outputId": "16cf9c67-1e56-433d-ee41-6ce5a2c2a4e0"
      },
      "source": [
        "model = LinearRegression()\n",
        "model.fit(temps.reshape(-1,1), humidities)"
      ],
      "execution_count": 179,
      "outputs": [
        {
          "output_type": "execute_result",
          "data": {
            "text/plain": [
              "LinearRegression(copy_X=True, fit_intercept=True, n_jobs=None, normalize=False)"
            ]
          },
          "metadata": {
            "tags": []
          },
          "execution_count": 179
        }
      ]
    },
    {
      "cell_type": "code",
      "metadata": {
        "colab": {
          "base_uri": "https://localhost:8080/"
        },
        "id": "XJF4xbVojBdL",
        "outputId": "3f9cf087-100a-48c7-a3e1-8f083a93586e"
      },
      "source": [
        "y_pred = model.predict(temps.reshape(-1,1))\n",
        "mse = mean_squared_error(temp, humidity)\n",
        "rmse = mean_squared_error(humidities, y_pred, squared=False)\n",
        "print(mse)\n",
        "print(rmse)\n",
        "#((temp - humidity) ** 2).mean()**.5"
      ],
      "execution_count": 180,
      "outputs": [
        {
          "output_type": "stream",
          "text": [
            "219.02046462804827\n",
            "0.1514437964005473\n"
          ],
          "name": "stdout"
        }
      ]
    },
    {
      "cell_type": "markdown",
      "metadata": {
        "id": "wYDb6IwHpMm4"
      },
      "source": [
        "4. If the input feature is the Temperature and the target is the Humidity and we consider 20-fold cross validations with random_state=2020, the Ridge model with alpha =0.1 and standardize the input train and the input test data. The average RMSE on the test sets is (provide your answer with the first 6 decimal places):"
      ]
    },
    {
      "cell_type": "code",
      "metadata": {
        "colab": {
          "base_uri": "https://localhost:8080/"
        },
        "id": "EvNZBe-JqZgj",
        "outputId": "3191db16-9ca1-4e82-b87c-cd06dee63571"
      },
      "source": [
        "kf = KFold(n_splits=20, random_state=2020)"
      ],
      "execution_count": 93,
      "outputs": [
        {
          "output_type": "stream",
          "text": [
            "/usr/local/lib/python3.7/dist-packages/sklearn/model_selection/_split.py:296: FutureWarning: Setting a random_state has no effect since shuffle is False. This will raise an error in 0.24. You should leave random_state to its default (None), or set shuffle=True.\n",
            "  FutureWarning\n"
          ],
          "name": "stderr"
        }
      ]
    },
    {
      "cell_type": "code",
      "metadata": {
        "colab": {
          "base_uri": "https://localhost:8080/"
        },
        "id": "F8oScscl4610",
        "outputId": "bdb0c0a0-6ace-4c3e-99df-0e390fd0ba72"
      },
      "source": [
        "X = np.array(df['Temperature (C)']).reshape(-1,1)\n",
        "y = np.array(df['Humidity']).reshape(-1,1)\n",
        "i = 0\n",
        "PE = []\n",
        "for train_index, test_index in kf.split(X):\n",
        "  X_train, X_test, y_train, y_test = train_test_split(X, y)\n",
        "  Xs_train = scale.fit_transform(X_train)\n",
        "  Xs_test  = scale.transform(X_test)\n",
        "  model = Ridge(alpha=0.1)\n",
        "  model.fit(Xs_train, y_train)\n",
        "  yhat =  model.predict(Xs_test)\n",
        "  #residuals = y_test - yhat\n",
        "  PE.append(np.sqrt(mean_squared_error(y_test, yhat)))\n",
        "  print('Score:',np.sqrt(mean_squared_error(y_test, yhat)))\n",
        "\n",
        "np.mean(PE)"
      ],
      "execution_count": 103,
      "outputs": [
        {
          "output_type": "stream",
          "text": [
            "Score: 0.15243946139414918\n",
            "Score: 0.1497134147114123\n",
            "Score: 0.15174554826675243\n",
            "Score: 0.15092143247918785\n",
            "Score: 0.1518217611104383\n",
            "Score: 0.15147821220668592\n",
            "Score: 0.1513978836664639\n",
            "Score: 0.15094448816388154\n",
            "Score: 0.15228558027449265\n",
            "Score: 0.15150817881118953\n",
            "Score: 0.1520007677305962\n",
            "Score: 0.15033627222044127\n",
            "Score: 0.15228697781705297\n",
            "Score: 0.15100633815098632\n",
            "Score: 0.15026592257206808\n",
            "Score: 0.15175917621636525\n",
            "Score: 0.15306225069868734\n",
            "Score: 0.15156939236668762\n",
            "Score: 0.15169701401507518\n",
            "Score: 0.150466516675432\n"
          ],
          "name": "stdout"
        },
        {
          "output_type": "execute_result",
          "data": {
            "text/plain": [
              "0.1514353294774023"
            ]
          },
          "metadata": {
            "tags": []
          },
          "execution_count": 103
        }
      ]
    },
    {
      "cell_type": "markdown",
      "metadata": {
        "id": "2X84nmzb60Z2"
      },
      "source": [
        "5. Suppose we want to use Random Forrest with 100 trees and max_depth=50 to predict the Humidity with the Apparent Temperature and we want to estimate the root mean squared error by using 10-cross validations (random_state=1693) and computing the average of RMSE on the test sets. The result we get is  (provide your answer with the first 6 decimal places):"
      ]
    },
    {
      "cell_type": "code",
      "metadata": {
        "colab": {
          "base_uri": "https://localhost:8080/"
        },
        "id": "7L68C7yI5NT3",
        "outputId": "75d1357b-b9e2-4eef-d10d-d1dada8030e8"
      },
      "source": [
        "from sklearn.ensemble import RandomForestRegressor\n",
        "RF_reg = RandomForestRegressor(n_estimators=100,max_depth=50)\n",
        "kf = KFold(n_splits=10, random_state=1693)"
      ],
      "execution_count": 104,
      "outputs": [
        {
          "output_type": "stream",
          "text": [
            "/usr/local/lib/python3.7/dist-packages/sklearn/model_selection/_split.py:296: FutureWarning: Setting a random_state has no effect since shuffle is False. This will raise an error in 0.24. You should leave random_state to its default (None), or set shuffle=True.\n",
            "  FutureWarning\n"
          ],
          "name": "stderr"
        }
      ]
    },
    {
      "cell_type": "code",
      "metadata": {
        "colab": {
          "base_uri": "https://localhost:8080/"
        },
        "id": "UK5T3YtPrLRd",
        "outputId": "9d6c6bd7-b60e-4bca-e717-8b666fd99e67"
      },
      "source": [
        "X = np.array(df['Apparent Temperature (C)']).reshape(-1,1)\n",
        "y = np.array(df['Humidity']).reshape(-1,1)\n",
        "i = 0\n",
        "PE = []\n",
        "for train_index, test_index in kf.split(X):\n",
        "  X_train, X_test, y_train, y_test = train_test_split(X, y)\n",
        "  model = RF_reg.fit(X_train,y_train.ravel())\n",
        "  model.fit(X_train, y_train)\n",
        "  yhat =  model.predict(X_test)\n",
        "  PE.append(np.sqrt(mean_squared_error(y_test, yhat)))\n",
        "\n",
        "np.mean(PE)"
      ],
      "execution_count": 184,
      "outputs": [
        {
          "output_type": "stream",
          "text": [
            "/usr/local/lib/python3.7/dist-packages/ipykernel_launcher.py:8: DataConversionWarning: A column-vector y was passed when a 1d array was expected. Please change the shape of y to (n_samples,), for example using ravel().\n",
            "  \n",
            "/usr/local/lib/python3.7/dist-packages/ipykernel_launcher.py:8: DataConversionWarning: A column-vector y was passed when a 1d array was expected. Please change the shape of y to (n_samples,), for example using ravel().\n",
            "  \n",
            "/usr/local/lib/python3.7/dist-packages/ipykernel_launcher.py:8: DataConversionWarning: A column-vector y was passed when a 1d array was expected. Please change the shape of y to (n_samples,), for example using ravel().\n",
            "  \n",
            "/usr/local/lib/python3.7/dist-packages/ipykernel_launcher.py:8: DataConversionWarning: A column-vector y was passed when a 1d array was expected. Please change the shape of y to (n_samples,), for example using ravel().\n",
            "  \n",
            "/usr/local/lib/python3.7/dist-packages/ipykernel_launcher.py:8: DataConversionWarning: A column-vector y was passed when a 1d array was expected. Please change the shape of y to (n_samples,), for example using ravel().\n",
            "  \n",
            "/usr/local/lib/python3.7/dist-packages/ipykernel_launcher.py:8: DataConversionWarning: A column-vector y was passed when a 1d array was expected. Please change the shape of y to (n_samples,), for example using ravel().\n",
            "  \n",
            "/usr/local/lib/python3.7/dist-packages/ipykernel_launcher.py:8: DataConversionWarning: A column-vector y was passed when a 1d array was expected. Please change the shape of y to (n_samples,), for example using ravel().\n",
            "  \n",
            "/usr/local/lib/python3.7/dist-packages/ipykernel_launcher.py:8: DataConversionWarning: A column-vector y was passed when a 1d array was expected. Please change the shape of y to (n_samples,), for example using ravel().\n",
            "  \n",
            "/usr/local/lib/python3.7/dist-packages/ipykernel_launcher.py:8: DataConversionWarning: A column-vector y was passed when a 1d array was expected. Please change the shape of y to (n_samples,), for example using ravel().\n",
            "  \n",
            "/usr/local/lib/python3.7/dist-packages/ipykernel_launcher.py:8: DataConversionWarning: A column-vector y was passed when a 1d array was expected. Please change the shape of y to (n_samples,), for example using ravel().\n",
            "  \n"
          ],
          "name": "stderr"
        },
        {
          "output_type": "execute_result",
          "data": {
            "text/plain": [
              "0.14429549270660708"
            ]
          },
          "metadata": {
            "tags": []
          },
          "execution_count": 184
        }
      ]
    },
    {
      "cell_type": "markdown",
      "metadata": {
        "id": "UjnoRY6i8-97"
      },
      "source": [
        "6. Suppose we want use polynomial features of degree 6 and we want to predict the Humidity with the Apparent Temperature and we want to estimate the root mean squared error by using 10-fold cross-validations (random_state=1693) and computing the average of RMSE on the test sets. The result we get is  (provide your answer with the first 5 decimal places):"
      ]
    },
    {
      "cell_type": "code",
      "metadata": {
        "colab": {
          "base_uri": "https://localhost:8080/"
        },
        "id": "94NKWoiF8vOD",
        "outputId": "72681399-2004-4154-9ec4-a12a359ce3e9"
      },
      "source": [
        "polynomial_features= PolynomialFeatures(degree=6)\n",
        "model = LinearRegression()\n",
        "kf = KFold(n_splits=10, random_state=1693)\n",
        "X = np.array(df['Apparent Temperature (C)'])#.reshape(-1,1)\n",
        "y = np.array(df['Humidity'])#.reshape(-1,1)"
      ],
      "execution_count": 185,
      "outputs": [
        {
          "output_type": "stream",
          "text": [
            "/usr/local/lib/python3.7/dist-packages/sklearn/model_selection/_split.py:296: FutureWarning: Setting a random_state has no effect since shuffle is False. This will raise an error in 0.24. You should leave random_state to its default (None), or set shuffle=True.\n",
            "  FutureWarning\n"
          ],
          "name": "stderr"
        }
      ]
    },
    {
      "cell_type": "code",
      "metadata": {
        "id": "2TuFiwK3AC68"
      },
      "source": [
        "MSE_train = []\n",
        "MSE_test = []\n",
        "RMSE_test = []\n",
        "for idxtrain, idxtest in kf.split(X):\n",
        "  x_train = X[idxtrain]\n",
        "  x_test = X[idxtest]\n",
        "  y_train = y[idxtrain]\n",
        "  y_test  = y[idxtest]\n",
        "  x_poly_train = polynomial_features.fit_transform(np.array(x_train).reshape(-1,1))\n",
        "  x_poly_test = polynomial_features.fit_transform(np.array(x_test).reshape(-1,1))\n",
        "  model.fit(x_poly_train,y_train)\n",
        "  yhat_train = model.predict(x_poly_train)\n",
        "  yhat_test = model.predict(x_poly_test)\n",
        "  #MSE_train.append(mean_squared_error(y_train,yhat_train))\n",
        "  #MSE_test.append(mean_squared_error(y_test,yhat_test))\n",
        "  RMSE_test.append(np.sqrt(mean_squared_error(y_test,yhat_test)))"
      ],
      "execution_count": 186,
      "outputs": []
    },
    {
      "cell_type": "code",
      "metadata": {
        "colab": {
          "base_uri": "https://localhost:8080/"
        },
        "id": "IdbSuo4yAXpO",
        "outputId": "254161cd-e256-4e6c-e537-9e75a3ffe8fd"
      },
      "source": [
        "np.mean(RMSE_test)"
      ],
      "execution_count": 187,
      "outputs": [
        {
          "output_type": "execute_result",
          "data": {
            "text/plain": [
              "0.14389279091847298"
            ]
          },
          "metadata": {
            "tags": []
          },
          "execution_count": 187
        }
      ]
    },
    {
      "cell_type": "markdown",
      "metadata": {
        "id": "5lWaEiFBAxqi"
      },
      "source": [
        "7. If the input feature is the Temperature and the target is the Humidity and we consider 10-fold cross validations with random_state=1234, the Ridge model with alpha =0.2. Inside the cross-validation loop standardize the input data. The average RMSE on the test sets is (provide your answer with the first 4 decimal places):"
      ]
    },
    {
      "cell_type": "code",
      "metadata": {
        "colab": {
          "base_uri": "https://localhost:8080/"
        },
        "id": "IOaqguHIAydB",
        "outputId": "3a567ed9-8085-472e-bf87-213109a8b32d"
      },
      "source": [
        "kf = KFold(n_splits=10, random_state=1234)\n",
        "X = np.array(df['Temperature (C)']).reshape(-1,1)\n",
        "y = np.array(df['Humidity']).reshape(-1,1)\n",
        "i = 0\n",
        "PE = []\n",
        "for train_index, test_index in kf.split(X):\n",
        "  X_train, X_test, y_train, y_test = train_test_split(X, y)\n",
        "  Xs_train = scale.fit_transform(X_train)\n",
        "  Xs_test  = scale.transform(X_test)\n",
        "  model = Ridge(alpha=0.2)\n",
        "  model.fit(Xs_train, y_train)\n",
        "  yhat =  model.predict(Xs_test)\n",
        "  #residuals = y_test - yhat\n",
        "  PE.append(np.sqrt(mean_squared_error(y_test, yhat)))\n",
        "  print('Score:',np.sqrt(mean_squared_error(y_test, yhat)))\n",
        "\n",
        "np.mean(PE)"
      ],
      "execution_count": 207,
      "outputs": [
        {
          "output_type": "stream",
          "text": [
            "Score: 0.15129905918930545\n",
            "Score: 0.15271624353909277\n",
            "Score: 0.15093773146411452\n",
            "Score: 0.15200037775990952\n",
            "Score: 0.15234740182125378\n",
            "Score: 0.1514435249966898\n",
            "Score: 0.15254452285599132\n",
            "Score: 0.1507016367460954\n",
            "Score: 0.15178978915816502\n",
            "Score: 0.15178640924160164\n"
          ],
          "name": "stdout"
        },
        {
          "output_type": "stream",
          "text": [
            "/usr/local/lib/python3.7/dist-packages/sklearn/model_selection/_split.py:296: FutureWarning: Setting a random_state has no effect since shuffle is False. This will raise an error in 0.24. You should leave random_state to its default (None), or set shuffle=True.\n",
            "  FutureWarning\n"
          ],
          "name": "stderr"
        },
        {
          "output_type": "execute_result",
          "data": {
            "text/plain": [
              "0.15175666967722193"
            ]
          },
          "metadata": {
            "tags": []
          },
          "execution_count": 207
        }
      ]
    },
    {
      "cell_type": "markdown",
      "metadata": {
        "id": "an0VT0UuFlcc"
      },
      "source": [
        "8. Suppose we use polynomial features of degree 6 and we want to predict the Temperature by using 'Humidity','Wind Speed (km/h)','Pressure (millibars)','Wind Bearing (degrees)' We want to estimate the root mean squared error by using 10-fold cross-validations (random_state=1234) and computing the average of RMSE on the test sets. The result we get is  (provide your answer with the first 4 decimal places):"
      ]
    },
    {
      "cell_type": "code",
      "metadata": {
        "colab": {
          "base_uri": "https://localhost:8080/"
        },
        "id": "GZoboRV5Fmpa",
        "outputId": "de0bc084-c481-4cce-c834-5b5ab071ee29"
      },
      "source": [
        "polynomial_features= PolynomialFeatures(degree=6)\n",
        "model = LinearRegression()\n",
        "kf = KFold(n_splits=10, random_state=1234)\n",
        "y = np.array(df['Temperature (C)'])#.reshape(-1,1)\n",
        "X = np.array(df[['Humidity','Wind Speed (km/h)','Pressure (millibars)','Wind Bearing (degrees)']])#.reshape(-1,1)"
      ],
      "execution_count": 217,
      "outputs": [
        {
          "output_type": "stream",
          "text": [
            "/usr/local/lib/python3.7/dist-packages/sklearn/model_selection/_split.py:296: FutureWarning: Setting a random_state has no effect since shuffle is False. This will raise an error in 0.24. You should leave random_state to its default (None), or set shuffle=True.\n",
            "  FutureWarning\n"
          ],
          "name": "stderr"
        }
      ]
    },
    {
      "cell_type": "code",
      "metadata": {
        "id": "x72vRFnnFsdE"
      },
      "source": [
        "MSE_train = []\n",
        "MSE_test = []\n",
        "RMSE_test = []\n",
        "for idxtrain, idxtest in kf.split(X):\n",
        "  x_train = X[idxtrain]\n",
        "  x_test = X[idxtest]\n",
        "  y_train = y[idxtrain]\n",
        "  y_test  = y[idxtest]\n",
        "  x_poly_train = polynomial_features.fit_transform(x_train)\n",
        "  x_poly_test = polynomial_features.fit_transform(x_test)\n",
        "  model.fit(x_poly_train,y_train)\n",
        "  yhat_train = model.predict(x_poly_train)\n",
        "  yhat_test = model.predict(x_poly_test)\n",
        "  #MSE_train.append(mean_squared_error(y_train,yhat_train))\n",
        "  #MSE_test.append(mean_squared_error(y_test,yhat_test))\n",
        "  RMSE_test.append(np.sqrt(mean_squared_error(y_test,yhat_test)))"
      ],
      "execution_count": 219,
      "outputs": []
    },
    {
      "cell_type": "code",
      "metadata": {
        "colab": {
          "base_uri": "https://localhost:8080/"
        },
        "id": "1Qt3R-JjGc0S",
        "outputId": "c1e664f5-c1b4-48d4-ecca-95c4f2318cb3"
      },
      "source": [
        "np.mean(RMSE_test)"
      ],
      "execution_count": 223,
      "outputs": [
        {
          "output_type": "execute_result",
          "data": {
            "text/plain": [
              "6.188745982962139"
            ]
          },
          "metadata": {
            "tags": []
          },
          "execution_count": 223
        }
      ]
    },
    {
      "cell_type": "markdown",
      "metadata": {
        "id": "DrBYUoYhGlva"
      },
      "source": [
        "9. Suppose we use Random Forest with 100 trees and max_depth=50 and we want to predict the Temperature by using 'Humidity','Wind Speed (km/h)','Pressure (millibars)','Wind Bearing (degrees)' We want to estimate the root mean squared error by using 10-fold cross-validations (random_state=1234) and computing the average of RMSE on the test sets. The result we get is  (provide your answer with the first 4 decimal places):"
      ]
    },
    {
      "cell_type": "code",
      "metadata": {
        "colab": {
          "base_uri": "https://localhost:8080/"
        },
        "id": "Yr_ZnmQsGdqX",
        "outputId": "6053f994-5517-433a-b83e-3e802ef46967"
      },
      "source": [
        "from sklearn.ensemble import RandomForestRegressor\n",
        "RF_reg = RandomForestRegressor(n_estimators=100,max_depth=50)\n",
        "kf = KFold(n_splits=10, random_state=1234)"
      ],
      "execution_count": 224,
      "outputs": [
        {
          "output_type": "stream",
          "text": [
            "/usr/local/lib/python3.7/dist-packages/sklearn/model_selection/_split.py:296: FutureWarning: Setting a random_state has no effect since shuffle is False. This will raise an error in 0.24. You should leave random_state to its default (None), or set shuffle=True.\n",
            "  FutureWarning\n"
          ],
          "name": "stderr"
        }
      ]
    },
    {
      "cell_type": "code",
      "metadata": {
        "colab": {
          "base_uri": "https://localhost:8080/"
        },
        "id": "s2u1D7V9Gz7R",
        "outputId": "b99421c8-47b8-41b2-fc22-63bd25e1dc3d"
      },
      "source": [
        "y = np.array(df['Temperature (C)'])#.reshape(-1,1)\n",
        "X = np.array(df[['Humidity','Wind Speed (km/h)','Pressure (millibars)','Wind Bearing (degrees)']])#.reshape(-1,1)\n",
        "i = 0\n",
        "PE = []\n",
        "\n",
        "for idxtrain, idxtest in kf.split(X):\n",
        "  x_train = X[idxtrain]\n",
        "  x_test = X[idxtest]\n",
        "  y_train = y[idxtrain]\n",
        "  y_test  = y[idxtest]\n",
        "  model = RF_reg.fit(x_train,y_train)\n",
        "  model.fit(x_train, y_train)\n",
        "  yhat =  model.predict(x_test)\n",
        "  PE.append(np.sqrt(mean_squared_error(y_test, yhat)))\n",
        "\n",
        "np.mean(PE)"
      ],
      "execution_count": 225,
      "outputs": [
        {
          "output_type": "execute_result",
          "data": {
            "text/plain": [
              "6.286343719510997"
            ]
          },
          "metadata": {
            "tags": []
          },
          "execution_count": 225
        }
      ]
    },
    {
      "cell_type": "code",
      "metadata": {
        "colab": {
          "base_uri": "https://localhost:8080/"
        },
        "id": "VxTUduoobwOE",
        "outputId": "73f9bcfa-2543-4406-bf7e-8895a2d79097"
      },
      "source": [
        "y = np.array(df['Temperature (C)'])#.reshape(-1,1)\n",
        "X = np.array(df[['Humidity','Wind Speed (km/h)','Pressure (millibars)','Wind Bearing (degrees)']])#.reshape(-1,1)\n",
        "i = 0\n",
        "PE = []\n",
        "\n",
        "for idxtrain, idxtest in kf.split(X):\n",
        "  x_train = X[idxtrain]\n",
        "  x_test = X[idxtest]\n",
        "  y_train = y[idxtrain]\n",
        "  y_test  = y[idxtest]\n",
        "  model = RF_reg.fit(x_train,y_train.ravel())\n",
        "  model.fit(x_train, y_train)\n",
        "  yhat =  model.predict(x_test)\n",
        "  PE.append(np.sqrt(mean_squared_error(y_test, yhat)))\n",
        "\n",
        "np.mean(PE)"
      ],
      "execution_count": 226,
      "outputs": [
        {
          "output_type": "execute_result",
          "data": {
            "text/plain": [
              "6.283080963084796"
            ]
          },
          "metadata": {
            "tags": []
          },
          "execution_count": 226
        }
      ]
    },
    {
      "cell_type": "markdown",
      "metadata": {
        "id": "fGXtr26MNF8R"
      },
      "source": [
        "10. If we visualize a scatter plot for Temperature (on the horizontal axis) vs Humidity (on the vertical axis) the overall trend seems to be:"
      ]
    },
    {
      "cell_type": "code",
      "metadata": {
        "id": "l4viRiDmNCNa"
      },
      "source": [
        ""
      ],
      "execution_count": null,
      "outputs": []
    },
    {
      "cell_type": "code",
      "metadata": {
        "colab": {
          "base_uri": "https://localhost:8080/",
          "height": 518
        },
        "id": "qoF9xVBGHFXb",
        "outputId": "aaba2a03-93cb-4c89-aad2-208dd8123745"
      },
      "source": [
        "import matplotlib.pyplot as plt\n",
        "%matplotlib inline\n",
        "%config InlineBackend.figure_format = 'retina'\n",
        "\n",
        "fig, ax = plt.subplots(figsize=(10,8))\n",
        "ax.set_xlim(-25, 45)\n",
        "ax.set_ylim(0, 1.3)\n",
        "ax.scatter(x=df['Temperature (C)'], y=df['Humidity'],s=25)\n",
        "ax.set_xlabel('Temperature (C)',fontsize=14,color='darkgreen')\n",
        "ax.set_ylabel('Humidity',fontsize=14,color='darkgreen')\n",
        "ax.set_title('Temperature vs. Humidity',fontsize=16,color='purple')\n",
        "ax.grid(b=True,which='major', color ='grey', linestyle='-', alpha=0.8)\n",
        "ax.grid(b=True,which='minor', color ='grey', linestyle='--', alpha=0.2)\n",
        "ax.minorticks_on()\n",
        "plt.show()"
      ],
      "execution_count": 174,
      "outputs": [
        {
          "output_type": "display_data",
          "data": {
            "image/png": "[encoded data removed]",
            "text/plain": [
              "<Figure size 720x576 with 1 Axes>"
            ]
          },
          "metadata": {
            "tags": [],
            "image/png": {
              "width": 613,
              "height": 501
            },
            "needs_background": "light"
          }
        }
      ]
    },
    {
      "cell_type": "code",
      "metadata": {
        "colab": {
          "base_uri": "https://localhost:8080/"
        },
        "id": "4iAIvmI7OJyM",
        "outputId": "c8974b45-d20f-4295-9ca3-8a56d9017124"
      },
      "source": [
        "from sklearn.ensemble import RandomForestRegressor\n",
        "RF_reg = RandomForestRegressor(n_estimators=100,max_depth=50)\n",
        "kf = KFold(n_splits=10, random_state=1693)"
      ],
      "execution_count": 181,
      "outputs": [
        {
          "output_type": "stream",
          "text": [
            "/usr/local/lib/python3.7/dist-packages/sklearn/model_selection/_split.py:296: FutureWarning: Setting a random_state has no effect since shuffle is False. This will raise an error in 0.24. You should leave random_state to its default (None), or set shuffle=True.\n",
            "  FutureWarning\n"
          ],
          "name": "stderr"
        }
      ]
    },
    {
      "cell_type": "code",
      "metadata": {
        "colab": {
          "base_uri": "https://localhost:8080/"
        },
        "id": "VQC9toZjRoU8",
        "outputId": "33834005-9d2a-46da-bb4b-aca4ee961ebe"
      },
      "source": [
        "X = np.array(df['Apparent Temperature (C)']).reshape(-1,1)\n",
        "y = np.array(df['Humidity']).reshape(-1,1)\n",
        "i = 0\n",
        "PE = []\n",
        "for train_index, test_index in kf.split(X):\n",
        "  X_train, X_test, y_train, y_test = train_test_split(X, y)\n",
        "  model = RF_reg.fit(X_train,y_train)\n",
        "  model.fit(X_train, y_train)\n",
        "  yhat =  model.predict(X_test)\n",
        "  PE.append(np.sqrt(mean_squared_error(y_test, yhat)))\n",
        "\n",
        "np.mean(PE)"
      ],
      "execution_count": 182,
      "outputs": [
        {
          "output_type": "stream",
          "text": [
            "/usr/local/lib/python3.7/dist-packages/ipykernel_launcher.py:7: DataConversionWarning: A column-vector y was passed when a 1d array was expected. Please change the shape of y to (n_samples,), for example using ravel().\n",
            "  import sys\n",
            "/usr/local/lib/python3.7/dist-packages/ipykernel_launcher.py:8: DataConversionWarning: A column-vector y was passed when a 1d array was expected. Please change the shape of y to (n_samples,), for example using ravel().\n",
            "  \n",
            "/usr/local/lib/python3.7/dist-packages/ipykernel_launcher.py:7: DataConversionWarning: A column-vector y was passed when a 1d array was expected. Please change the shape of y to (n_samples,), for example using ravel().\n",
            "  import sys\n",
            "/usr/local/lib/python3.7/dist-packages/ipykernel_launcher.py:8: DataConversionWarning: A column-vector y was passed when a 1d array was expected. Please change the shape of y to (n_samples,), for example using ravel().\n",
            "  \n",
            "/usr/local/lib/python3.7/dist-packages/ipykernel_launcher.py:7: DataConversionWarning: A column-vector y was passed when a 1d array was expected. Please change the shape of y to (n_samples,), for example using ravel().\n",
            "  import sys\n",
            "/usr/local/lib/python3.7/dist-packages/ipykernel_launcher.py:8: DataConversionWarning: A column-vector y was passed when a 1d array was expected. Please change the shape of y to (n_samples,), for example using ravel().\n",
            "  \n",
            "/usr/local/lib/python3.7/dist-packages/ipykernel_launcher.py:7: DataConversionWarning: A column-vector y was passed when a 1d array was expected. Please change the shape of y to (n_samples,), for example using ravel().\n",
            "  import sys\n",
            "/usr/local/lib/python3.7/dist-packages/ipykernel_launcher.py:8: DataConversionWarning: A column-vector y was passed when a 1d array was expected. Please change the shape of y to (n_samples,), for example using ravel().\n",
            "  \n",
            "/usr/local/lib/python3.7/dist-packages/ipykernel_launcher.py:7: DataConversionWarning: A column-vector y was passed when a 1d array was expected. Please change the shape of y to (n_samples,), for example using ravel().\n",
            "  import sys\n",
            "/usr/local/lib/python3.7/dist-packages/ipykernel_launcher.py:8: DataConversionWarning: A column-vector y was passed when a 1d array was expected. Please change the shape of y to (n_samples,), for example using ravel().\n",
            "  \n",
            "/usr/local/lib/python3.7/dist-packages/ipykernel_launcher.py:7: DataConversionWarning: A column-vector y was passed when a 1d array was expected. Please change the shape of y to (n_samples,), for example using ravel().\n",
            "  import sys\n",
            "/usr/local/lib/python3.7/dist-packages/ipykernel_launcher.py:8: DataConversionWarning: A column-vector y was passed when a 1d array was expected. Please change the shape of y to (n_samples,), for example using ravel().\n",
            "  \n",
            "/usr/local/lib/python3.7/dist-packages/ipykernel_launcher.py:7: DataConversionWarning: A column-vector y was passed when a 1d array was expected. Please change the shape of y to (n_samples,), for example using ravel().\n",
            "  import sys\n",
            "/usr/local/lib/python3.7/dist-packages/ipykernel_launcher.py:8: DataConversionWarning: A column-vector y was passed when a 1d array was expected. Please change the shape of y to (n_samples,), for example using ravel().\n",
            "  \n",
            "/usr/local/lib/python3.7/dist-packages/ipykernel_launcher.py:7: DataConversionWarning: A column-vector y was passed when a 1d array was expected. Please change the shape of y to (n_samples,), for example using ravel().\n",
            "  import sys\n",
            "/usr/local/lib/python3.7/dist-packages/ipykernel_launcher.py:8: DataConversionWarning: A column-vector y was passed when a 1d array was expected. Please change the shape of y to (n_samples,), for example using ravel().\n",
            "  \n",
            "/usr/local/lib/python3.7/dist-packages/ipykernel_launcher.py:7: DataConversionWarning: A column-vector y was passed when a 1d array was expected. Please change the shape of y to (n_samples,), for example using ravel().\n",
            "  import sys\n",
            "/usr/local/lib/python3.7/dist-packages/ipykernel_launcher.py:8: DataConversionWarning: A column-vector y was passed when a 1d array was expected. Please change the shape of y to (n_samples,), for example using ravel().\n",
            "  \n",
            "/usr/local/lib/python3.7/dist-packages/ipykernel_launcher.py:7: DataConversionWarning: A column-vector y was passed when a 1d array was expected. Please change the shape of y to (n_samples,), for example using ravel().\n",
            "  import sys\n",
            "/usr/local/lib/python3.7/dist-packages/ipykernel_launcher.py:8: DataConversionWarning: A column-vector y was passed when a 1d array was expected. Please change the shape of y to (n_samples,), for example using ravel().\n",
            "  \n"
          ],
          "name": "stderr"
        },
        {
          "output_type": "execute_result",
          "data": {
            "text/plain": [
              "0.14488714306796333"
            ]
          },
          "metadata": {
            "tags": []
          },
          "execution_count": 182
        }
      ]
    },
    {
      "cell_type": "code",
      "metadata": {
        "colab": {
          "base_uri": "https://localhost:8080/"
        },
        "id": "645A0FkxRtsU",
        "outputId": "a048fc43-1470-4697-e383-3481554e46b4"
      },
      "source": [
        "X = np.array(df['Apparent Temperature (C)']).reshape(-1,1)\n",
        "y = np.array(df['Humidity'])\n",
        "i = 0\n",
        "PE = []\n",
        "for train_index, test_index in kf.split(X):\n",
        "  X_train, X_test, y_train, y_test = train_test_split(X, y)\n",
        "  model = RF_reg.fit(X_train,y_train.ravel())\n",
        "  model.fit(X_train, y_train)\n",
        "  yhat =  model.predict(X_test)\n",
        "  PE.append(np.sqrt(mean_squared_error(y_test, yhat)))\n",
        "\n",
        "np.mean(PE)"
      ],
      "execution_count": 183,
      "outputs": [
        {
          "output_type": "execute_result",
          "data": {
            "text/plain": [
              "0.14462055895950934"
            ]
          },
          "metadata": {
            "tags": []
          },
          "execution_count": 183
        }
      ]
    }
  ]
}