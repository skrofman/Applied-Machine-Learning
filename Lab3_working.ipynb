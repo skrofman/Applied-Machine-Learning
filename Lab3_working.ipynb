{
  "nbformat": 4,
  "nbformat_minor": 0,
  "metadata": {
    "colab": {
      "name": "Lab3_working.ipynb",
      "provenance": [],
      "collapsed_sections": [],
      "mount_file_id": "1KpDyJN4tHmPiCQ1ar6xy1w-pH2-U6dvo",
      "authorship_tag": "ABX9TyNtu3LR+ESGJkcwdva6/SFV",
      "include_colab_link": true
    },
    "kernelspec": {
      "name": "python3",
      "display_name": "Python 3"
    }
  },
  "cells": [
    {
      "cell_type": "markdown",
      "metadata": {
        "id": "view-in-github",
        "colab_type": "text"
      },
      "source": [
        "<a href=\"https://colab.research.google.com/github/skrofman/Applied-Machine-Learning/blob/master/Lab3_working.ipynb\" target=\"_parent\"><img src=\"https://colab.research.google.com/assets/colab-badge.svg\" alt=\"Open In Colab\"/></a>"
      ]
    },
    {
      "cell_type": "markdown",
      "metadata": {
        "id": "UePJbIlPxOcB"
      },
      "source": [
        "1.) An \"ordinary least squares\" (or OLS) model seeks to minimize the differences between your true and estimated dependent variable.\n",
        "\n",
        "True"
      ]
    },
    {
      "cell_type": "markdown",
      "metadata": {
        "id": "vW5omjooxOR6"
      },
      "source": [
        "2.) Do you agree or disagree with the following statement:\n",
        "In a linear regression model, all feature must correlate with the noise in order to obtain a good fit.\n",
        "\n",
        "Disagree"
      ]
    },
    {
      "cell_type": "markdown",
      "metadata": {
        "id": "qNDQA5gMxVJZ"
      },
      "source": [
        "3.) Write your own code to import L3Data.csv into python as a data frame.\n",
        "  \n",
        "  -Then save the feature values  'days online','views','contributions','answers' into a matrix x and consider 'Grade' values as the dependent variable.\n",
        "  \n",
        "  -If you separate the data into Train & Test with test_size=0.25 and random_state = 1234, and we use the features of x to build a multiple linear regression model for predicting y, then the root mean square error on the test data is close to:"
      ]
    },
    {
      "cell_type": "code",
      "metadata": {
        "id": "k5QefgW-wu_m"
      },
      "source": [
        "import pandas as pd\n",
        "from sklearn.model_selection import train_test_split\n",
        "from sklearn.linear_model import Ridge\n",
        "from yellowbrick.regressor import ResidualsPlot\n",
        "import numpy as np\n",
        "import operator\n",
        "from sklearn.metrics import mean_squared_error, r2_score\n",
        "from sklearn.linear_model import LinearRegression"
      ],
      "execution_count": 31,
      "outputs": []
    },
    {
      "cell_type": "code",
      "metadata": {
        "id": "nGrDKIA4y15V"
      },
      "source": [
        "df = pd.read_csv('drive/MyDrive/Colab Notebooks/L3Data.csv')"
      ],
      "execution_count": 7,
      "outputs": []
    },
    {
      "cell_type": "code",
      "metadata": {
        "colab": {
          "base_uri": "https://localhost:8080/",
          "height": 1000
        },
        "id": "hftizivezBZp",
        "outputId": "2823ce94-575b-41db-b546-a140cb7ca143"
      },
      "source": [
        "df"
      ],
      "execution_count": 8,
      "outputs": [
        {
          "output_type": "execute_result",
          "data": {
            "text/html": [
              "<div>\n",
              "<style scoped>\n",
              "    .dataframe tbody tr th:only-of-type {\n",
              "        vertical-align: middle;\n",
              "    }\n",
              "\n",
              "    .dataframe tbody tr th {\n",
              "        vertical-align: top;\n",
              "    }\n",
              "\n",
              "    .dataframe thead th {\n",
              "        text-align: right;\n",
              "    }\n",
              "</style>\n",
              "<table border=\"1\" class=\"dataframe\">\n",
              "  <thead>\n",
              "    <tr style=\"text-align: right;\">\n",
              "      <th></th>\n",
              "      <th>days online</th>\n",
              "      <th>views</th>\n",
              "      <th>contributions</th>\n",
              "      <th>questions</th>\n",
              "      <th>answers</th>\n",
              "      <th>Grade</th>\n",
              "    </tr>\n",
              "  </thead>\n",
              "  <tbody>\n",
              "    <tr>\n",
              "      <th>0</th>\n",
              "      <td>6</td>\n",
              "      <td>24</td>\n",
              "      <td>1</td>\n",
              "      <td>0</td>\n",
              "      <td>1</td>\n",
              "      <td>84.450059</td>\n",
              "    </tr>\n",
              "    <tr>\n",
              "      <th>1</th>\n",
              "      <td>68</td>\n",
              "      <td>136</td>\n",
              "      <td>30</td>\n",
              "      <td>0</td>\n",
              "      <td>17</td>\n",
              "      <td>94.660635</td>\n",
              "    </tr>\n",
              "    <tr>\n",
              "      <th>2</th>\n",
              "      <td>54</td>\n",
              "      <td>122</td>\n",
              "      <td>2</td>\n",
              "      <td>0</td>\n",
              "      <td>0</td>\n",
              "      <td>80.707490</td>\n",
              "    </tr>\n",
              "    <tr>\n",
              "      <th>3</th>\n",
              "      <td>0</td>\n",
              "      <td>0</td>\n",
              "      <td>0</td>\n",
              "      <td>0</td>\n",
              "      <td>0</td>\n",
              "      <td>79.756286</td>\n",
              "    </tr>\n",
              "    <tr>\n",
              "      <th>4</th>\n",
              "      <td>41</td>\n",
              "      <td>123</td>\n",
              "      <td>1</td>\n",
              "      <td>1</td>\n",
              "      <td>0</td>\n",
              "      <td>87.501975</td>\n",
              "    </tr>\n",
              "    <tr>\n",
              "      <th>5</th>\n",
              "      <td>46</td>\n",
              "      <td>91</td>\n",
              "      <td>12</td>\n",
              "      <td>7</td>\n",
              "      <td>0</td>\n",
              "      <td>94.526755</td>\n",
              "    </tr>\n",
              "    <tr>\n",
              "      <th>6</th>\n",
              "      <td>29</td>\n",
              "      <td>87</td>\n",
              "      <td>11</td>\n",
              "      <td>2</td>\n",
              "      <td>5</td>\n",
              "      <td>83.817988</td>\n",
              "    </tr>\n",
              "    <tr>\n",
              "      <th>7</th>\n",
              "      <td>32</td>\n",
              "      <td>123</td>\n",
              "      <td>17</td>\n",
              "      <td>11</td>\n",
              "      <td>1</td>\n",
              "      <td>90.846254</td>\n",
              "    </tr>\n",
              "    <tr>\n",
              "      <th>8</th>\n",
              "      <td>98</td>\n",
              "      <td>127</td>\n",
              "      <td>50</td>\n",
              "      <td>10</td>\n",
              "      <td>18</td>\n",
              "      <td>98.671115</td>\n",
              "    </tr>\n",
              "    <tr>\n",
              "      <th>9</th>\n",
              "      <td>6</td>\n",
              "      <td>31</td>\n",
              "      <td>1</td>\n",
              "      <td>1</td>\n",
              "      <td>0</td>\n",
              "      <td>87.508948</td>\n",
              "    </tr>\n",
              "    <tr>\n",
              "      <th>10</th>\n",
              "      <td>20</td>\n",
              "      <td>60</td>\n",
              "      <td>0</td>\n",
              "      <td>0</td>\n",
              "      <td>0</td>\n",
              "      <td>84.649792</td>\n",
              "    </tr>\n",
              "    <tr>\n",
              "      <th>11</th>\n",
              "      <td>0</td>\n",
              "      <td>0</td>\n",
              "      <td>0</td>\n",
              "      <td>0</td>\n",
              "      <td>0</td>\n",
              "      <td>65.808130</td>\n",
              "    </tr>\n",
              "    <tr>\n",
              "      <th>12</th>\n",
              "      <td>0</td>\n",
              "      <td>0</td>\n",
              "      <td>0</td>\n",
              "      <td>0</td>\n",
              "      <td>0</td>\n",
              "      <td>77.433814</td>\n",
              "    </tr>\n",
              "    <tr>\n",
              "      <th>13</th>\n",
              "      <td>59</td>\n",
              "      <td>111</td>\n",
              "      <td>7</td>\n",
              "      <td>5</td>\n",
              "      <td>1</td>\n",
              "      <td>98.569538</td>\n",
              "    </tr>\n",
              "    <tr>\n",
              "      <th>14</th>\n",
              "      <td>22</td>\n",
              "      <td>57</td>\n",
              "      <td>9</td>\n",
              "      <td>4</td>\n",
              "      <td>1</td>\n",
              "      <td>81.989809</td>\n",
              "    </tr>\n",
              "    <tr>\n",
              "      <th>15</th>\n",
              "      <td>27</td>\n",
              "      <td>81</td>\n",
              "      <td>26</td>\n",
              "      <td>9</td>\n",
              "      <td>2</td>\n",
              "      <td>84.400562</td>\n",
              "    </tr>\n",
              "    <tr>\n",
              "      <th>16</th>\n",
              "      <td>46</td>\n",
              "      <td>124</td>\n",
              "      <td>3</td>\n",
              "      <td>3</td>\n",
              "      <td>0</td>\n",
              "      <td>79.610896</td>\n",
              "    </tr>\n",
              "    <tr>\n",
              "      <th>17</th>\n",
              "      <td>56</td>\n",
              "      <td>109</td>\n",
              "      <td>0</td>\n",
              "      <td>0</td>\n",
              "      <td>0</td>\n",
              "      <td>88.551207</td>\n",
              "    </tr>\n",
              "    <tr>\n",
              "      <th>18</th>\n",
              "      <td>9</td>\n",
              "      <td>40</td>\n",
              "      <td>0</td>\n",
              "      <td>0</td>\n",
              "      <td>0</td>\n",
              "      <td>69.972112</td>\n",
              "    </tr>\n",
              "    <tr>\n",
              "      <th>19</th>\n",
              "      <td>17</td>\n",
              "      <td>43</td>\n",
              "      <td>2</td>\n",
              "      <td>2</td>\n",
              "      <td>0</td>\n",
              "      <td>76.184331</td>\n",
              "    </tr>\n",
              "    <tr>\n",
              "      <th>20</th>\n",
              "      <td>17</td>\n",
              "      <td>116</td>\n",
              "      <td>0</td>\n",
              "      <td>0</td>\n",
              "      <td>0</td>\n",
              "      <td>79.879624</td>\n",
              "    </tr>\n",
              "    <tr>\n",
              "      <th>21</th>\n",
              "      <td>24</td>\n",
              "      <td>122</td>\n",
              "      <td>2</td>\n",
              "      <td>0</td>\n",
              "      <td>1</td>\n",
              "      <td>82.318783</td>\n",
              "    </tr>\n",
              "    <tr>\n",
              "      <th>22</th>\n",
              "      <td>30</td>\n",
              "      <td>63</td>\n",
              "      <td>4</td>\n",
              "      <td>2</td>\n",
              "      <td>2</td>\n",
              "      <td>86.593060</td>\n",
              "    </tr>\n",
              "    <tr>\n",
              "      <th>23</th>\n",
              "      <td>66</td>\n",
              "      <td>129</td>\n",
              "      <td>9</td>\n",
              "      <td>1</td>\n",
              "      <td>5</td>\n",
              "      <td>90.082458</td>\n",
              "    </tr>\n",
              "    <tr>\n",
              "      <th>24</th>\n",
              "      <td>66</td>\n",
              "      <td>125</td>\n",
              "      <td>15</td>\n",
              "      <td>3</td>\n",
              "      <td>4</td>\n",
              "      <td>85.362000</td>\n",
              "    </tr>\n",
              "    <tr>\n",
              "      <th>25</th>\n",
              "      <td>73</td>\n",
              "      <td>125</td>\n",
              "      <td>17</td>\n",
              "      <td>6</td>\n",
              "      <td>4</td>\n",
              "      <td>103.316374</td>\n",
              "    </tr>\n",
              "    <tr>\n",
              "      <th>26</th>\n",
              "      <td>26</td>\n",
              "      <td>125</td>\n",
              "      <td>2</td>\n",
              "      <td>1</td>\n",
              "      <td>0</td>\n",
              "      <td>95.389438</td>\n",
              "    </tr>\n",
              "    <tr>\n",
              "      <th>27</th>\n",
              "      <td>15</td>\n",
              "      <td>65</td>\n",
              "      <td>11</td>\n",
              "      <td>3</td>\n",
              "      <td>3</td>\n",
              "      <td>93.595774</td>\n",
              "    </tr>\n",
              "    <tr>\n",
              "      <th>28</th>\n",
              "      <td>28</td>\n",
              "      <td>93</td>\n",
              "      <td>4</td>\n",
              "      <td>3</td>\n",
              "      <td>0</td>\n",
              "      <td>76.148868</td>\n",
              "    </tr>\n",
              "    <tr>\n",
              "      <th>29</th>\n",
              "      <td>40</td>\n",
              "      <td>59</td>\n",
              "      <td>9</td>\n",
              "      <td>2</td>\n",
              "      <td>2</td>\n",
              "      <td>80.962869</td>\n",
              "    </tr>\n",
              "    <tr>\n",
              "      <th>30</th>\n",
              "      <td>42</td>\n",
              "      <td>120</td>\n",
              "      <td>44</td>\n",
              "      <td>19</td>\n",
              "      <td>7</td>\n",
              "      <td>97.194376</td>\n",
              "    </tr>\n",
              "  </tbody>\n",
              "</table>\n",
              "</div>"
            ],
            "text/plain": [
              "    days online  views  contributions  questions  answers       Grade\n",
              "0             6     24              1          0        1   84.450059\n",
              "1            68    136             30          0       17   94.660635\n",
              "2            54    122              2          0        0   80.707490\n",
              "3             0      0              0          0        0   79.756286\n",
              "4            41    123              1          1        0   87.501975\n",
              "5            46     91             12          7        0   94.526755\n",
              "6            29     87             11          2        5   83.817988\n",
              "7            32    123             17         11        1   90.846254\n",
              "8            98    127             50         10       18   98.671115\n",
              "9             6     31              1          1        0   87.508948\n",
              "10           20     60              0          0        0   84.649792\n",
              "11            0      0              0          0        0   65.808130\n",
              "12            0      0              0          0        0   77.433814\n",
              "13           59    111              7          5        1   98.569538\n",
              "14           22     57              9          4        1   81.989809\n",
              "15           27     81             26          9        2   84.400562\n",
              "16           46    124              3          3        0   79.610896\n",
              "17           56    109              0          0        0   88.551207\n",
              "18            9     40              0          0        0   69.972112\n",
              "19           17     43              2          2        0   76.184331\n",
              "20           17    116              0          0        0   79.879624\n",
              "21           24    122              2          0        1   82.318783\n",
              "22           30     63              4          2        2   86.593060\n",
              "23           66    129              9          1        5   90.082458\n",
              "24           66    125             15          3        4   85.362000\n",
              "25           73    125             17          6        4  103.316374\n",
              "26           26    125              2          1        0   95.389438\n",
              "27           15     65             11          3        3   93.595774\n",
              "28           28     93              4          3        0   76.148868\n",
              "29           40     59              9          2        2   80.962869\n",
              "30           42    120             44         19        7   97.194376"
            ]
          },
          "metadata": {
            "tags": []
          },
          "execution_count": 8
        }
      ]
    },
    {
      "cell_type": "code",
      "metadata": {
        "id": "BN_FgkoCxCcI"
      },
      "source": [
        "y = df['Grade'].values\n",
        "X = df[['days online','views','contributions','answers']].values\n",
        "Xf = df[['days online','views','contributions','answers']]"
      ],
      "execution_count": 15,
      "outputs": []
    },
    {
      "cell_type": "code",
      "metadata": {
        "id": "KkbPsFDN1HBx"
      },
      "source": [
        "from sklearn.preprocessing import StandardScaler\n",
        "scale = StandardScaler()"
      ],
      "execution_count": 19,
      "outputs": []
    },
    {
      "cell_type": "code",
      "metadata": {
        "id": "a81Rn1Wb1eX4"
      },
      "source": [
        "X_train, X_test, y_train, y_test = train_test_split(X, y, test_size=0.25, random_state=1234)\n",
        "Xs_train = scale.fit_transform(X_train)\n",
        "Xs_test  = scale.transform(X_test)"
      ],
      "execution_count": 29,
      "outputs": []
    },
    {
      "cell_type": "code",
      "metadata": {
        "id": "Dz1Pm_5X1yOm"
      },
      "source": [
        "model = LinearRegression()\n",
        "model.fit(Xs_train, y_train)\n",
        "y_pred = model.predict(Xs_test)"
      ],
      "execution_count": 34,
      "outputs": []
    },
    {
      "cell_type": "code",
      "metadata": {
        "colab": {
          "base_uri": "https://localhost:8080/"
        },
        "id": "DYzYwKS25dT_",
        "outputId": "78e61812-2264-4833-a94c-0e71a0bed7a0"
      },
      "source": [
        "rmse = np.sqrt(mean_squared_error(y_test,y_pred))\n",
        "print(rmse)"
      ],
      "execution_count": 37,
      "outputs": [
        {
          "output_type": "stream",
          "text": [
            "8.324478857196397\n"
          ],
          "name": "stdout"
        }
      ]
    },
    {
      "cell_type": "markdown",
      "metadata": {
        "id": "kCfFpCZ97ZDM"
      },
      "source": [
        "4.) In practice we determine the weights for linear regression with the \"X_test\" data.\n",
        "\n",
        "\n",
        "False"
      ]
    },
    {
      "cell_type": "markdown",
      "metadata": {
        "id": "Q04tjlqr7ds5"
      },
      "source": [
        "5.) Polynomial regression is best suited for functional relationships that are non-linear in weights.\n",
        "\n",
        "True"
      ]
    },
    {
      "cell_type": "markdown",
      "metadata": {
        "id": "o5gWjq3M74cB"
      },
      "source": [
        "6.) Linear regression, multiple linear regression, and polynomial regression can be all fit using LinearRegression() from the sklearn.linear_model module in Python.\n",
        "\n",
        "True"
      ]
    },
    {
      "cell_type": "markdown",
      "metadata": {
        "id": "DBcqsnze9Ylz"
      },
      "source": [
        "7.) Write your own code to import L3Data.csv into python as a data frame.\n",
        "\n",
        "-Then save the feature values  'days online','views','contributions','answers' into a matrix x and consider 'Grade' values as the dependent variable.\n",
        "\n",
        "-If you separate the data into Train & Test with test_size=0.25 and random_state = 1234, then the number of observations we have in the Train data is...?"
      ]
    },
    {
      "cell_type": "code",
      "metadata": {
        "colab": {
          "base_uri": "https://localhost:8080/"
        },
        "id": "awYS2eAL7a7G",
        "outputId": "5df7c8fa-ea48-4531-f006-8dde27f95155"
      },
      "source": [
        "len(X_train)"
      ],
      "execution_count": 39,
      "outputs": [
        {
          "output_type": "execute_result",
          "data": {
            "text/plain": [
              "23"
            ]
          },
          "metadata": {
            "tags": []
          },
          "execution_count": 39
        }
      ]
    },
    {
      "cell_type": "markdown",
      "metadata": {
        "id": "48xLRmN69siS"
      },
      "source": [
        "8.) The gradient descent method does not need any hyperparameters.\n",
        "\n",
        "False"
      ]
    },
    {
      "cell_type": "markdown",
      "metadata": {
        "id": "Nr7zJaTKBPRZ"
      },
      "source": [
        "9.) To create and display a figure using matplotlib.pyplot that has visual elements (scatterplot, labeling of the axes, display of grid), in what order would the below code need to be executed?"
      ]
    },
    {
      "cell_type": "code",
      "metadata": {
        "id": "uLJFbnMv9laS"
      },
      "source": [
        "import matplotlib.pyplot as plt"
      ],
      "execution_count": 40,
      "outputs": []
    },
    {
      "cell_type": "code",
      "metadata": {
        "colab": {
          "base_uri": "https://localhost:8080/",
          "height": 269
        },
        "id": "ZksOyoAmB8RU",
        "outputId": "7c229cd9-1a9e-47fd-d665-f1e7316ca9ec"
      },
      "source": [
        "fig, ax = plt.subplots()"
      ],
      "execution_count": 43,
      "outputs": [
        {
          "output_type": "display_data",
          "data": {
            "image/png": "[encoded data removed]",
            "text/plain": [
              "<Figure size 432x288 with 1 Axes>"
            ]
          },
          "metadata": {
            "tags": [],
            "needs_background": "light"
          }
        }
      ]
    },
    {
      "cell_type": "code",
      "metadata": {
        "colab": {
          "base_uri": "https://localhost:8080/",
          "height": 375
        },
        "id": "spg6o7aQB9nW",
        "outputId": "819920a5-0978-4260-8723-811b94f63a4c"
      },
      "source": [
        "ax.scatter(X_test, y_test, color=\"black\", label=\"Truth\")\n",
        "ax.scatter(X_test, lin_reg.predict(X_test), color=\"green\", label=\"Linear\")\n",
        "ax.set_xlabel(\"Discussion Contributions\")\n",
        "ax.set_ylabel(\"Grade\")"
      ],
      "execution_count": 49,
      "outputs": [
        {
          "output_type": "error",
          "ename": "ValueError",
          "evalue": "ignored",
          "traceback": [
            "\u001b[0;31m---------------------------------------------------------------------------\u001b[0m",
            "\u001b[0;31mValueError\u001b[0m                                Traceback (most recent call last)",
            "\u001b[0;32m<ipython-input-49-b3961e8b87e0>\u001b[0m in \u001b[0;36m<module>\u001b[0;34m()\u001b[0m\n\u001b[0;32m----> 1\u001b[0;31m \u001b[0max\u001b[0m\u001b[0;34m.\u001b[0m\u001b[0mscatter\u001b[0m\u001b[0;34m(\u001b[0m\u001b[0mX_test\u001b[0m\u001b[0;34m,\u001b[0m \u001b[0my_test\u001b[0m\u001b[0;34m,\u001b[0m \u001b[0mcolor\u001b[0m\u001b[0;34m=\u001b[0m\u001b[0;34m\"black\"\u001b[0m\u001b[0;34m,\u001b[0m \u001b[0mlabel\u001b[0m\u001b[0;34m=\u001b[0m\u001b[0;34m\"Truth\"\u001b[0m\u001b[0;34m)\u001b[0m\u001b[0;34m\u001b[0m\u001b[0;34m\u001b[0m\u001b[0m\n\u001b[0m\u001b[1;32m      2\u001b[0m \u001b[0max\u001b[0m\u001b[0;34m.\u001b[0m\u001b[0mscatter\u001b[0m\u001b[0;34m(\u001b[0m\u001b[0mX_test\u001b[0m\u001b[0;34m,\u001b[0m \u001b[0mlin_reg\u001b[0m\u001b[0;34m.\u001b[0m\u001b[0mpredict\u001b[0m\u001b[0;34m(\u001b[0m\u001b[0mX_test\u001b[0m\u001b[0;34m)\u001b[0m\u001b[0;34m,\u001b[0m \u001b[0mcolor\u001b[0m\u001b[0;34m=\u001b[0m\u001b[0;34m\"green\"\u001b[0m\u001b[0;34m,\u001b[0m \u001b[0mlabel\u001b[0m\u001b[0;34m=\u001b[0m\u001b[0;34m\"Linear\"\u001b[0m\u001b[0;34m)\u001b[0m\u001b[0;34m\u001b[0m\u001b[0;34m\u001b[0m\u001b[0m\n\u001b[1;32m      3\u001b[0m \u001b[0max\u001b[0m\u001b[0;34m.\u001b[0m\u001b[0mset_xlabel\u001b[0m\u001b[0;34m(\u001b[0m\u001b[0;34m\"Discussion Contributions\"\u001b[0m\u001b[0;34m)\u001b[0m\u001b[0;34m\u001b[0m\u001b[0;34m\u001b[0m\u001b[0m\n\u001b[1;32m      4\u001b[0m \u001b[0max\u001b[0m\u001b[0;34m.\u001b[0m\u001b[0mset_ylabel\u001b[0m\u001b[0;34m(\u001b[0m\u001b[0;34m\"Grade\"\u001b[0m\u001b[0;34m)\u001b[0m\u001b[0;34m\u001b[0m\u001b[0;34m\u001b[0m\u001b[0m\n",
            "\u001b[0;32m/usr/local/lib/python3.7/dist-packages/matplotlib/__init__.py\u001b[0m in \u001b[0;36minner\u001b[0;34m(ax, data, *args, **kwargs)\u001b[0m\n\u001b[1;32m   1563\u001b[0m     \u001b[0;32mdef\u001b[0m \u001b[0minner\u001b[0m\u001b[0;34m(\u001b[0m\u001b[0max\u001b[0m\u001b[0;34m,\u001b[0m \u001b[0;34m*\u001b[0m\u001b[0margs\u001b[0m\u001b[0;34m,\u001b[0m \u001b[0mdata\u001b[0m\u001b[0;34m=\u001b[0m\u001b[0;32mNone\u001b[0m\u001b[0;34m,\u001b[0m \u001b[0;34m**\u001b[0m\u001b[0mkwargs\u001b[0m\u001b[0;34m)\u001b[0m\u001b[0;34m:\u001b[0m\u001b[0;34m\u001b[0m\u001b[0;34m\u001b[0m\u001b[0m\n\u001b[1;32m   1564\u001b[0m         \u001b[0;32mif\u001b[0m \u001b[0mdata\u001b[0m \u001b[0;32mis\u001b[0m \u001b[0;32mNone\u001b[0m\u001b[0;34m:\u001b[0m\u001b[0;34m\u001b[0m\u001b[0;34m\u001b[0m\u001b[0m\n\u001b[0;32m-> 1565\u001b[0;31m             \u001b[0;32mreturn\u001b[0m \u001b[0mfunc\u001b[0m\u001b[0;34m(\u001b[0m\u001b[0max\u001b[0m\u001b[0;34m,\u001b[0m \u001b[0;34m*\u001b[0m\u001b[0mmap\u001b[0m\u001b[0;34m(\u001b[0m\u001b[0msanitize_sequence\u001b[0m\u001b[0;34m,\u001b[0m \u001b[0margs\u001b[0m\u001b[0;34m)\u001b[0m\u001b[0;34m,\u001b[0m \u001b[0;34m**\u001b[0m\u001b[0mkwargs\u001b[0m\u001b[0;34m)\u001b[0m\u001b[0;34m\u001b[0m\u001b[0;34m\u001b[0m\u001b[0m\n\u001b[0m\u001b[1;32m   1566\u001b[0m \u001b[0;34m\u001b[0m\u001b[0m\n\u001b[1;32m   1567\u001b[0m         \u001b[0mbound\u001b[0m \u001b[0;34m=\u001b[0m \u001b[0mnew_sig\u001b[0m\u001b[0;34m.\u001b[0m\u001b[0mbind\u001b[0m\u001b[0;34m(\u001b[0m\u001b[0max\u001b[0m\u001b[0;34m,\u001b[0m \u001b[0;34m*\u001b[0m\u001b[0margs\u001b[0m\u001b[0;34m,\u001b[0m \u001b[0;34m**\u001b[0m\u001b[0mkwargs\u001b[0m\u001b[0;34m)\u001b[0m\u001b[0;34m\u001b[0m\u001b[0;34m\u001b[0m\u001b[0m\n",
            "\u001b[0;32m/usr/local/lib/python3.7/dist-packages/matplotlib/cbook/deprecation.py\u001b[0m in \u001b[0;36mwrapper\u001b[0;34m(*args, **kwargs)\u001b[0m\n\u001b[1;32m    356\u001b[0m                 \u001b[0;34mf\"%(removal)s.  If any parameter follows {name!r}, they \"\u001b[0m\u001b[0;34m\u001b[0m\u001b[0;34m\u001b[0m\u001b[0m\n\u001b[1;32m    357\u001b[0m                 f\"should be pass as keyword, not positionally.\")\n\u001b[0;32m--> 358\u001b[0;31m         \u001b[0;32mreturn\u001b[0m \u001b[0mfunc\u001b[0m\u001b[0;34m(\u001b[0m\u001b[0;34m*\u001b[0m\u001b[0margs\u001b[0m\u001b[0;34m,\u001b[0m \u001b[0;34m**\u001b[0m\u001b[0mkwargs\u001b[0m\u001b[0;34m)\u001b[0m\u001b[0;34m\u001b[0m\u001b[0;34m\u001b[0m\u001b[0m\n\u001b[0m\u001b[1;32m    359\u001b[0m \u001b[0;34m\u001b[0m\u001b[0m\n\u001b[1;32m    360\u001b[0m     \u001b[0;32mreturn\u001b[0m \u001b[0mwrapper\u001b[0m\u001b[0;34m\u001b[0m\u001b[0;34m\u001b[0m\u001b[0m\n",
            "\u001b[0;32m/usr/local/lib/python3.7/dist-packages/matplotlib/axes/_axes.py\u001b[0m in \u001b[0;36mscatter\u001b[0;34m(self, x, y, s, c, marker, cmap, norm, vmin, vmax, alpha, linewidths, verts, edgecolors, plotnonfinite, **kwargs)\u001b[0m\n\u001b[1;32m   4389\u001b[0m         \u001b[0my\u001b[0m \u001b[0;34m=\u001b[0m \u001b[0mnp\u001b[0m\u001b[0;34m.\u001b[0m\u001b[0mma\u001b[0m\u001b[0;34m.\u001b[0m\u001b[0mravel\u001b[0m\u001b[0;34m(\u001b[0m\u001b[0my\u001b[0m\u001b[0;34m)\u001b[0m\u001b[0;34m\u001b[0m\u001b[0;34m\u001b[0m\u001b[0m\n\u001b[1;32m   4390\u001b[0m         \u001b[0;32mif\u001b[0m \u001b[0mx\u001b[0m\u001b[0;34m.\u001b[0m\u001b[0msize\u001b[0m \u001b[0;34m!=\u001b[0m \u001b[0my\u001b[0m\u001b[0;34m.\u001b[0m\u001b[0msize\u001b[0m\u001b[0;34m:\u001b[0m\u001b[0;34m\u001b[0m\u001b[0;34m\u001b[0m\u001b[0m\n\u001b[0;32m-> 4391\u001b[0;31m             \u001b[0;32mraise\u001b[0m \u001b[0mValueError\u001b[0m\u001b[0;34m(\u001b[0m\u001b[0;34m\"x and y must be the same size\"\u001b[0m\u001b[0;34m)\u001b[0m\u001b[0;34m\u001b[0m\u001b[0;34m\u001b[0m\u001b[0m\n\u001b[0m\u001b[1;32m   4392\u001b[0m \u001b[0;34m\u001b[0m\u001b[0m\n\u001b[1;32m   4393\u001b[0m         \u001b[0;32mif\u001b[0m \u001b[0ms\u001b[0m \u001b[0;32mis\u001b[0m \u001b[0;32mNone\u001b[0m\u001b[0;34m:\u001b[0m\u001b[0;34m\u001b[0m\u001b[0;34m\u001b[0m\u001b[0m\n",
            "\u001b[0;31mValueError\u001b[0m: x and y must be the same size"
          ]
        }
      ]
    },
    {
      "cell_type": "code",
      "metadata": {
        "id": "Ls90Q2QwCGQn"
      },
      "source": [
        "ax.grid(b=True,which='major', color ='grey', linestyle='-', alpha=0.8)\n",
        "ax.grid(b=True,which='minor', color ='grey', linestyle='--', alpha=0.2)\n",
        "ax.minorticks_on()"
      ],
      "execution_count": 50,
      "outputs": []
    },
    {
      "cell_type": "markdown",
      "metadata": {
        "id": "sUaXLNjqCrFE"
      },
      "source": [
        "10.) Which of the following forms is not  linear in the weights ?\n",
        "\n",
        "![image.png](data:image/png;base64,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)"
      ]
    },
    {
      "cell_type": "code",
      "metadata": {
        "id": "wf61jt2_CkbU"
      },
      "source": [
        ""
      ],
      "execution_count": null,
      "outputs": []
    }
  ]
}