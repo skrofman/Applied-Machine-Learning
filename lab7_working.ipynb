{
  "nbformat": 4,
  "nbformat_minor": 0,
  "metadata": {
    "colab": {
      "name": "lab7_working.ipynb",
      "provenance": [],
      "authorship_tag": "ABX9TyMHKh2dKTsFytE9X2ld3BTl",
      "include_colab_link": true
    },
    "kernelspec": {
      "name": "python3",
      "display_name": "Python 3"
    },
    "language_info": {
      "name": "python"
    }
  },
  "cells": [
    {
      "cell_type": "markdown",
      "metadata": {
        "id": "view-in-github",
        "colab_type": "text"
      },
      "source": [
        "<a href=\"https://colab.research.google.com/github/skrofman/Applied-Machine-Learning/blob/master/lab7_working.ipynb\" target=\"_parent\"><img src=\"https://colab.research.google.com/assets/colab-badge.svg\" alt=\"Open In Colab\"/></a>"
      ]
    },
    {
      "cell_type": "code",
      "metadata": {
        "id": "UJDV5Q9WV1sQ"
      },
      "source": [
        "import numpy as np\n",
        "from sklearn.linear_model import LogisticRegression\n",
        "from sklearn.neural_network import MLPClassifier\n",
        "from sklearn.metrics import confusion_matrix\n",
        "from matplotlib.colors import ListedColormap\n",
        "from sklearn import neighbors, datasets\n",
        "from sklearn import svm\n",
        "from sklearn.metrics import accuracy_score\n",
        "from sklearn.pipeline import Pipeline\n",
        "from sklearn.preprocessing import StandardScaler\n",
        "from sklearn.svm import SVC\n",
        "import matplotlib.pyplot as plt\n",
        "import pandas as pd\n",
        "from sklearn.model_selection import train_test_split\n",
        "from sklearn.ensemble import RandomForestRegressor\n",
        "from sklearn.ensemble import RandomForestClassifier\n",
        "import statsmodels.api as sm\n",
        "from sklearn import tree\n",
        "%matplotlib inline\n",
        "%config InlineBackend.figure_format = 'retina'\n",
        "\n",
        "from sklearn import datasets\n",
        "from sklearn.datasets import load_diabetes\n",
        "from sklearn.datasets import load_breast_cancer"
      ],
      "execution_count": null,
      "outputs": []
    },
    {
      "cell_type": "code",
      "metadata": {
        "id": "oLPrljhYc_jP"
      },
      "source": [
        "from sklearn.model_selection import KFold\n",
        "import numpy as np\n",
        "from sklearn.linear_model import LogisticRegression\n",
        "from sklearn.neural_network import MLPClassifier\n",
        "from sklearn.metrics import confusion_matrix\n",
        "from matplotlib.colors import ListedColormap\n",
        "from sklearn import neighbors, datasets\n",
        "from sklearn import svm\n",
        "from sklearn.metrics import accuracy_score\n",
        "from sklearn.pipeline import Pipeline\n",
        "from sklearn.preprocessing import StandardScaler\n",
        "from sklearn.svm import SVC\n",
        "import matplotlib.pyplot as plt\n",
        "import pandas as pd\n",
        "from sklearn.model_selection import train_test_split\n",
        "from sklearn.ensemble import RandomForestClassifier"
      ],
      "execution_count": null,
      "outputs": []
    },
    {
      "cell_type": "code",
      "metadata": {
        "id": "DlulIWgDTf6w"
      },
      "source": [
        "diabetes = datasets.load_diabetes()\n",
        "columns = 'age gender bmi map tc ldl hdl tch ltg glu'.split()\n",
        "df = pd.DataFrame(diabetes.data, columns=columns)\n",
        "y = diabetes.target"
      ],
      "execution_count": 35,
      "outputs": []
    },
    {
      "cell_type": "code",
      "metadata": {
        "id": "VEOAM58qV1Ar"
      },
      "source": [
        "# Implementation of stepwise regression\n",
        "def stepwise_selection(X, y, \n",
        "                       initial_list=[], \n",
        "                       threshold_in=0.001, \n",
        "                       threshold_out = 0.001, \n",
        "                       verbose=True):\n",
        "    \"\"\" Perform a forward-backward feature selection \n",
        "    based on p-value from statsmodels.api.OLS\n",
        "    Arguments:\n",
        "        X - pandas.DataFrame with candidate features\n",
        "        y - list-like with the target\n",
        "        initial_list - list of features to start with (column names of X)\n",
        "        threshold_in - include a feature if its p-value < threshold_in\n",
        "        threshold_out - exclude a feature if its p-value > threshold_out\n",
        "        verbose - whether to print the sequence of inclusions and exclusions\n",
        "    Returns: list of selected features \n",
        "    Always set threshold_in < threshold_out to avoid infinite looping.\n",
        "    See https://en.wikipedia.org/wiki/Stepwise_regression for the details \"\"\"\n",
        "    \n",
        "    included = list(initial_list)\n",
        "    while True:\n",
        "        changed=False\n",
        "        # forward step\n",
        "        excluded = list(set(X.columns)-set(included))\n",
        "        new_pval = pd.Series(index=excluded)\n",
        "        for new_column in excluded:\n",
        "            model = sm.OLS(y, sm.add_constant(pd.DataFrame(X[included+[new_column]]))).fit()\n",
        "            new_pval[new_column] = model.pvalues[new_column]\n",
        "        best_pval = new_pval.min()\n",
        "        if best_pval < threshold_in:\n",
        "            best_feature = new_pval.idxmin()\n",
        "            included.append(best_feature)\n",
        "            changed=True\n",
        "            if verbose:\n",
        "                print('Add  {:30} with p-value {:.6}'.format(best_feature, best_pval))\n",
        "\n",
        "        # backward step\n",
        "        model = sm.OLS(y, sm.add_constant(pd.DataFrame(X[included]))).fit()\n",
        "        # use all coefs except intercept\n",
        "        pvalues = model.pvalues.iloc[1:]\n",
        "        worst_pval = pvalues.max() # null if pvalues is empty\n",
        "        if worst_pval > threshold_out:\n",
        "            changed=True\n",
        "            worst_feature = pvalues.idxmax()\n",
        "            included.remove(worst_feature)\n",
        "            if verbose:\n",
        "                print('Drop {:30} with p-value {:.6}'.format(worst_feature, worst_pval))\n",
        "        if not changed:\n",
        "            break\n",
        "    return included"
      ],
      "execution_count": 36,
      "outputs": []
    },
    {
      "cell_type": "code",
      "metadata": {
        "colab": {
          "base_uri": "https://localhost:8080/"
        },
        "id": "07EKkAfmXId7",
        "outputId": "ec517cbe-3b21-40f4-84b9-9c1a0c4616bd"
      },
      "source": [
        "X=df\n",
        "result = stepwise_selection(X,y)"
      ],
      "execution_count": 37,
      "outputs": [
        {
          "output_type": "stream",
          "text": [
            "Add  bmi                            with p-value 3.46601e-42\n",
            "Add  ltg                            with p-value 3.03968e-20\n",
            "Add  map                            with p-value 3.74192e-05\n"
          ],
          "name": "stdout"
        },
        {
          "output_type": "stream",
          "text": [
            "/usr/local/lib/python3.7/dist-packages/ipykernel_launcher.py:25: DeprecationWarning: The default dtype for empty Series will be 'object' instead of 'float64' in a future version. Specify a dtype explicitly to silence this warning.\n"
          ],
          "name": "stderr"
        }
      ]
    },
    {
      "cell_type": "code",
      "metadata": {
        "colab": {
          "base_uri": "https://localhost:8080/"
        },
        "id": "KjaZHdMcWux7",
        "outputId": "1b4c4872-a05d-464c-924f-22f673f031bc"
      },
      "source": [
        "df=X\n",
        "model = RandomForestClassifier(n_estimators=1000, max_depth=10, random_state=310)\n",
        "df=pd.get_dummies(df)\n",
        "model.fit(df,y)"
      ],
      "execution_count": 38,
      "outputs": [
        {
          "output_type": "execute_result",
          "data": {
            "text/plain": [
              "RandomForestClassifier(bootstrap=True, ccp_alpha=0.0, class_weight=None,\n",
              "                       criterion='gini', max_depth=10, max_features='auto',\n",
              "                       max_leaf_nodes=None, max_samples=None,\n",
              "                       min_impurity_decrease=0.0, min_impurity_split=None,\n",
              "                       min_samples_leaf=1, min_samples_split=2,\n",
              "                       min_weight_fraction_leaf=0.0, n_estimators=1000,\n",
              "                       n_jobs=None, oob_score=False, random_state=310,\n",
              "                       verbose=0, warm_start=False)"
            ]
          },
          "metadata": {
            "tags": []
          },
          "execution_count": 38
        }
      ]
    },
    {
      "cell_type": "code",
      "metadata": {
        "colab": {
          "base_uri": "https://localhost:8080/",
          "height": 294
        },
        "id": "AwHCks9NZG1-",
        "outputId": "a3ccc639-5bf3-4118-f438-9f2607b34c3b"
      },
      "source": [
        "features = df.columns\n",
        "importances = model.feature_importances_\n",
        "indices = np.argsort(importances)[-9:]  # top 10 features\n",
        "plt.title('Feature Importances')\n",
        "plt.barh(range(len(indices)), importances[indices], color='b', align='center')\n",
        "plt.yticks(range(len(indices)), [features[i] for i in indices])\n",
        "plt.xlabel('Relative Importance')\n",
        "plt.show()"
      ],
      "execution_count": 39,
      "outputs": [
        {
          "output_type": "display_data",
          "data": {
            "image/png": "[encoded data removed]",
            "text/plain": [
              "<Figure size 432x288 with 1 Axes>"
            ]
          },
          "metadata": {
            "tags": [],
            "image/png": {
              "width": 378,
              "height": 277
            },
            "needs_background": "light"
          }
        }
      ]
    },
    {
      "cell_type": "code",
      "metadata": {
        "id": "cE1c6vb8ZL5p"
      },
      "source": [
        "from sklearn import linear_model as lm\n",
        "from sklearn.preprocessing import StandardScaler\n",
        "from sklearn.preprocessing import RobustScaler\n",
        "scale = StandardScaler()"
      ],
      "execution_count": null,
      "outputs": []
    },
    {
      "cell_type": "code",
      "metadata": {
        "id": "9BQE5aipaC3R"
      },
      "source": [
        "Xs = scale.fit_transform(X)"
      ],
      "execution_count": null,
      "outputs": []
    },
    {
      "cell_type": "code",
      "metadata": {
        "colab": {
          "base_uri": "https://localhost:8080/"
        },
        "id": "F5ZUiAsraDim",
        "outputId": "a7027d04-4743-4c45-d815-046dcf55a650"
      },
      "source": [
        "model = lm.ElasticNet(alpha=0.25,l1_ratio = 0.5)\n",
        "model.fit(Xs,y)\n",
        "model.coef_"
      ],
      "execution_count": null,
      "outputs": [
        {
          "output_type": "execute_result",
          "data": {
            "text/plain": [
              "array([ 0.0313514 , -9.33445083, 22.85217131, 14.04952967, -3.1059829 ,\n",
              "       -3.48167818, -9.13535641,  5.23494772, 20.44145217,  4.20866431])"
            ]
          },
          "metadata": {
            "tags": []
          },
          "execution_count": 18
        }
      ]
    },
    {
      "cell_type": "code",
      "metadata": {
        "colab": {
          "base_uri": "https://localhost:8080/"
        },
        "id": "z7CMaDrAaald",
        "outputId": "5c78db16-cc6f-4c30-9e17-76ec6fba61ae"
      },
      "source": [
        "v = -np.sort(-np.abs(model.coef_))\n",
        "for i in range(X.shape[1]):\n",
        "  print(X.columns[np.abs(model.coef_)==v[i]])"
      ],
      "execution_count": null,
      "outputs": [
        {
          "output_type": "stream",
          "text": [
            "Index(['bmi'], dtype='object')\n",
            "Index(['ltg'], dtype='object')\n",
            "Index(['map'], dtype='object')\n",
            "Index(['gender'], dtype='object')\n",
            "Index(['hdl'], dtype='object')\n",
            "Index(['tch'], dtype='object')\n",
            "Index(['glu'], dtype='object')\n",
            "Index(['ldl'], dtype='object')\n",
            "Index(['tc'], dtype='object')\n",
            "Index(['age'], dtype='object')\n"
          ],
          "name": "stdout"
        }
      ]
    },
    {
      "cell_type": "code",
      "metadata": {
        "id": "bAhgnz33abJe"
      },
      "source": [
        "dat = load_breast_cancer()\n",
        "df = pd.DataFrame(data=dat.data, columns=dat.feature_names)\n",
        "y = dat.target"
      ],
      "execution_count": 70,
      "outputs": []
    },
    {
      "cell_type": "code",
      "metadata": {
        "id": "q92qNU4wcG85"
      },
      "source": [
        "def validation(X,y,k,model):\n",
        "  accuracy = []\n",
        "  pipe = Pipeline([('scale',scale),('Classifier',model)])\n",
        "  kf = KFold(n_splits=k,shuffle=True,random_state=1693)\n",
        "  for idxtrain, idxtest in kf.split(X):\n",
        "    X_train = X[idxtrain,:]\n",
        "    y_train = y[idxtrain]\n",
        "    X_test = X[idxtest,:]\n",
        "    y_test = y[idxtest]\n",
        "    pipe.fit(X_train,y_train)\n",
        "    accuracy.append(accuracy_score(y_test,pipe.predict(X_test)))\n",
        "  return np.mean(accuracy)"
      ],
      "execution_count": 71,
      "outputs": []
    },
    {
      "cell_type": "code",
      "metadata": {
        "id": "RwVtiC9Upa8o"
      },
      "source": [
        "def validation(X,y,k,model):\n",
        "  accuracy = []\n",
        "  pipe = Pipeline([('Classifier',model)])\n",
        "  kf = KFold(n_splits=k,shuffle=True,random_state=1693)\n",
        "  for idxtrain, idxtest in kf.split(X):\n",
        "    X_train = X[idxtrain,:]\n",
        "    y_train = y[idxtrain]\n",
        "    X_test = X[idxtest,:]\n",
        "    y_test = y[idxtest]\n",
        "    pipe.fit(X_train,y_train)\n",
        "    accuracy.append(accuracy_score(y_test,pipe.predict(X_test)))\n",
        "  return np.mean(accuracy)"
      ],
      "execution_count": 78,
      "outputs": []
    },
    {
      "cell_type": "code",
      "metadata": {
        "colab": {
          "base_uri": "https://localhost:8080/"
        },
        "id": "Hc71mgrdcL1U",
        "outputId": "de566a16-da9d-4ceb-852c-541256de2b8b"
      },
      "source": [
        "model = tree.DecisionTreeClassifier(random_state=1693, max_depth=28, min_samples_leaf=4)\n",
        "feats = ['mean radius', 'mean texture']\n",
        "X = df[feats].values\n",
        "validation(X,y,10,model)"
      ],
      "execution_count": 79,
      "outputs": [
        {
          "output_type": "execute_result",
          "data": {
            "text/plain": [
              "0.8453634085213032"
            ]
          },
          "metadata": {
            "tags": []
          },
          "execution_count": 79
        }
      ]
    },
    {
      "cell_type": "code",
      "metadata": {
        "colab": {
          "base_uri": "https://localhost:8080/"
        },
        "id": "cyBOTDu1dW0N",
        "outputId": "d58b069b-4936-4e86-abe9-30eaabcdd079"
      },
      "source": [
        "model = tree.DecisionTreeClassifier(random_state=1693, max_depth=23, min_samples_leaf=4)\n",
        "feats = ['mean radius', 'mean texture']\n",
        "X = df[feats].values\n",
        "validation(X,y,10,model)"
      ],
      "execution_count": 74,
      "outputs": [
        {
          "output_type": "execute_result",
          "data": {
            "text/plain": [
              "0.8453634085213032"
            ]
          },
          "metadata": {
            "tags": []
          },
          "execution_count": 74
        }
      ]
    },
    {
      "cell_type": "code",
      "metadata": {
        "colab": {
          "base_uri": "https://localhost:8080/"
        },
        "id": "lXy9TMVPdWra",
        "outputId": "7459aaf6-db8c-47ac-8d27-92420e3cad11"
      },
      "source": [
        "model = tree.DecisionTreeClassifier(random_state=1693, max_depth=22, min_samples_leaf=9)\n",
        "feats = ['mean radius', 'mean texture']\n",
        "X = df[feats].values\n",
        "validation(X,y,10,model)"
      ],
      "execution_count": 75,
      "outputs": [
        {
          "output_type": "execute_result",
          "data": {
            "text/plain": [
              "0.8647243107769423"
            ]
          },
          "metadata": {
            "tags": []
          },
          "execution_count": 75
        }
      ]
    },
    {
      "cell_type": "code",
      "metadata": {
        "colab": {
          "base_uri": "https://localhost:8080/"
        },
        "id": "Bk6AJr9idWji",
        "outputId": "4b6ef388-7185-4324-cdd1-38cd4ff240a9"
      },
      "source": [
        "model = tree.DecisionTreeClassifier(random_state=1693, max_depth=5, min_samples_leaf=19)\n",
        "feats = ['mean radius', 'mean texture']\n",
        "X = df[feats].values\n",
        "validation(X,y,10,model)"
      ],
      "execution_count": 76,
      "outputs": [
        {
          "output_type": "execute_result",
          "data": {
            "text/plain": [
              "0.8892543859649124"
            ]
          },
          "metadata": {
            "tags": []
          },
          "execution_count": 76
        }
      ]
    },
    {
      "cell_type": "code",
      "metadata": {
        "id": "K1xfMh2VdWZV",
        "colab": {
          "base_uri": "https://localhost:8080/"
        },
        "outputId": "45e1cb66-8958-4b51-9fd6-2e9b2cd58754"
      },
      "source": [
        "model = tree.DecisionTreeClassifier(random_state=1693, max_depth=21, min_samples_leaf=3)\n",
        "feats = ['mean radius', 'mean texture']\n",
        "X = df[feats].values\n",
        "validation(X,y,10,model)"
      ],
      "execution_count": 77,
      "outputs": [
        {
          "output_type": "execute_result",
          "data": {
            "text/plain": [
              "0.8471804511278196"
            ]
          },
          "metadata": {
            "tags": []
          },
          "execution_count": 77
        }
      ]
    },
    {
      "cell_type": "code",
      "metadata": {
        "id": "eHUI7Eg8h8Ck"
      },
      "source": [
        "model = tree.DecisionTreeClassifier(random_state=12345, max_depth=5, min_samples_leaf=19)\n",
        "feats = ['mean radius', 'mean texture']\n",
        "X = df[feats].values\n",
        "model.fit(X, y);\n",
        "predicted_classes = model.predict(X)"
      ],
      "execution_count": 82,
      "outputs": []
    },
    {
      "cell_type": "code",
      "metadata": {
        "colab": {
          "base_uri": "https://localhost:8080/",
          "height": 111
        },
        "id": "ynXz13ggiqjG",
        "outputId": "44de46c8-6616-4813-a817-5c067a8f2736"
      },
      "source": [
        "spc = ['No Default','Default']\n",
        "cm = confusion_matrix(y,predicted_classes)\n",
        "pd.DataFrame(cm, columns=spc, index=spc)"
      ],
      "execution_count": 83,
      "outputs": [
        {
          "output_type": "execute_result",
          "data": {
            "text/html": [
              "<div>\n",
              "<style scoped>\n",
              "    .dataframe tbody tr th:only-of-type {\n",
              "        vertical-align: middle;\n",
              "    }\n",
              "\n",
              "    .dataframe tbody tr th {\n",
              "        vertical-align: top;\n",
              "    }\n",
              "\n",
              "    .dataframe thead th {\n",
              "        text-align: right;\n",
              "    }\n",
              "</style>\n",
              "<table border=\"1\" class=\"dataframe\">\n",
              "  <thead>\n",
              "    <tr style=\"text-align: right;\">\n",
              "      <th></th>\n",
              "      <th>No Default</th>\n",
              "      <th>Default</th>\n",
              "    </tr>\n",
              "  </thead>\n",
              "  <tbody>\n",
              "    <tr>\n",
              "      <th>No Default</th>\n",
              "      <td>190</td>\n",
              "      <td>22</td>\n",
              "    </tr>\n",
              "    <tr>\n",
              "      <th>Default</th>\n",
              "      <td>31</td>\n",
              "      <td>326</td>\n",
              "    </tr>\n",
              "  </tbody>\n",
              "</table>\n",
              "</div>"
            ],
            "text/plain": [
              "            No Default  Default\n",
              "No Default         190       22\n",
              "Default             31      326"
            ]
          },
          "metadata": {
            "tags": []
          },
          "execution_count": 83
        }
      ]
    },
    {
      "cell_type": "code",
      "metadata": {
        "id": "LN0E09ORd-99"
      },
      "source": [
        "model = tree.DecisionTreeClassifier(random_state=1234, max_depth=10, min_samples_leaf=20)\n",
        "#columns = 'meanradius meantexture meanperimeter meanarea meansmoothness meancompactness meanconcavity meanconcavepoints meansymmetry meanfractaldimension radiuserror textureerror perimetererror areaerror smoothnesserror compactnesserror concavityerror concavepointserror symmetryerror fractaldimensionerror worstradius worsttexture worstperimeter worstarea worstsmoothness worstcompactness worstconcavity worstconcavepoints worstsymmetry worstfractaldimension'.split()\n",
        "df = pd.DataFrame(data=dat.data, columns=dat.feature_names)\n",
        "X=df\n",
        "Xs = scale.fit_transform(X)\n",
        "y = dat.target\n",
        "#list(df.columns)\n",
        "#result = stepwise_selection(Xs,y)"
      ],
      "execution_count": 102,
      "outputs": []
    },
    {
      "cell_type": "code",
      "metadata": {
        "id": "A3R9U2YIkxEB"
      },
      "source": [
        "from sklearn.preprocessing import LabelEncoder\n",
        "label_encoder = LabelEncoder()\n",
        "y_dif = label_encoder.fit_transform(y)"
      ],
      "execution_count": 105,
      "outputs": []
    },
    {
      "cell_type": "code",
      "metadata": {
        "id": "LZcahdmCmPTE"
      },
      "source": [
        "from sklearn.decomposition import PCA\n",
        "pca = PCA(n_components=9)\n",
        "principal_Components = pca.fit_transform(Xs)\n",
        "#principal_df = pd.DataFrame(data = principal_Components)\n",
        "#final_df = pd.concat(principal_df, y)\n",
        "model.fit(principal_Components, y);\n",
        "predicted_classes = model.predict(principal_Components)"
      ],
      "execution_count": 106,
      "outputs": []
    },
    {
      "cell_type": "code",
      "metadata": {
        "colab": {
          "base_uri": "https://localhost:8080/",
          "height": 111
        },
        "id": "1mo57AsFyMac",
        "outputId": "a3b72241-d948-4341-e2f3-f83ef5465917"
      },
      "source": [
        "spc = ['No Default','Default']\n",
        "cm = confusion_matrix(y,predicted_classes)\n",
        "pd.DataFrame(cm, columns=spc, index=spc)"
      ],
      "execution_count": 107,
      "outputs": [
        {
          "output_type": "execute_result",
          "data": {
            "text/html": [
              "<div>\n",
              "<style scoped>\n",
              "    .dataframe tbody tr th:only-of-type {\n",
              "        vertical-align: middle;\n",
              "    }\n",
              "\n",
              "    .dataframe tbody tr th {\n",
              "        vertical-align: top;\n",
              "    }\n",
              "\n",
              "    .dataframe thead th {\n",
              "        text-align: right;\n",
              "    }\n",
              "</style>\n",
              "<table border=\"1\" class=\"dataframe\">\n",
              "  <thead>\n",
              "    <tr style=\"text-align: right;\">\n",
              "      <th></th>\n",
              "      <th>No Default</th>\n",
              "      <th>Default</th>\n",
              "    </tr>\n",
              "  </thead>\n",
              "  <tbody>\n",
              "    <tr>\n",
              "      <th>No Default</th>\n",
              "      <td>205</td>\n",
              "      <td>7</td>\n",
              "    </tr>\n",
              "    <tr>\n",
              "      <th>Default</th>\n",
              "      <td>28</td>\n",
              "      <td>329</td>\n",
              "    </tr>\n",
              "  </tbody>\n",
              "</table>\n",
              "</div>"
            ],
            "text/plain": [
              "            No Default  Default\n",
              "No Default         205        7\n",
              "Default             28      329"
            ]
          },
          "metadata": {
            "tags": []
          },
          "execution_count": 107
        }
      ]
    },
    {
      "cell_type": "code",
      "metadata": {
        "id": "EBegLtgYytVj"
      },
      "source": [
        ""
      ],
      "execution_count": null,
      "outputs": []
    }
  ]
}