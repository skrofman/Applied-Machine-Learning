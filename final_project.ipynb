{
  "nbformat": 4,
  "nbformat_minor": 0,
  "metadata": {
    "colab": {
      "name": "final_project.ipynb",
      "provenance": [],
      "mount_file_id": "18bUp0XcipBedSbMzmZ5_Hf1h-4vjJd4Q",
      "authorship_tag": "ABX9TyOoEa1LgU5JMg0zcgF7vhUi",
      "include_colab_link": true
    },
    "kernelspec": {
      "name": "python3",
      "display_name": "Python 3"
    },
    "language_info": {
      "name": "python"
    }
  },
  "cells": [
    {
      "cell_type": "markdown",
      "metadata": {
        "id": "view-in-github",
        "colab_type": "text"
      },
      "source": [
        "<a href=\"https://colab.research.google.com/github/skrofman/Applied-Machine-Learning/blob/master/final_project.ipynb\" target=\"_parent\"><img src=\"https://colab.research.google.com/assets/colab-badge.svg\" alt=\"Open In Colab\"/></a>"
      ]
    },
    {
      "cell_type": "markdown",
      "metadata": {
        "id": "a-GwrDjOzI4v"
      },
      "source": [
        "**Q1: A stopword is...:**\n",
        "\n",
        "A word that is removed from the analysis."
      ]
    },
    {
      "cell_type": "markdown",
      "metadata": {
        "id": "jkBw2LkYzOeO"
      },
      "source": [
        "**Q2: Check each of the processes you undertake before entering a text value into your corpus.**\n",
        "\n",
        "*   Remove any extra characters or words that are not informative.\n",
        "*   Convert each word to it's root.\n",
        "*   Ensure all words are lower or upper case in the same way.\n",
        "\n",
        "\n",
        "\n"
      ]
    },
    {
      "cell_type": "markdown",
      "metadata": {
        "id": "zHyiIOijzN9W"
      },
      "source": [
        "**Q3: In order to remove any characters that are not lowercase, uppercase, numeric (0 to 9) or spaces, what is the correct line of regex code for the below example (in Python)? X = \"The answer to this question is a secret.\"**\n",
        "\n",
        "re.sub('[^a-zA-Z0-9 ]', '', X)\n"
      ]
    },
    {
      "cell_type": "markdown",
      "metadata": {
        "id": "lrATKdLF0K0x"
      },
      "source": [
        "**Q4: NLP can be used for both probabilistic (soft) and discrete (hard) classification problems.**\n",
        "\n",
        "False"
      ]
    },
    {
      "cell_type": "markdown",
      "metadata": {
        "id": "9vuve1zD0XQa"
      },
      "source": [
        "**Q5: Which of the below is not a step unique to pre-processing text data?**\n",
        "\n",
        "Imputation of any missing values"
      ]
    },
    {
      "cell_type": "markdown",
      "metadata": {
        "id": "TnyUsm4-0e_0"
      },
      "source": [
        "**Q6: NLP can leverage the same classification algorithms used in other machine learning contexts.**\n",
        "\n",
        "True"
      ]
    },
    {
      "cell_type": "markdown",
      "metadata": {
        "id": "3nUwOlgU0kDR"
      },
      "source": [
        "**Q7: For all the remaining questions we use the winemagdata130kv2 dataset and we ramdonly subset 7000 reviews with a random state = 310.  If we plot a histogram of the target variable do we see that the distribution is almost normal ?**\n",
        "\n",
        "True"
      ]
    },
    {
      "cell_type": "code",
      "metadata": {
        "colab": {
          "base_uri": "https://localhost:8080/"
        },
        "id": "i0mzmdGTqekU",
        "outputId": "e160c57a-6bb5-44be-cb1a-0384864265d9"
      },
      "source": [
        "import nltk\n",
        "nltk.download('punkt')\n",
        "import numpy as np\n",
        "import matplotlib.pyplot as plt\n",
        "from nltk import download\n",
        "from nltk.corpus import stopwords\n",
        "nltk.download('stopwords')\n",
        "from sklearn.model_selection import train_test_split as tts\n",
        "from sklearn.linear_model import LogisticRegression\n",
        "from sklearn.preprocessing import StandardScaler"
      ],
      "execution_count": 1,
      "outputs": [
        {
          "output_type": "stream",
          "text": [
            "[nltk_data] Downloading package punkt to /root/nltk_data...\n",
            "[nltk_data]   Unzipping tokenizers/punkt.zip.\n",
            "[nltk_data] Downloading package stopwords to /root/nltk_data...\n",
            "[nltk_data]   Unzipping corpora/stopwords.zip.\n"
          ],
          "name": "stdout"
        }
      ]
    },
    {
      "cell_type": "code",
      "metadata": {
        "id": "NVbJxvayvALp"
      },
      "source": [
        "import pandas as pd\n",
        "from sklearn.ensemble import RandomForestClassifier\n",
        "from sklearn.naive_bayes import GaussianNB\n",
        "from sklearn.linear_model import LogisticRegression\n",
        "from sklearn.metrics import confusion_matrix\n",
        "from sklearn.model_selection import train_test_split as tts\n",
        "from sklearn.metrics import accuracy_score as acc\n",
        "import heapq \n",
        "import re\n",
        "from nltk.stem.porter import PorterStemmer\n",
        "from sklearn.feature_extraction.text import CountVectorizer"
      ],
      "execution_count": 3,
      "outputs": []
    },
    {
      "cell_type": "code",
      "metadata": {
        "colab": {
          "base_uri": "https://localhost:8080/"
        },
        "id": "Lt3E2ynQqd_J",
        "outputId": "1a2eb4d2-7952-4d29-aba4-be909c65f5c7"
      },
      "source": [
        "%%time\n",
        "wine_data = pd.read_csv('/content/drive/MyDrive/winemagdata130kv2.csv',quoting=2)\n",
        "wines = wine_data[[\"description\",\"points\"]]\n",
        "wines_subset = wines.sample(7000,random_state=310).reset_index(drop=True)\n",
        "corpus = []\n",
        "\n",
        "for i in range(0,len(wines_subset)):\n",
        "    wine_descriptions = re.sub('[^a-zA-Z0-9 ]','',wines_subset[\"description\"][i])\n",
        "    wine_descriptions=wine_descriptions.lower()\n",
        "    wine_descriptions = wine_descriptions.split()\n",
        "    wine_descriptions = [word for word in wine_descriptions if not word in set(stopwords.words('english'))]\n",
        "    stemmer = PorterStemmer()\n",
        "    wine_descriptions = [stemmer.stem(word) for word in wine_descriptions]\n",
        "    wine_descriptions = \" \".join(wine_descriptions)\n",
        "    corpus.append(wine_descriptions)"
      ],
      "execution_count": 11,
      "outputs": [
        {
          "output_type": "stream",
          "text": [
            "CPU times: user 37.2 s, sys: 3.33 s, total: 40.6 s\n",
            "Wall time: 40.6 s\n"
          ],
          "name": "stdout"
        }
      ]
    },
    {
      "cell_type": "code",
      "metadata": {
        "colab": {
          "base_uri": "https://localhost:8080/"
        },
        "id": "gpqHeG9GwcOI",
        "outputId": "54aa995b-130a-441a-89cd-f5189face84f"
      },
      "source": [
        "%%time\n",
        "countVec = CountVectorizer()\n",
        "X_raw = countVec.fit_transform(corpus)\n",
        "X = X_raw.toarray()"
      ],
      "execution_count": 12,
      "outputs": [
        {
          "output_type": "stream",
          "text": [
            "CPU times: user 239 ms, sys: 72.2 ms, total: 312 ms\n",
            "Wall time: 315 ms\n"
          ],
          "name": "stdout"
        }
      ]
    },
    {
      "cell_type": "code",
      "metadata": {
        "colab": {
          "base_uri": "https://localhost:8080/",
          "height": 265
        },
        "id": "GiDrD66Owdhw",
        "outputId": "5b7c6986-c2e6-4627-8bdc-368cc6a774dd"
      },
      "source": [
        "#### Visualize the distribution of the wine ratings (points)\n",
        "n, bins, patches = plt.hist(wines_subset[\"points\"].values,10,density=1,facecolor='green',alpha=0.7)"
      ],
      "execution_count": 13,
      "outputs": [
        {
          "output_type": "display_data",
          "data": {
            "image/png": "[encoded data removed]",
            "text/plain": [
              "<Figure size 432x288 with 1 Axes>"
            ]
          },
          "metadata": {
            "tags": [],
            "needs_background": "light"
          }
        }
      ]
    },
    {
      "cell_type": "markdown",
      "metadata": {
        "id": "vFF1Mwcv0q1-"
      },
      "source": [
        "**Q8: For all the remaining questions we use the winemagdata130kv2 dataset and we ramdonly subset 7000 reviews with a random state = 310 and we preprocess in the sense of Natural Language Processing (as explained in class) all the customer reviews. We label as Good those wines who had more than 90 points (in the target variable). We subset the data into Train and Test sets such that the Test set is about 25% and we train a logistic regression classifier. When this model is applied to the Test set we see that the number of  Good correctly classified as Good is**\n",
        "\n",
        "261"
      ]
    },
    {
      "cell_type": "code",
      "metadata": {
        "id": "Q5icwu9Xw9L9"
      },
      "source": [
        "y = wines_subset[\"points\"]\n",
        "y = y.where(y>90,other=0).where(y<=90,other=1).values"
      ],
      "execution_count": 14,
      "outputs": []
    },
    {
      "cell_type": "code",
      "metadata": {
        "id": "eHg_tt1-w9cQ"
      },
      "source": [
        "X_train, X_test, Y_train, Y_test = tts(X,y,random_state=310, test_size=0.25)\n",
        "#scale_X = StandardScaler()\n",
        "#X_train = scale_X.fit_transform(X_train)\n",
        "#X_test = scale_X.transform(X_test)\n",
        "classifier = LogisticRegression(random_state=310, solver='lbfgs')\n",
        "classifier.fit(X_train,Y_train)\n",
        "Y_pred = classifier.predict(X_test)"
      ],
      "execution_count": 30,
      "outputs": []
    },
    {
      "cell_type": "code",
      "metadata": {
        "colab": {
          "base_uri": "https://localhost:8080/",
          "height": 111
        },
        "id": "5CmHinuDxJn6",
        "outputId": "ebae3f3e-25c3-4c62-9e24-64d4d8661cfd"
      },
      "source": [
        "spc = ['Bad','Good']\n",
        "cm = confusion_matrix(Y_test,Y_pred)\n",
        "pd.DataFrame(cm, columns=spc, index=spc)"
      ],
      "execution_count": 31,
      "outputs": [
        {
          "output_type": "execute_result",
          "data": {
            "text/html": [
              "<div>\n",
              "<style scoped>\n",
              "    .dataframe tbody tr th:only-of-type {\n",
              "        vertical-align: middle;\n",
              "    }\n",
              "\n",
              "    .dataframe tbody tr th {\n",
              "        vertical-align: top;\n",
              "    }\n",
              "\n",
              "    .dataframe thead th {\n",
              "        text-align: right;\n",
              "    }\n",
              "</style>\n",
              "<table border=\"1\" class=\"dataframe\">\n",
              "  <thead>\n",
              "    <tr style=\"text-align: right;\">\n",
              "      <th></th>\n",
              "      <th>Bad</th>\n",
              "      <th>Good</th>\n",
              "    </tr>\n",
              "  </thead>\n",
              "  <tbody>\n",
              "    <tr>\n",
              "      <th>Bad</th>\n",
              "      <td>1206</td>\n",
              "      <td>97</td>\n",
              "    </tr>\n",
              "    <tr>\n",
              "      <th>Good</th>\n",
              "      <td>186</td>\n",
              "      <td>261</td>\n",
              "    </tr>\n",
              "  </tbody>\n",
              "</table>\n",
              "</div>"
            ],
            "text/plain": [
              "       Bad  Good\n",
              "Bad   1206    97\n",
              "Good   186   261"
            ]
          },
          "metadata": {
            "tags": []
          },
          "execution_count": 31
        }
      ]
    },
    {
      "cell_type": "markdown",
      "metadata": {
        "id": "7IleNnne050S"
      },
      "source": [
        "**Q9: The overall accuracy for applying the logistic regression classifier on the Test set is (as a percetage with 2 decimals, eg.format like 53.74 without rounding):**\n",
        "\n",
        "0.8382857142857143"
      ]
    },
    {
      "cell_type": "code",
      "metadata": {
        "colab": {
          "base_uri": "https://localhost:8080/"
        },
        "id": "b9p_8C1txM4f",
        "outputId": "bb6f2bf7-d85c-45dd-b463-2f55aabac3d3"
      },
      "source": [
        "acc(Y_test,Y_pred)"
      ],
      "execution_count": 32,
      "outputs": [
        {
          "output_type": "execute_result",
          "data": {
            "text/plain": [
              "0.8382857142857143"
            ]
          },
          "metadata": {
            "tags": []
          },
          "execution_count": 32
        }
      ]
    },
    {
      "cell_type": "code",
      "metadata": {
        "id": "fPuD7DXixYdZ"
      },
      "source": [
        "#X_train, X_test, Y_train, Y_test = tts(X,y,test_size=0.25)\n",
        "cls = RandomForestClassifier(max_depth=150, n_estimators = 500, random_state=310)\n",
        "cls.fit(X_train,Y_train)\n",
        "Y_pred = cls.predict(X_test)"
      ],
      "execution_count": 33,
      "outputs": []
    },
    {
      "cell_type": "markdown",
      "metadata": {
        "id": "qIwghJqX1kZb"
      },
      "source": [
        "**Q10: If we train a random forest classifier with 500 trees and a max_depth of 150 then the number of not good winse classified correctly as not good is**\n",
        "\n",
        "1303"
      ]
    },
    {
      "cell_type": "code",
      "metadata": {
        "colab": {
          "base_uri": "https://localhost:8080/",
          "height": 111
        },
        "id": "wn7lOGESyCXA",
        "outputId": "9de64e47-8886-42fe-9b04-c88dbe3d0b6a"
      },
      "source": [
        "spc = ['Bad','Good']\n",
        "cm = confusion_matrix(Y_test,Y_pred)\n",
        "pd.DataFrame(cm, columns=spc, index=spc)"
      ],
      "execution_count": 34,
      "outputs": [
        {
          "output_type": "execute_result",
          "data": {
            "text/html": [
              "<div>\n",
              "<style scoped>\n",
              "    .dataframe tbody tr th:only-of-type {\n",
              "        vertical-align: middle;\n",
              "    }\n",
              "\n",
              "    .dataframe tbody tr th {\n",
              "        vertical-align: top;\n",
              "    }\n",
              "\n",
              "    .dataframe thead th {\n",
              "        text-align: right;\n",
              "    }\n",
              "</style>\n",
              "<table border=\"1\" class=\"dataframe\">\n",
              "  <thead>\n",
              "    <tr style=\"text-align: right;\">\n",
              "      <th></th>\n",
              "      <th>Bad</th>\n",
              "      <th>Good</th>\n",
              "    </tr>\n",
              "  </thead>\n",
              "  <tbody>\n",
              "    <tr>\n",
              "      <th>Bad</th>\n",
              "      <td>1303</td>\n",
              "      <td>0</td>\n",
              "    </tr>\n",
              "    <tr>\n",
              "      <th>Good</th>\n",
              "      <td>406</td>\n",
              "      <td>41</td>\n",
              "    </tr>\n",
              "  </tbody>\n",
              "</table>\n",
              "</div>"
            ],
            "text/plain": [
              "       Bad  Good\n",
              "Bad   1303     0\n",
              "Good   406    41"
            ]
          },
          "metadata": {
            "tags": []
          },
          "execution_count": 34
        }
      ]
    },
    {
      "cell_type": "code",
      "metadata": {
        "id": "5VUqq2a1zOjU"
      },
      "source": [
        ""
      ],
      "execution_count": null,
      "outputs": []
    }
  ]
}