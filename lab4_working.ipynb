{
  "nbformat": 4,
  "nbformat_minor": 0,
  "metadata": {
    "colab": {
      "name": "lab4_working.ipynb",
      "provenance": [],
      "authorship_tag": "ABX9TyPZ565vJPABtXoCvt/04roz",
      "include_colab_link": true
    },
    "kernelspec": {
      "name": "python3",
      "display_name": "Python 3"
    }
  },
  "cells": [
    {
      "cell_type": "markdown",
      "metadata": {
        "id": "view-in-github",
        "colab_type": "text"
      },
      "source": [
        "<a href=\"https://colab.research.google.com/github/skrofman/Applied-Machine-Learning/blob/master/lab4_working.ipynb\" target=\"_parent\"><img src=\"https://colab.research.google.com/assets/colab-badge.svg\" alt=\"Open In Colab\"/></a>"
      ]
    },
    {
      "cell_type": "markdown",
      "metadata": {
        "id": "XN6X0QF0_ksf"
      },
      "source": [
        "1.) Regularization is defined as...\n",
        "\n",
        "The minimization of the sum of squared residuals subject to a constraint on the weights (aka coefficients)."
      ]
    },
    {
      "cell_type": "markdown",
      "metadata": {
        "id": "-Q31IDEe_5qR"
      },
      "source": [
        "2.) The regularization with the square of an L2 distance may improve the results compared to OLS when the number of features is higher than the number of observations.\n",
        "\n",
        "True"
      ]
    },
    {
      "cell_type": "markdown",
      "metadata": {
        "id": "JlDQ6npiBmKq"
      },
      "source": [
        "3.) The L1 norm always yields shorter distances compared to the Euclidean norm (L2).\n",
        "\n",
        "False"
      ]
    },
    {
      "cell_type": "markdown",
      "metadata": {
        "id": "9_KJs5ngCEVt"
      },
      "source": [
        "4.) Typically, the regularization is achieved by...\n",
        "\n",
        "minimizing the sum of squared residuals times the average of the L1 norm of the coefficients."
      ]
    },
    {
      "cell_type": "markdown",
      "metadata": {
        "id": "mWFpn17tD8xc"
      },
      "source": [
        "5.) A regularization method that facilitates variable selection (estimating some coefficients as zero) is \n",
        "\n",
        "Ridge"
      ]
    },
    {
      "cell_type": "markdown",
      "metadata": {
        "id": "W_d4ttnIEDZx"
      },
      "source": [
        "6.) Write your own Python code to import the Boston housing data set (from the sklearn library) and scale the data (not the target) by z-scores. If we use all the features with the Linear Regression to predict the target variable then the root mean squared error (RMSE) is:\n",
        "\n",
        "(your answer should include only the first 4 decimals that you get from the code)"
      ]
    },
    {
      "cell_type": "code",
      "metadata": {
        "id": "mKUj-RaM_gDv"
      },
      "source": [
        "import numpy as np\n",
        "import pandas as pd\n",
        "import matplotlib.pyplot as plt\n",
        "from sklearn.datasets import load_boston\n",
        "from sklearn import linear_model\n",
        "from sklearn.svm import LinearSVR\n",
        "from sklearn.linear_model import Ridge, Lasso, ElasticNet, LinearRegression\n",
        "from sklearn.metrics import mean_squared_error as MSE\n",
        "from sklearn.pipeline import Pipeline\n",
        "from sklearn.preprocessing import StandardScaler\n",
        "from sklearn.model_selection import KFold\n",
        "from sklearn.metrics import mean_absolute_error as MAE\n",
        "from sklearn.preprocessing import PolynomialFeatures"
      ],
      "execution_count": 31,
      "outputs": []
    },
    {
      "cell_type": "code",
      "metadata": {
        "id": "zipQataDEXLQ"
      },
      "source": [
        "scale = StandardScaler()"
      ],
      "execution_count": 8,
      "outputs": []
    },
    {
      "cell_type": "code",
      "metadata": {
        "colab": {
          "base_uri": "https://localhost:8080/",
          "height": 419
        },
        "id": "j7sb8EyWE_0S",
        "outputId": "2946f566-75aa-4e5c-c2ed-61371c8c30da"
      },
      "source": [
        "data = load_boston()\n",
        "df = pd.DataFrame(data=data.data, columns=data.feature_names)\n",
        "y = data.target\n",
        "df"
      ],
      "execution_count": 9,
      "outputs": [
        {
          "output_type": "execute_result",
          "data": {
            "text/html": [
              "<div>\n",
              "<style scoped>\n",
              "    .dataframe tbody tr th:only-of-type {\n",
              "        vertical-align: middle;\n",
              "    }\n",
              "\n",
              "    .dataframe tbody tr th {\n",
              "        vertical-align: top;\n",
              "    }\n",
              "\n",
              "    .dataframe thead th {\n",
              "        text-align: right;\n",
              "    }\n",
              "</style>\n",
              "<table border=\"1\" class=\"dataframe\">\n",
              "  <thead>\n",
              "    <tr style=\"text-align: right;\">\n",
              "      <th></th>\n",
              "      <th>CRIM</th>\n",
              "      <th>ZN</th>\n",
              "      <th>INDUS</th>\n",
              "      <th>CHAS</th>\n",
              "      <th>NOX</th>\n",
              "      <th>RM</th>\n",
              "      <th>AGE</th>\n",
              "      <th>DIS</th>\n",
              "      <th>RAD</th>\n",
              "      <th>TAX</th>\n",
              "      <th>PTRATIO</th>\n",
              "      <th>B</th>\n",
              "      <th>LSTAT</th>\n",
              "    </tr>\n",
              "  </thead>\n",
              "  <tbody>\n",
              "    <tr>\n",
              "      <th>0</th>\n",
              "      <td>0.00632</td>\n",
              "      <td>18.0</td>\n",
              "      <td>2.31</td>\n",
              "      <td>0.0</td>\n",
              "      <td>0.538</td>\n",
              "      <td>6.575</td>\n",
              "      <td>65.2</td>\n",
              "      <td>4.0900</td>\n",
              "      <td>1.0</td>\n",
              "      <td>296.0</td>\n",
              "      <td>15.3</td>\n",
              "      <td>396.90</td>\n",
              "      <td>4.98</td>\n",
              "    </tr>\n",
              "    <tr>\n",
              "      <th>1</th>\n",
              "      <td>0.02731</td>\n",
              "      <td>0.0</td>\n",
              "      <td>7.07</td>\n",
              "      <td>0.0</td>\n",
              "      <td>0.469</td>\n",
              "      <td>6.421</td>\n",
              "      <td>78.9</td>\n",
              "      <td>4.9671</td>\n",
              "      <td>2.0</td>\n",
              "      <td>242.0</td>\n",
              "      <td>17.8</td>\n",
              "      <td>396.90</td>\n",
              "      <td>9.14</td>\n",
              "    </tr>\n",
              "    <tr>\n",
              "      <th>2</th>\n",
              "      <td>0.02729</td>\n",
              "      <td>0.0</td>\n",
              "      <td>7.07</td>\n",
              "      <td>0.0</td>\n",
              "      <td>0.469</td>\n",
              "      <td>7.185</td>\n",
              "      <td>61.1</td>\n",
              "      <td>4.9671</td>\n",
              "      <td>2.0</td>\n",
              "      <td>242.0</td>\n",
              "      <td>17.8</td>\n",
              "      <td>392.83</td>\n",
              "      <td>4.03</td>\n",
              "    </tr>\n",
              "    <tr>\n",
              "      <th>3</th>\n",
              "      <td>0.03237</td>\n",
              "      <td>0.0</td>\n",
              "      <td>2.18</td>\n",
              "      <td>0.0</td>\n",
              "      <td>0.458</td>\n",
              "      <td>6.998</td>\n",
              "      <td>45.8</td>\n",
              "      <td>6.0622</td>\n",
              "      <td>3.0</td>\n",
              "      <td>222.0</td>\n",
              "      <td>18.7</td>\n",
              "      <td>394.63</td>\n",
              "      <td>2.94</td>\n",
              "    </tr>\n",
              "    <tr>\n",
              "      <th>4</th>\n",
              "      <td>0.06905</td>\n",
              "      <td>0.0</td>\n",
              "      <td>2.18</td>\n",
              "      <td>0.0</td>\n",
              "      <td>0.458</td>\n",
              "      <td>7.147</td>\n",
              "      <td>54.2</td>\n",
              "      <td>6.0622</td>\n",
              "      <td>3.0</td>\n",
              "      <td>222.0</td>\n",
              "      <td>18.7</td>\n",
              "      <td>396.90</td>\n",
              "      <td>5.33</td>\n",
              "    </tr>\n",
              "    <tr>\n",
              "      <th>...</th>\n",
              "      <td>...</td>\n",
              "      <td>...</td>\n",
              "      <td>...</td>\n",
              "      <td>...</td>\n",
              "      <td>...</td>\n",
              "      <td>...</td>\n",
              "      <td>...</td>\n",
              "      <td>...</td>\n",
              "      <td>...</td>\n",
              "      <td>...</td>\n",
              "      <td>...</td>\n",
              "      <td>...</td>\n",
              "      <td>...</td>\n",
              "    </tr>\n",
              "    <tr>\n",
              "      <th>501</th>\n",
              "      <td>0.06263</td>\n",
              "      <td>0.0</td>\n",
              "      <td>11.93</td>\n",
              "      <td>0.0</td>\n",
              "      <td>0.573</td>\n",
              "      <td>6.593</td>\n",
              "      <td>69.1</td>\n",
              "      <td>2.4786</td>\n",
              "      <td>1.0</td>\n",
              "      <td>273.0</td>\n",
              "      <td>21.0</td>\n",
              "      <td>391.99</td>\n",
              "      <td>9.67</td>\n",
              "    </tr>\n",
              "    <tr>\n",
              "      <th>502</th>\n",
              "      <td>0.04527</td>\n",
              "      <td>0.0</td>\n",
              "      <td>11.93</td>\n",
              "      <td>0.0</td>\n",
              "      <td>0.573</td>\n",
              "      <td>6.120</td>\n",
              "      <td>76.7</td>\n",
              "      <td>2.2875</td>\n",
              "      <td>1.0</td>\n",
              "      <td>273.0</td>\n",
              "      <td>21.0</td>\n",
              "      <td>396.90</td>\n",
              "      <td>9.08</td>\n",
              "    </tr>\n",
              "    <tr>\n",
              "      <th>503</th>\n",
              "      <td>0.06076</td>\n",
              "      <td>0.0</td>\n",
              "      <td>11.93</td>\n",
              "      <td>0.0</td>\n",
              "      <td>0.573</td>\n",
              "      <td>6.976</td>\n",
              "      <td>91.0</td>\n",
              "      <td>2.1675</td>\n",
              "      <td>1.0</td>\n",
              "      <td>273.0</td>\n",
              "      <td>21.0</td>\n",
              "      <td>396.90</td>\n",
              "      <td>5.64</td>\n",
              "    </tr>\n",
              "    <tr>\n",
              "      <th>504</th>\n",
              "      <td>0.10959</td>\n",
              "      <td>0.0</td>\n",
              "      <td>11.93</td>\n",
              "      <td>0.0</td>\n",
              "      <td>0.573</td>\n",
              "      <td>6.794</td>\n",
              "      <td>89.3</td>\n",
              "      <td>2.3889</td>\n",
              "      <td>1.0</td>\n",
              "      <td>273.0</td>\n",
              "      <td>21.0</td>\n",
              "      <td>393.45</td>\n",
              "      <td>6.48</td>\n",
              "    </tr>\n",
              "    <tr>\n",
              "      <th>505</th>\n",
              "      <td>0.04741</td>\n",
              "      <td>0.0</td>\n",
              "      <td>11.93</td>\n",
              "      <td>0.0</td>\n",
              "      <td>0.573</td>\n",
              "      <td>6.030</td>\n",
              "      <td>80.8</td>\n",
              "      <td>2.5050</td>\n",
              "      <td>1.0</td>\n",
              "      <td>273.0</td>\n",
              "      <td>21.0</td>\n",
              "      <td>396.90</td>\n",
              "      <td>7.88</td>\n",
              "    </tr>\n",
              "  </tbody>\n",
              "</table>\n",
              "<p>506 rows × 13 columns</p>\n",
              "</div>"
            ],
            "text/plain": [
              "        CRIM    ZN  INDUS  CHAS    NOX  ...  RAD    TAX  PTRATIO       B  LSTAT\n",
              "0    0.00632  18.0   2.31   0.0  0.538  ...  1.0  296.0     15.3  396.90   4.98\n",
              "1    0.02731   0.0   7.07   0.0  0.469  ...  2.0  242.0     17.8  396.90   9.14\n",
              "2    0.02729   0.0   7.07   0.0  0.469  ...  2.0  242.0     17.8  392.83   4.03\n",
              "3    0.03237   0.0   2.18   0.0  0.458  ...  3.0  222.0     18.7  394.63   2.94\n",
              "4    0.06905   0.0   2.18   0.0  0.458  ...  3.0  222.0     18.7  396.90   5.33\n",
              "..       ...   ...    ...   ...    ...  ...  ...    ...      ...     ...    ...\n",
              "501  0.06263   0.0  11.93   0.0  0.573  ...  1.0  273.0     21.0  391.99   9.67\n",
              "502  0.04527   0.0  11.93   0.0  0.573  ...  1.0  273.0     21.0  396.90   9.08\n",
              "503  0.06076   0.0  11.93   0.0  0.573  ...  1.0  273.0     21.0  396.90   5.64\n",
              "504  0.10959   0.0  11.93   0.0  0.573  ...  1.0  273.0     21.0  393.45   6.48\n",
              "505  0.04741   0.0  11.93   0.0  0.573  ...  1.0  273.0     21.0  396.90   7.88\n",
              "\n",
              "[506 rows x 13 columns]"
            ]
          },
          "metadata": {
            "tags": []
          },
          "execution_count": 9
        }
      ]
    },
    {
      "cell_type": "code",
      "metadata": {
        "id": "JrD80YpLFwOJ"
      },
      "source": [
        "xscaled = scale.fit_transform(df)"
      ],
      "execution_count": 10,
      "outputs": []
    },
    {
      "cell_type": "code",
      "metadata": {
        "colab": {
          "base_uri": "https://localhost:8080/"
        },
        "id": "CSdbmrj1HUXO",
        "outputId": "06a8e795-388d-4fee-b049-f0b84dfe2f8b"
      },
      "source": [
        "lm = LinearRegression()\n",
        "lm.fit(xscaled,y)\n",
        "yhat_lm = lm.predict(xscaled)\n",
        "#MSE\n",
        "mse = np.mean((y-yhat_lm)**2)\n",
        "print(mse)"
      ],
      "execution_count": 15,
      "outputs": [
        {
          "output_type": "stream",
          "text": [
            "21.894831181729206\n"
          ],
          "name": "stdout"
        }
      ]
    },
    {
      "cell_type": "code",
      "metadata": {
        "colab": {
          "base_uri": "https://localhost:8080/"
        },
        "id": "QTAiiSvhH83_",
        "outputId": "2ad586ff-7df6-4747-b6c6-e81e88b402e5"
      },
      "source": [
        "rmse = np.sqrt(MSE(y,yhat_lm))\n",
        "print(rmse)"
      ],
      "execution_count": 14,
      "outputs": [
        {
          "output_type": "stream",
          "text": [
            "4.679191295697282\n"
          ],
          "name": "stdout"
        }
      ]
    },
    {
      "cell_type": "markdown",
      "metadata": {
        "id": "2GTJmGpHJOSo"
      },
      "source": [
        "7.) On the Boston housing data set if we consider the Lasso model with 'alpha=0.03' then the 10-fold cross-validated prediction error is:\n",
        "\n",
        "(for the 10-fold cross-validation shuffle you should use random_state=1234, your final answer should include only the first 4 decimals that you get from the code)"
      ]
    },
    {
      "cell_type": "code",
      "metadata": {
        "colab": {
          "base_uri": "https://localhost:8080/"
        },
        "id": "5bt2gudkImFY",
        "outputId": "233566a3-e211-4eb5-fbcd-88a5f8145cc5"
      },
      "source": [
        "kf = KFold(n_splits=10, random_state=1234, shuffle=True)\n",
        "i = 0\n",
        "PE = []\n",
        "lasso = Lasso(alpha=0.03)\n",
        "for train_index, test_index in kf.split(df):\n",
        "    X_train = df.values[train_index]\n",
        "    y_train = y[train_index]\n",
        "    X_test = df.values[test_index]\n",
        "    y_test = y[test_index]\n",
        "    model = lasso.fit(X_train, y_train)\n",
        "    y_pred = lasso.predict(X_test)\n",
        "    PE.append(np.sqrt(MSE(y_test, y_pred)))\n",
        "\n",
        "print('The k-fold crossvalidated prediction error is: ' + str(np.mean(PE)))"
      ],
      "execution_count": 64,
      "outputs": [
        {
          "output_type": "stream",
          "text": [
            "The k-fold crossvalidated prediction error is: 4.837045365806388\n"
          ],
          "name": "stdout"
        }
      ]
    },
    {
      "cell_type": "markdown",
      "metadata": {
        "id": "2XNHuqSgNjgL"
      },
      "source": [
        "8.) On the Boston housing data set if we consider the Elastic Net model with 'alpha=0.05' and 'l1_ratio=0.9' then the 10-fold cross-validated prediction error is:\n",
        "\n",
        "(for the 10-fold cross-validation shuffle you should use random_state=1234, your final answer should include only the first 4 decimals that you get from the code)"
      ]
    },
    {
      "cell_type": "code",
      "metadata": {
        "id": "9hAlYLtiNk9f"
      },
      "source": [
        "kf = KFold(n_splits=10, random_state=1234, shuffle=True)\n",
        "i = 0\n",
        "PE = []\n",
        "lasso = Lasso(alpha=0.03)\n",
        "for train_index, test_index in kf.split(df):\n",
        "    X_train = df.values[train_index]\n",
        "    y_train = y[train_index]\n",
        "    X_test = df.values[test_index]\n",
        "    y_test = y[test_index]\n",
        "    model = lasso.fit(X_train, y_train)\n",
        "    y_pred = lasso.predict(X_test)\n",
        "    PE.append(np.sqrt(MSE(y_test, y_pred)))\n",
        "\n",
        "print('The k-fold crossvalidated prediction error is: ' + str(np.mean(PE)))"
      ],
      "execution_count": null,
      "outputs": []
    },
    {
      "cell_type": "code",
      "metadata": {
        "id": "sUyyQhdzN2m3"
      },
      "source": [
        "X = df.values\n",
        "kf = KFold(n_splits=10, random_state=1234, shuffle=True)\n",
        "model = Lasso(alpha=0.03)\n",
        "scale = StandardScaler()\n",
        "pipe = Pipeline([('Scale',scale),('Regressor',model)])\n",
        "def DoKFold(X,y,model):\n",
        "  PE = []\n",
        "  for idxtrain,idxtest in kf.split(X):\n",
        "    Xtrain = X[idxtrain,:]\n",
        "    Xtest = X[idxtest,:]\n",
        "    ytrain = y[idxtrain]\n",
        "    ytest = y[idxtest]\n",
        "    pipe.fit(Xtrain,ytrain)\n",
        "    yhat = pipe.predict(Xtest)\n",
        "    PE.append(MSE(ytest,yhat))\n",
        "  return str(np.mean(PE))"
      ],
      "execution_count": 65,
      "outputs": []
    },
    {
      "cell_type": "code",
      "metadata": {
        "colab": {
          "base_uri": "https://localhost:8080/",
          "height": 35
        },
        "id": "sHnDJfm-OJgI",
        "outputId": "4acbf2b0-bb06-4f45-d5d3-60a95bd06b6d"
      },
      "source": [
        "DoKFold(X,y,model)"
      ],
      "execution_count": 66,
      "outputs": [
        {
          "output_type": "execute_result",
          "data": {
            "application/vnd.google.colaboratory.intrinsic+json": {
              "type": "string"
            },
            "text/plain": [
              "'24.26055570572141'"
            ]
          },
          "metadata": {
            "tags": []
          },
          "execution_count": 66
        }
      ]
    },
    {
      "cell_type": "code",
      "metadata": {
        "id": "y8Y7Sgm8OT9I"
      },
      "source": [
        "X = df.values\n",
        "kf = KFold(n_splits=10, random_state=1234, shuffle=True)\n",
        "model = ElasticNet(alpha=0.05, l1_ratio=0.9)\n",
        "scale = StandardScaler()\n",
        "pipe = Pipeline([('Scale',scale),('Regressor',model)])\n",
        "def DoKFold(X,y,model):\n",
        "  PE = []\n",
        "  for idxtrain,idxtest in kf.split(X):\n",
        "    Xtrain = X[idxtrain,:]\n",
        "    Xtest = X[idxtest,:]\n",
        "    ytrain = y[idxtrain]\n",
        "    ytest = y[idxtest]\n",
        "    pipe.fit(Xtrain,ytrain)\n",
        "    yhat = pipe.predict(Xtest)\n",
        "    PE.append(MSE(ytest,yhat))\n",
        "  return str(np.mean(PE))"
      ],
      "execution_count": 67,
      "outputs": []
    },
    {
      "cell_type": "code",
      "metadata": {
        "colab": {
          "base_uri": "https://localhost:8080/",
          "height": 35
        },
        "id": "01r3YwbQO799",
        "outputId": "ce8a59aa-7b69-4f11-ef95-8d2d7367fe71"
      },
      "source": [
        "DoKFold(X,y,model)"
      ],
      "execution_count": 68,
      "outputs": [
        {
          "output_type": "execute_result",
          "data": {
            "application/vnd.google.colaboratory.intrinsic+json": {
              "type": "string"
            },
            "text/plain": [
              "'24.310376851701204'"
            ]
          },
          "metadata": {
            "tags": []
          },
          "execution_count": 68
        }
      ]
    },
    {
      "cell_type": "markdown",
      "metadata": {
        "id": "YsJuLwxSPLan"
      },
      "source": [
        "9.) If we create all quadratic polynomial (degree=2) features based on the z-scores of the original features and then apply OLS, the root mean squared error is:"
      ]
    },
    {
      "cell_type": "code",
      "metadata": {
        "colab": {
          "base_uri": "https://localhost:8080/"
        },
        "id": "a8ajsSfxO9U8",
        "outputId": "f2c046ec-c8ba-4989-eadf-3e556873b76c"
      },
      "source": [
        "polynomial_features= PolynomialFeatures(degree=2)\n",
        "x_poly = polynomial_features.fit_transform(xscaled)\n",
        "\n",
        "model = LinearRegression()\n",
        "model.fit(x_poly, y)\n",
        "y_poly_pred = model.predict(x_poly)\n",
        "\n",
        "# the root mean squared error\n",
        "rmse = np.sqrt(MSE(y,y_poly_pred))\n",
        "print(rmse)"
      ],
      "execution_count": 71,
      "outputs": [
        {
          "output_type": "stream",
          "text": [
            "2.448373257727784\n"
          ],
          "name": "stdout"
        }
      ]
    },
    {
      "cell_type": "markdown",
      "metadata": {
        "id": "oKL2GIW5QnuL"
      },
      "source": [
        "10.) If we create all quadratic polynomial (degree=2) features based on the z-scores of the original features and then apply the Ridge regression with alpha=0.1 and we create a Quantile-Quantile plot for the residuals then the result shows that  the obtained residuals pretty much follow a normal distribution."
      ]
    },
    {
      "cell_type": "code",
      "metadata": {
        "colab": {
          "base_uri": "https://localhost:8080/"
        },
        "id": "3PZRfp-MV7p4",
        "outputId": "fb0f8b7d-aad0-42f2-cdaa-29e9362f458d"
      },
      "source": [
        "print(xscaled.shape)\n",
        "print(y.shape)\n",
        "print(x_poly.shape)\n",
        "print(y_poly_pred.shape)\n",
        "print(X.shape)"
      ],
      "execution_count": 78,
      "outputs": [
        {
          "output_type": "stream",
          "text": [
            "(506, 13)\n",
            "(506,)\n",
            "(506, 105)\n",
            "(506,)\n",
            "(506, 13)\n"
          ],
          "name": "stdout"
        }
      ]
    },
    {
      "cell_type": "code",
      "metadata": {
        "colab": {
          "base_uri": "https://localhost:8080/",
          "height": 505
        },
        "id": "-lBs4VPFQG-5",
        "outputId": "165c85dc-0351-4656-b202-04e8c858f243"
      },
      "source": [
        "import operator\n",
        "polynomial_features= PolynomialFeatures(degree=2)\n",
        "x_poly = polynomial_features.fit_transform(xscaled)\n",
        "\n",
        "model = Ridge(alpha=0.1)\n",
        "model.fit(x_poly, y)\n",
        "y_poly_pred = model.predict(x_poly)\n",
        "    \n",
        "fig, ax =plt.subplots(figsize=(10,8))\n",
        "ax.scatter(xscaled[:,1], y, color='cyan',edgecolors='k',s=60)\n",
        "# sort the values of x before line plot\n",
        "sort_axis = operator.itemgetter(0)\n",
        "sorted_zip = sorted(zip(xscaled[:,1],y_poly_pred), key=sort_axis)\n",
        "xp, y_poly_pred = zip(*sorted_zip)\n",
        "plt.plot(xp, y_poly_pred, color='magenta',linestyle='--',lw=2)\n",
        "ax.set_xlabel('Input',fontsize=18)\n",
        "ax.set_ylabel('Response',fontsize=18)\n",
        "ax.grid(b=True,which='major', color ='grey', linestyle='-', alpha=0.8)\n",
        "ax.grid(b=True,which='minor', color ='grey', linestyle='--', alpha=0.2)\n",
        "ax.minorticks_on()\n",
        "plt.show()"
      ],
      "execution_count": 82,
      "outputs": [
        {
          "output_type": "display_data",
          "data": {
            "image/png": "[encoded data removed]",
            "text/plain": [
              "<Figure size 720x576 with 1 Axes>"
            ]
          },
          "metadata": {
            "tags": [],
            "needs_background": "light"
          }
        }
      ]
    },
    {
      "cell_type": "code",
      "metadata": {
        "id": "kPQ4FY1YS8tC"
      },
      "source": [
        ""
      ],
      "execution_count": null,
      "outputs": []
    }
  ]
}