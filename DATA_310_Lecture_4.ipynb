{
  "nbformat": 4,
  "nbformat_minor": 0,
  "metadata": {
    "colab": {
      "name": "DATA_310_Lecture_4.ipynb",
      "provenance": [],
      "collapsed_sections": [],
      "toc_visible": true,
      "include_colab_link": true
    },
    "kernelspec": {
      "name": "python3",
      "display_name": "Python 3"
    }
  },
  "cells": [
    {
      "cell_type": "markdown",
      "metadata": {
        "id": "view-in-github",
        "colab_type": "text"
      },
      "source": [
        "<a href=\"https://colab.research.google.com/github/skrofman/Applied-Machine-Learning/blob/master/DATA_310_Lecture_4.ipynb\" target=\"_parent\"><img src=\"https://colab.research.google.com/assets/colab-badge.svg\" alt=\"Open In Colab\"/></a>"
      ]
    },
    {
      "cell_type": "markdown",
      "metadata": {
        "id": "ykIGUHKiPvmb"
      },
      "source": [
        "# Lecture 4"
      ]
    },
    {
      "cell_type": "markdown",
      "metadata": {
        "id": "CcI3O9I8_l5W"
      },
      "source": [
        "## How to easily set up a working folder"
      ]
    },
    {
      "cell_type": "code",
      "metadata": {
        "id": "c-wk7s32_up_",
        "colab": {
          "base_uri": "https://localhost:8080/"
        },
        "outputId": "7f12a0d6-d4cf-4d4a-e9f5-fe3b5ca487d4"
      },
      "source": [
        "cd /content/drive/MyDrive/"
      ],
      "execution_count": 17,
      "outputs": [
        {
          "output_type": "stream",
          "text": [
            "/content/drive/MyDrive\n"
          ],
          "name": "stdout"
        }
      ]
    },
    {
      "cell_type": "code",
      "metadata": {
        "colab": {
          "base_uri": "https://localhost:8080/",
          "height": 35
        },
        "id": "yVrmGZbF_D8o",
        "outputId": "e4a91eb5-3403-42e6-d8e5-b8dce8033e9a"
      },
      "source": [
        "pwd"
      ],
      "execution_count": 14,
      "outputs": [
        {
          "output_type": "execute_result",
          "data": {
            "application/vnd.google.colaboratory.intrinsic+json": {
              "type": "string"
            },
            "text/plain": [
              "'/content/drive/MyDrive'"
            ]
          },
          "metadata": {
            "tags": []
          },
          "execution_count": 14
        }
      ]
    },
    {
      "cell_type": "code",
      "metadata": {
        "colab": {
          "base_uri": "https://localhost:8080/"
        },
        "id": "o1KHcLL_-WU4",
        "outputId": "b1dd7cd4-8a7d-4550-8f15-ab4278955ae0"
      },
      "source": [
        "from google.colab import drive\n",
        "drive.mount('/content/drive')"
      ],
      "execution_count": 2,
      "outputs": [
        {
          "output_type": "stream",
          "text": [
            "Mounted at /content/drive\n"
          ],
          "name": "stdout"
        }
      ]
    },
    {
      "cell_type": "code",
      "metadata": {
        "id": "dT29EkNQBTdq"
      },
      "source": [
        "import pandas as pd"
      ],
      "execution_count": 11,
      "outputs": []
    },
    {
      "cell_type": "code",
      "metadata": {
        "colab": {
          "base_uri": "https://localhost:8080/",
          "height": 793
        },
        "id": "WcKBHg_6BZJW",
        "outputId": "faf9e349-5117-41db-9351-e53ac9a57617"
      },
      "source": [
        "pd.read_csv('/content/drive/MyDrive/Colab_Notebooks/L1Data.csv')"
      ],
      "execution_count": 19,
      "outputs": [
        {
          "output_type": "execute_result",
          "data": {
            "text/html": [
              "<div>\n",
              "<style scoped>\n",
              "    .dataframe tbody tr th:only-of-type {\n",
              "        vertical-align: middle;\n",
              "    }\n",
              "\n",
              "    .dataframe tbody tr th {\n",
              "        vertical-align: top;\n",
              "    }\n",
              "\n",
              "    .dataframe thead th {\n",
              "        text-align: right;\n",
              "    }\n",
              "</style>\n",
              "<table border=\"1\" class=\"dataframe\">\n",
              "  <thead>\n",
              "    <tr style=\"text-align: right;\">\n",
              "      <th></th>\n",
              "      <th>Class</th>\n",
              "      <th>Age</th>\n",
              "      <th>Funds</th>\n",
              "      <th>Sale</th>\n",
              "    </tr>\n",
              "  </thead>\n",
              "  <tbody>\n",
              "    <tr>\n",
              "      <th>0</th>\n",
              "      <td>Freshmen</td>\n",
              "      <td>18.0</td>\n",
              "      <td>600.0</td>\n",
              "      <td>No</td>\n",
              "    </tr>\n",
              "    <tr>\n",
              "      <th>1</th>\n",
              "      <td>Freshmen</td>\n",
              "      <td>18.0</td>\n",
              "      <td>500.0</td>\n",
              "      <td>No</td>\n",
              "    </tr>\n",
              "    <tr>\n",
              "      <th>2</th>\n",
              "      <td>Freshmen</td>\n",
              "      <td>18.0</td>\n",
              "      <td>600.0</td>\n",
              "      <td>No</td>\n",
              "    </tr>\n",
              "    <tr>\n",
              "      <th>3</th>\n",
              "      <td>Senior</td>\n",
              "      <td>23.0</td>\n",
              "      <td>800.0</td>\n",
              "      <td>No</td>\n",
              "    </tr>\n",
              "    <tr>\n",
              "      <th>4</th>\n",
              "      <td>Junior</td>\n",
              "      <td>21.0</td>\n",
              "      <td>400.0</td>\n",
              "      <td>Yes</td>\n",
              "    </tr>\n",
              "    <tr>\n",
              "      <th>5</th>\n",
              "      <td>Freshmen</td>\n",
              "      <td>19.0</td>\n",
              "      <td>600.0</td>\n",
              "      <td>No</td>\n",
              "    </tr>\n",
              "    <tr>\n",
              "      <th>6</th>\n",
              "      <td>Freshmen</td>\n",
              "      <td>20.0</td>\n",
              "      <td>600.0</td>\n",
              "      <td>No</td>\n",
              "    </tr>\n",
              "    <tr>\n",
              "      <th>7</th>\n",
              "      <td>Senior</td>\n",
              "      <td>24.0</td>\n",
              "      <td>NaN</td>\n",
              "      <td>Yes</td>\n",
              "    </tr>\n",
              "    <tr>\n",
              "      <th>8</th>\n",
              "      <td>Sophomore</td>\n",
              "      <td>23.0</td>\n",
              "      <td>620.0</td>\n",
              "      <td>Yes</td>\n",
              "    </tr>\n",
              "    <tr>\n",
              "      <th>9</th>\n",
              "      <td>Sophomore</td>\n",
              "      <td>25.0</td>\n",
              "      <td>800.0</td>\n",
              "      <td>Yes</td>\n",
              "    </tr>\n",
              "    <tr>\n",
              "      <th>10</th>\n",
              "      <td>Junior</td>\n",
              "      <td>21.0</td>\n",
              "      <td>900.0</td>\n",
              "      <td>No</td>\n",
              "    </tr>\n",
              "    <tr>\n",
              "      <th>11</th>\n",
              "      <td>Junior</td>\n",
              "      <td>21.0</td>\n",
              "      <td>650.0</td>\n",
              "      <td>Yes</td>\n",
              "    </tr>\n",
              "    <tr>\n",
              "      <th>12</th>\n",
              "      <td>Sophomore</td>\n",
              "      <td>NaN</td>\n",
              "      <td>500.0</td>\n",
              "      <td>No</td>\n",
              "    </tr>\n",
              "    <tr>\n",
              "      <th>13</th>\n",
              "      <td>Junior</td>\n",
              "      <td>21.0</td>\n",
              "      <td>800.0</td>\n",
              "      <td>No</td>\n",
              "    </tr>\n",
              "    <tr>\n",
              "      <th>14</th>\n",
              "      <td>Junior</td>\n",
              "      <td>20.0</td>\n",
              "      <td>650.0</td>\n",
              "      <td>Yes</td>\n",
              "    </tr>\n",
              "    <tr>\n",
              "      <th>15</th>\n",
              "      <td>Sophomore</td>\n",
              "      <td>21.0</td>\n",
              "      <td>580.0</td>\n",
              "      <td>Yes</td>\n",
              "    </tr>\n",
              "    <tr>\n",
              "      <th>16</th>\n",
              "      <td>Sophomore</td>\n",
              "      <td>20.0</td>\n",
              "      <td>800.0</td>\n",
              "      <td>Yes</td>\n",
              "    </tr>\n",
              "    <tr>\n",
              "      <th>17</th>\n",
              "      <td>Senior</td>\n",
              "      <td>26.0</td>\n",
              "      <td>NaN</td>\n",
              "      <td>Yes</td>\n",
              "    </tr>\n",
              "    <tr>\n",
              "      <th>18</th>\n",
              "      <td>Senior</td>\n",
              "      <td>25.0</td>\n",
              "      <td>NaN</td>\n",
              "      <td>Yes</td>\n",
              "    </tr>\n",
              "    <tr>\n",
              "      <th>19</th>\n",
              "      <td>Senior</td>\n",
              "      <td>41.0</td>\n",
              "      <td>NaN</td>\n",
              "      <td>Yes</td>\n",
              "    </tr>\n",
              "    <tr>\n",
              "      <th>20</th>\n",
              "      <td>Sophomore</td>\n",
              "      <td>NaN</td>\n",
              "      <td>500.0</td>\n",
              "      <td>No</td>\n",
              "    </tr>\n",
              "    <tr>\n",
              "      <th>21</th>\n",
              "      <td>Freshmen</td>\n",
              "      <td>18.0</td>\n",
              "      <td>500.0</td>\n",
              "      <td>No</td>\n",
              "    </tr>\n",
              "    <tr>\n",
              "      <th>22</th>\n",
              "      <td>Freshmen</td>\n",
              "      <td>18.0</td>\n",
              "      <td>500.0</td>\n",
              "      <td>No</td>\n",
              "    </tr>\n",
              "    <tr>\n",
              "      <th>23</th>\n",
              "      <td>Freshmen</td>\n",
              "      <td>18.0</td>\n",
              "      <td>600.0</td>\n",
              "      <td>No</td>\n",
              "    </tr>\n",
              "  </tbody>\n",
              "</table>\n",
              "</div>"
            ],
            "text/plain": [
              "        Class   Age  Funds Sale\n",
              "0    Freshmen  18.0  600.0   No\n",
              "1    Freshmen  18.0  500.0   No\n",
              "2    Freshmen  18.0  600.0   No\n",
              "3      Senior  23.0  800.0   No\n",
              "4      Junior  21.0  400.0  Yes\n",
              "5    Freshmen  19.0  600.0   No\n",
              "6    Freshmen  20.0  600.0   No\n",
              "7      Senior  24.0    NaN  Yes\n",
              "8   Sophomore  23.0  620.0  Yes\n",
              "9   Sophomore  25.0  800.0  Yes\n",
              "10     Junior  21.0  900.0   No\n",
              "11     Junior  21.0  650.0  Yes\n",
              "12  Sophomore   NaN  500.0   No\n",
              "13     Junior  21.0  800.0   No\n",
              "14     Junior  20.0  650.0  Yes\n",
              "15  Sophomore  21.0  580.0  Yes\n",
              "16  Sophomore  20.0  800.0  Yes\n",
              "17     Senior  26.0    NaN  Yes\n",
              "18     Senior  25.0    NaN  Yes\n",
              "19     Senior  41.0    NaN  Yes\n",
              "20  Sophomore   NaN  500.0   No\n",
              "21   Freshmen  18.0  500.0   No\n",
              "22   Freshmen  18.0  500.0   No\n",
              "23   Freshmen  18.0  600.0   No"
            ]
          },
          "metadata": {
            "tags": []
          },
          "execution_count": 19
        }
      ]
    },
    {
      "cell_type": "code",
      "metadata": {
        "colab": {
          "base_uri": "https://localhost:8080/"
        },
        "id": "FD649dZ8BeiS",
        "outputId": "eb43f890-56da-4ae7-afff-6a5aabd35a7d"
      },
      "source": [
        "for i in range(10):\n",
        "  print(i+1)"
      ],
      "execution_count": 20,
      "outputs": [
        {
          "output_type": "stream",
          "text": [
            "1\n",
            "2\n",
            "3\n",
            "4\n",
            "5\n",
            "6\n",
            "7\n",
            "8\n",
            "9\n",
            "10\n"
          ],
          "name": "stdout"
        }
      ]
    },
    {
      "cell_type": "markdown",
      "metadata": {
        "id": "HJnMAe4TQahu"
      },
      "source": [
        "## <font color='navy'>Monte Carlo Simulations</font>\n",
        "\n",
        "The main goal is to solve problems of data science by approximating probability values via carefully designed simulations. \n",
        "\n",
        "<font color='lightsalmon'>**Critical Thinking**</font>: we want to be problem solvers and we can address many practical questions by using repeated sampling from known distributions along with carefully qualified mathematical considerations.\n",
        "\n",
        "<font color='skyblue'> Example 1. (with Python coding): </font> Flipping a coin and experimentally determining the probability of heads or tails."
      ]
    },
    {
      "cell_type": "code",
      "metadata": {
        "colab": {
          "base_uri": "https://localhost:8080/",
          "height": 399
        },
        "id": "Cl1HaKlyEO5M",
        "outputId": "7d9f0e3e-0311-4d3b-cacd-e9f0480542dd"
      },
      "source": [
        "import random\n",
        "import numpy as np\n",
        "import matplotlib.pyplot as plt\n",
        "\n",
        "%matplotlib inline\n",
        "%config InlineBackend.figure_format = 'retina'\n",
        "import matplotlib as mpl\n",
        "mpl.rcParams['figure.dpi'] = 100\n",
        " \n",
        "def coin_flip():\n",
        "  return random.randint(0,1)\n",
        " \n",
        "# create an empty list to store all probability values\n",
        "listp = []\n",
        " \n",
        "# create the Monte Carlo simulation function\n",
        "def monte_carlo(n):\n",
        "  results = 0;\n",
        "  for i in range(n):\n",
        "    flip_result = coin_flip()\n",
        "    results = results + flip_result\n",
        " \n",
        "    #compute probability\n",
        "    prob_val = results/(i+1)\n",
        " \n",
        "    # update the list of probability values\n",
        "    listp.append(prob_val)\n",
        " \n",
        "  return results/n\n",
        " \n",
        "answer = monte_carlo(2000)\n",
        " \n",
        "# plot the results\n",
        " \n",
        "plt.axhline(y=0.5, color = 'red')\n",
        "plt.plot(listp)\n",
        "plt.xlabel(\"Iterations\",color='dodgerblue')\n",
        "plt.ylabel(\"Probability\",color='seagreen')"
      ],
      "execution_count": 21,
      "outputs": [
        {
          "output_type": "execute_result",
          "data": {
            "text/plain": [
              "Text(0, 0.5, 'Probability')"
            ]
          },
          "metadata": {
            "tags": []
          },
          "execution_count": 21
        },
        {
          "output_type": "display_data",
          "data": {
            "image/png": "[encoded data removed]",
            "text/plain": [
              "<Figure size 600x400 with 1 Axes>"
            ]
          },
          "metadata": {
            "tags": [],
            "image/png": {
              "width": 536,
              "height": 365
            },
            "needs_background": "light"
          }
        }
      ]
    },
    {
      "cell_type": "markdown",
      "metadata": {
        "id": "VR3cDToUP6wp"
      },
      "source": [
        "## <font color='navy'>Probability</font>\n",
        "\n",
        "The main idea can be explained in simple terms:\n",
        "\n",
        "If $A$ is some event then the probability of $A$ can be understood as its frequency of occurring. Thus we understand that the probability is always a number $p$ such that \n",
        "\n",
        "$$0\\leq p\\leq 1$$\n",
        "\n",
        "The probability of the event $A$ can be denoted by $$P(A)$$ and if we have finitely many outcomes  then $$P(A):=\\frac{n(A)}{n(X)}$$ where $n(A)$ represents the number of favorable outcomes to $A$ and $n(X)$ represents the total number of outcomes. If we think of repeating an experiment finitely many times where $A$ is a possible outcome, then $P(A)$ can be approximated by the relative frequency of occurrence provided we repeated the experiment *sufficiently* many times.\n",
        "\n",
        "In practice the study of continuous random variables and different probability distributions is extremely important.\n",
        "\n",
        "### <font color='skyblue'> Example</font>\n",
        "\n",
        "In Python, we can use many different probability distributions. The following code demonstrates the *uniform* distribution and the *normal* distribution.\n",
        "\n",
        "Code to display a histogram and the fit for a uniform distribution:\n",
        "```python\n",
        "%matplotlib inline\n",
        "%config InlineBackend.figure_format = 'retina'\n",
        "import matplotlib as mpl\n",
        "mpl.rcParams['figure.dpi'] = 100\n",
        "import matplotlib.pyplot as plt\n",
        "\n",
        "# import seaborn\n",
        "import seaborn as sns\n",
        "sns.set(color_codes=True)\n",
        "\n",
        "# import uniform distribution\n",
        "from scipy import stats\n",
        "from scipy.stats import uniform\n",
        "# random numbers from uniform distribution\n",
        "# Generate 10 numbers from 0 to 10\n",
        "n = 10000\n",
        "a = 0\n",
        "b = 10\n",
        "data_uniform = uniform.rvs(size=n, loc = a, scale=b)\n",
        "\n",
        "ax = sns.distplot(data_uniform,\n",
        "                  bins=100,\n",
        "                  kde=False,\n",
        "                  color='deepskyblue',\n",
        "                  hist_kws={\"color\":'lightpink'},\n",
        "                  fit=stats.uniform,\n",
        "                  fit_kws={\"color\":'deepskyblue'})\n",
        "ax.set(xlabel='Uniform ', ylabel='Frequency')\n",
        "```"
      ]
    },
    {
      "cell_type": "code",
      "metadata": {
        "colab": {
          "base_uri": "https://localhost:8080/",
          "height": 459
        },
        "id": "XdpwAKIZ_il_",
        "outputId": "25215915-380f-4eaa-fbc8-ec94df3ac60f"
      },
      "source": [
        "%matplotlib inline\n",
        "%config InlineBackend.figure_format = 'retina'\n",
        "import matplotlib as mpl\n",
        "mpl.rcParams['figure.dpi'] = 100\n",
        "import matplotlib.pyplot as plt\n",
        " \n",
        "# import seaborn\n",
        "import seaborn as sns\n",
        "sns.set(color_codes=True)\n",
        " \n",
        "# import uniform distribution\n",
        "from scipy import stats\n",
        "from scipy.stats import uniform\n",
        "# random numbers from uniform distribution\n",
        "# Generate 10 numbers from 0 to 10\n",
        "n = 10000\n",
        "a = 0\n",
        "b = 10\n",
        "data_uniform = uniform.rvs(size=n, loc = a, scale=b)\n",
        " \n",
        "ax = sns.distplot(data_uniform,\n",
        "                  bins=100,\n",
        "                  kde=False,\n",
        "                  color='deepskyblue',\n",
        "                  hist_kws={\"color\":'lightpink'},\n",
        "                  fit=stats.uniform,\n",
        "                  fit_kws={\"color\":'deepskyblue'})\n",
        "ax.set(xlabel='Uniform ', ylabel='Frequency')"
      ],
      "execution_count": 22,
      "outputs": [
        {
          "output_type": "stream",
          "text": [
            "/usr/local/lib/python3.6/dist-packages/seaborn/distributions.py:2557: FutureWarning: `distplot` is a deprecated function and will be removed in a future version. Please adapt your code to use either `displot` (a figure-level function with similar flexibility) or `histplot` (an axes-level function for histograms).\n",
            "  warnings.warn(msg, FutureWarning)\n"
          ],
          "name": "stderr"
        },
        {
          "output_type": "execute_result",
          "data": {
            "text/plain": [
              "[Text(0, 0.5, 'Frequency'), Text(0.5, 0, 'Uniform ')]"
            ]
          },
          "metadata": {
            "tags": []
          },
          "execution_count": 22
        },
        {
          "output_type": "display_data",
          "data": {
            "image/png": "[encoded data removed]",
            "text/plain": [
              "<Figure size 600x400 with 1 Axes>"
            ]
          },
          "metadata": {
            "tags": [],
            "image/png": {
              "width": 563,
              "height": 371
            }
          }
        }
      ]
    },
    {
      "cell_type": "markdown",
      "metadata": {
        "id": "a18bxm3VQNul"
      },
      "source": [
        "## <font color='blue'> Bayesian Theorem</font>\n",
        "\n",
        "$$\\Large{P\\left (A\\,|\\,B\\right )=\\frac{P(B\\,|\\,A)P(A)}{P(B)}}$$\n",
        "\n",
        "Where $P(A|B)$ means the probability of event $A$ provided event $B$ holds.\n",
        "\n",
        "The main idea comes from the conditional probability rule:\n",
        "\n",
        "$$\\Large{P(A\\cap B) = P(A)\\cdot P(B\\,|\\,A) = P(B\\cap A)=P(B)\\cdot P(A\\,|\\,B)}$$\n",
        "\n",
        "The intuition could be presented in a visual way:\n",
        "\n",
        "<figure>\n",
        "<center>\n",
        "<img src='https://drive.google.com/uc?id=1O2Hg3q1RwxmxDuoi5pqG4W8Xnqb7zA1C'\n",
        "width='500px' />\n",
        "<figcaption>Example of conditional events by using a Venn Diagram</figcaption></center>\n",
        "</figure>\n",
        "\n",
        "where $\\large{P(A)=\\displaystyle\\frac{Area(A)}{Area(S)}}$ $\\large{P(B)=\\displaystyle\\frac{Area(B)}{Area(S)}}$ and $\\large{P(A\\cap B)=\\displaystyle\\frac{Area(A\\cap B)}{Area(S)}}.$\n",
        "\n",
        "\n",
        "<font color='lightsalmon'>**Critical thinking question**: What is $P(A\\,|\\,B)$? \n",
        "</font>\n",
        "\n",
        "### <font color='darkpink'>Bayesian Inference </font>\n",
        "\n",
        "$$\\Large{P(H\\,|\\,\\text{data})}=\\frac{P(\\text{data}\\,|\\,H )\\cdot P(H)}{P(\\text{data})}$$\n",
        "\n",
        "<font color='darkgreen'>**Terminology**</font>\n",
        "\n",
        "\n",
        "- <font color='deepskyblue'>*Posterior*</font>: How probable is our hypothesis given the data observations (the specific evidence we collected)?\n",
        "\n",
        "\n",
        "- <font color='deepskyblue'>*Likelihood*</font>: It represents how probable is the evidence given that our hypothesis is true.\n",
        "\n",
        "- <font color='deepskyblue'>*Prior*</font>: How probable or frequent is our hypothesis in general?\n",
        "\n",
        "- <font color='deepskyblue'>*Marginal*</font>: How probable is the new evidence under all possible hypotheses?\n",
        "\n",
        "- In order to make a classification we want to know the *posterior distribution*.\n",
        "\n",
        "- In the classification algorithm we maximize the likelihood.\n",
        "\n",
        "- The *prior* distribution is assumed known.\n",
        "\n",
        "- The probability of the data is assumed constant.\n",
        "\n",
        "### <font color='skyblue'> Example: </font>\n",
        "\n",
        "- Assume that $18\\%$ of the population has a disease and label this event by $A$.\n",
        "- Assume that $20\\%$ of the population has the symptom (label the event of someone having the symptom by $B$) and that of those who have the disease, about $35\\%$ have the symptom.\n",
        "\n",
        "What is the probability that someone who has the symptom actually has the disease?\n",
        "\n",
        "$$\\Large{P\\left (A\\,|\\,B\\right )=\\frac{P(B\\,|\\,A)P(A)}{P(B)}=\\frac{0.35\\cdot 0.18}{0.20}=0.315}$$"
      ]
    },
    {
      "cell_type": "code",
      "metadata": {
        "id": "_btunBVhFlne"
      },
      "source": [
        ""
      ],
      "execution_count": null,
      "outputs": []
    }
  ]
}