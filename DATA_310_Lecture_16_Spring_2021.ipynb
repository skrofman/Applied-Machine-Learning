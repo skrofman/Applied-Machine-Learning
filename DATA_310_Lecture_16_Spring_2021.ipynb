{
  "nbformat": 4,
  "nbformat_minor": 0,
  "metadata": {
    "colab": {
      "name": "DATA_310_Lecture_16_Spring_2021.ipynb",
      "provenance": [],
      "include_colab_link": true
    },
    "kernelspec": {
      "name": "python3",
      "display_name": "Python 3"
    }
  },
  "cells": [
    {
      "cell_type": "markdown",
      "metadata": {
        "id": "view-in-github",
        "colab_type": "text"
      },
      "source": [
        "<a href=\"https://colab.research.google.com/github/skrofman/Applied-Machine-Learning/blob/master/DATA_310_Lecture_16_Spring_2021.ipynb\" target=\"_parent\"><img src=\"https://colab.research.google.com/assets/colab-badge.svg\" alt=\"Open In Colab\"/></a>"
      ]
    },
    {
      "cell_type": "markdown",
      "metadata": {
        "id": "2f4jGIQZcrUv"
      },
      "source": [
        "# DATA 310 Lecture 16 - Spring 2021"
      ]
    },
    {
      "cell_type": "markdown",
      "metadata": {
        "id": "sKFd0oCWVjYy"
      },
      "source": [
        "##<font color= 'navy'> Model Validation via k-Fold Cross-Validations</font>\n",
        "\n",
        "<font color='red'> In reality only one train and test split is not good enough for an unbiased estimation of the MSE </font>\n",
        "\n",
        "In order to compare the predictive power of different models we use K-fold cross-validation.\n",
        "\n",
        "Example schematic of a 5-fold cross-validation:\n",
        "\n",
        "<figure>\n",
        "<center>\n",
        "<img src='https://drive.google.com/uc?id=1AMSDtgJ-ADYjWFbHCdumvIGqUsmKSzdW' \n",
        "width='550px' />\n",
        "<figcaption>Step 1 in the 5-fold cross-validation</figcaption></center>\n",
        "</figure>\n",
        "\n"
      ]
    },
    {
      "cell_type": "code",
      "metadata": {
        "id": "SmBSE5_ogNvw"
      },
      "source": [
        "import numpy as np\n",
        "import pandas as pd\n",
        "import matplotlib.pyplot as plt\n",
        "from sklearn.datasets import load_boston\n",
        "from sklearn import linear_model\n",
        "from sklearn.svm import LinearSVR\n",
        "from sklearn.metrics import mean_squared_error as MSE"
      ],
      "execution_count": null,
      "outputs": []
    },
    {
      "cell_type": "code",
      "metadata": {
        "id": "rTgsU3HJ5ep-"
      },
      "source": [
        "from sklearn.metrics import mean_squared_error as MSE\n",
        "from sklearn import datasets\n",
        "from sklearn.pipeline import Pipeline\n",
        "from sklearn.preprocessing import StandardScaler"
      ],
      "execution_count": null,
      "outputs": []
    },
    {
      "cell_type": "code",
      "metadata": {
        "id": "ZSC0W913CxHC"
      },
      "source": [
        "scale = StandardScaler()"
      ],
      "execution_count": null,
      "outputs": []
    },
    {
      "cell_type": "code",
      "metadata": {
        "id": "0Cr_6QSrxHtW"
      },
      "source": [
        "from sklearn.model_selection import KFold # import KFold\n",
        "kf = KFold(n_splits=5, random_state=1234,shuffle=True) # Define the split - into n_splits=.. folds "
      ],
      "execution_count": null,
      "outputs": []
    },
    {
      "cell_type": "code",
      "metadata": {
        "id": "5J830QF-Cme7"
      },
      "source": [
        "model = LinearRegression()"
      ],
      "execution_count": null,
      "outputs": []
    },
    {
      "cell_type": "code",
      "metadata": {
        "id": "ZC90SORfCnyt"
      },
      "source": [
        "polynomial_features= PolynomialFeatures(degree=10)"
      ],
      "execution_count": null,
      "outputs": []
    },
    {
      "cell_type": "code",
      "metadata": {
        "id": "qwI7T70gCnyu"
      },
      "source": [
        "np.random.seed(1693)\n",
        "x = 2 - 3 * np.random.normal(0, 1, 100)\n",
        "\n",
        "# this was the ground truth\n",
        "def f(x):\n",
        "    sz = len(x)\n",
        "    return x - 2.5 * (x ** 2) + .25 * (x ** 3) + 2 * np.random.normal(-3, 3, sz)\n",
        "\n",
        "y = f(x)"
      ],
      "execution_count": null,
      "outputs": []
    },
    {
      "cell_type": "code",
      "metadata": {
        "colab": {
          "base_uri": "https://localhost:8080/"
        },
        "id": "_19PXINSCnyu",
        "outputId": "c9dc2107-7de8-4143-9aac-ee37bda90ce5"
      },
      "source": [
        "x_train, x_test, y_train, y_test = train_test_split(x, y, test_size=0.25, random_state=2021)\n",
        "x_poly_train = polynomial_features.fit_transform(np.array(x_train).reshape(-1,1))\n",
        "x_poly_test = polynomial_features.fit_transform(np.array(x_test).reshape(-1,1))\n",
        "model.fit(x_poly_train,y_train)\n",
        "yhat_train = model.predict(x_poly_train)\n",
        "yhat_test = model.predict(x_poly_test)\n",
        "print('The MSE for the Train data is : '+str(mean_squared_error(y_train,yhat_train)))\n",
        "print('The MSE for the Test data is : '+str(mean_squared_error(y_test,yhat_test)))"
      ],
      "execution_count": null,
      "outputs": [
        {
          "output_type": "stream",
          "text": [
            "The MSE for the Train data is : 35.14042668997389\n",
            "The MSE for the Test data is : 61.55449475086166\n"
          ],
          "name": "stdout"
        }
      ]
    },
    {
      "cell_type": "code",
      "metadata": {
        "id": "giE8Qu4rCvdY"
      },
      "source": [
        "MSE_train = []\n",
        "MSE_test = []\n",
        "for idxtrain, idxtest in kf.split(x):\n",
        "  x_train = x[idxtrain]\n",
        "  x_test = x[idxtest]\n",
        "  y_train = y[idxtrain]\n",
        "  y_test  = y[idxtest]\n",
        "  x_poly_train = polynomial_features.fit_transform(np.array(x_train).reshape(-1,1))\n",
        "  x_poly_test = polynomial_features.fit_transform(np.array(x_test).reshape(-1,1))\n",
        "  model.fit(x_poly_train,y_train)\n",
        "  yhat_train = model.predict(x_poly_train)\n",
        "  yhat_test = model.predict(x_poly_test)\n",
        "  MSE_train.append(mean_squared_error(y_train,yhat_train))\n",
        "  MSE_test.append(mean_squared_error(y_test,yhat_test))"
      ],
      "execution_count": null,
      "outputs": []
    },
    {
      "cell_type": "code",
      "metadata": {
        "colab": {
          "base_uri": "https://localhost:8080/"
        },
        "id": "B8sbd9ECECnF",
        "outputId": "696e2cfd-a899-4072-93a7-15449eeecfa8"
      },
      "source": [
        "np.mean(MSE_train)"
      ],
      "execution_count": null,
      "outputs": [
        {
          "output_type": "execute_result",
          "data": {
            "text/plain": [
              "37.397643813917355"
            ]
          },
          "metadata": {
            "tags": []
          },
          "execution_count": 66
        }
      ]
    },
    {
      "cell_type": "code",
      "metadata": {
        "id": "5kIei25FXpOo",
        "colab": {
          "base_uri": "https://localhost:8080/"
        },
        "outputId": "c58c30fe-e826-4758-98b4-bef4c7f43c9e"
      },
      "source": [
        "np.mean(MSE_test)"
      ],
      "execution_count": null,
      "outputs": [
        {
          "output_type": "execute_result",
          "data": {
            "text/plain": [
              "73.27859733654529"
            ]
          },
          "metadata": {
            "tags": []
          },
          "execution_count": 67
        }
      ]
    },
    {
      "cell_type": "code",
      "metadata": {
        "id": "VhHdcfLrXphx"
      },
      "source": [
        ""
      ],
      "execution_count": null,
      "outputs": []
    },
    {
      "cell_type": "code",
      "metadata": {
        "id": "ehnLB3Sb6GpK"
      },
      "source": [
        "columns = 'age sex bmi map tc ldl hdl tch ltg glu'.split() # Declare the columns names\n",
        "diabetes = datasets.load_diabetes() # Call the diabetes dataset from sklearn\n",
        "df = pd.DataFrame(diabetes.data, columns=columns) # load the dataset as a pandas data frame\n",
        "y = diabetes.target # define the target variable (dependent variable) as y"
      ],
      "execution_count": null,
      "outputs": []
    },
    {
      "cell_type": "code",
      "metadata": {
        "id": "_ETBpk2yOY6Z",
        "colab": {
          "base_uri": "https://localhost:8080/"
        },
        "outputId": "9d26daff-acbb-40e1-fc90-6d2c0c9a7c47"
      },
      "source": [
        "i = 0\n",
        "PE = []\n",
        "\n",
        "for train_index, test_index in kf.split(df):\n",
        "    X_train = df.values[train_index]\n",
        "    y_train = y[train_index]\n",
        "    X_test = df.values[test_index]\n",
        "    y_test = y[test_index]\n",
        "    model = model.fit(X_train, y_train)\n",
        "    y_pred = model.predict(X_test)\n",
        "    PE.append(np.sqrt(MSE(y_test, y_pred)))\n",
        "    print('Score:',np.sqrt(MSE(y_test, y_pred)))\n",
        "\n",
        "np.mean(PE)"
      ],
      "execution_count": null,
      "outputs": [
        {
          "output_type": "stream",
          "text": [
            "Score: 2.07564232825625e-14\n",
            "Score: 2.53339911070645e-14\n",
            "Score: 3.5649374396225664e-14\n",
            "Score: 3.6946700750042225e-14\n",
            "Score: 4.55244490049349e-14\n"
          ],
          "name": "stdout"
        },
        {
          "output_type": "execute_result",
          "data": {
            "text/plain": [
              "3.2842187708165956e-14"
            ]
          },
          "metadata": {
            "tags": []
          },
          "execution_count": 70
        }
      ]
    },
    {
      "cell_type": "code",
      "metadata": {
        "id": "0_D7apLW6Knq"
      },
      "source": [
        "scale = StandardScaler()\n",
        "lm = LinearRegression()"
      ],
      "execution_count": null,
      "outputs": []
    },
    {
      "cell_type": "code",
      "metadata": {
        "id": "lWduxlv96Vxn"
      },
      "source": [
        "pipe = Pipeline([('scale',scale),('lm',model)])"
      ],
      "execution_count": null,
      "outputs": []
    },
    {
      "cell_type": "code",
      "metadata": {
        "id": "dJLUXlkc6reV",
        "colab": {
          "base_uri": "https://localhost:8080/"
        },
        "outputId": "d1e62af4-6411-4155-e8ce-86e915935d27"
      },
      "source": [
        "pipe.fit(X_train,y_train)"
      ],
      "execution_count": null,
      "outputs": [
        {
          "output_type": "execute_result",
          "data": {
            "text/plain": [
              "Pipeline(memory=None,\n",
              "         steps=[('scale',\n",
              "                 StandardScaler(copy=True, with_mean=True, with_std=True)),\n",
              "                ('lm',\n",
              "                 LinearRegression(copy_X=True, fit_intercept=True, n_jobs=None,\n",
              "                                  normalize=False))],\n",
              "         verbose=False)"
            ]
          },
          "metadata": {
            "tags": []
          },
          "execution_count": 74
        }
      ]
    },
    {
      "cell_type": "code",
      "metadata": {
        "colab": {
          "base_uri": "https://localhost:8080/"
        },
        "id": "kpueVMuOHe1-",
        "outputId": "dc8805f2-c27c-4454-812c-14747f07fca8"
      },
      "source": [
        "pipe.predict(X_test)"
      ],
      "execution_count": null,
      "outputs": [
        {
          "output_type": "execute_result",
          "data": {
            "text/plain": [
              "array([61.89, 41.05, 44.3 , 38.07, 47.81, 52.91, 40.56, 41.15, 55.26,\n",
              "       43.7 , 35.08, 15.05, 40.86, 37.8 , 40.2 , 25.2 , 41.1 , 28.3 ,\n",
              "       35.3 , 55.6 , 49.2 , 61.09, 59.8 , 61.8 , 56.7 , 74.7 , 66.  ,\n",
              "       74.5 , 63.4 , 64.9 , 66.1 , 71.7 , 65.2 , 67.8 , 24.99, 25.72,\n",
              "       33.96, 39.61, 24.48, 31.54, 53.9 , 17.84, 40.23, 40.86, 19.93,\n",
              "       30.23, 24.92, 31.64, 42.55, 42.92, 29.93, 13.12, 13.62, 27.77,\n",
              "       31.27, 43.5 , 48.67, 48.97, 39.94, 52.04, 44.14, 45.37, 42.29,\n",
              "       60.32, 23.8 , 51.33, 36.99, 56.74, 33.73, 40.15, 30.45, 38.6 ,\n",
              "       30.22, 37.27, 16.28, 36.3 , 78.8 , 41.37, 67.87, 12.18, 32.9 ,\n",
              "       20.73, 39.16, 33.69, 37.81, 24.85, 44.64, 51.72, 51.26, 55.02,\n",
              "       50.94, 44.28, 57.03, 25.02, 56.14, 34.77, 41.67, 44.03, 61.86,\n",
              "       72.1 , 39.  , 74.36, 13.4 , 35.75, 38.61, 24.4 , 31.97, 39.44,\n",
              "       33.08, 24.07, 38.7 ,  7.51, 19.77, 11.48, 10.73, 31.38, 27.04,\n",
              "       32.04, 21.95,  9.31, 27.63, 32.92,  9.99, 14.2 , 38.21, 30.14,\n",
              "       20.59, 27.87, 19.35, 39.32, 20.42, 15.03, 24.05, 36.59, 50.73,\n",
              "       14.14, 47.78, 16.89, 17.17, 43.25,  9.69, 27.83, 36.94, 22.44,\n",
              "       33.21, 44.09, 59.76, 67.31, 69.66, 31.35,  6.27, 13.52, 25.18,\n",
              "       14.2 , 13.52, 31.45, 37.23, 18.13, 32.72, 26.74, 55.16, 31.65,\n",
              "       48.79, 24.  , 33.8 , 39.09, 74.99, 19.99, 27.68, 45.3 , 44.61,\n",
              "       61.23, 28.63, 31.42, 12.18, 36.44, 32.24, 29.87, 56.61, 44.52,\n",
              "       26.14, 15.52, 33.8 , 26.97, 22.93, 31.42, 40.93, 25.56, 36.44,\n",
              "       23.84, 33.72, 49.77, 52.45, 44.87, 56.62, 39.42, 41.05, 29.07,\n",
              "        9.74, 16.5 , 33.42, 39.06, 30.12, 61.24, 37.27, 31.18])"
            ]
          },
          "metadata": {
            "tags": []
          },
          "execution_count": 75
        }
      ]
    },
    {
      "cell_type": "markdown",
      "metadata": {
        "id": "NHwc7tiqcru8"
      },
      "source": [
        "##<font color='navy'> Support Vector Regression </font>\n",
        "\n",
        "Support Vectors is a method used in Machine Learning for both regression and classification problmes. The main idea is to map the input features into a higher dimensional space and then, in that higher dimensional space, address the problem to solve. \n",
        "\n",
        "For regression, SVM consists of an algorithm that solves a quadratic optimization problem with constraints:\n",
        "\n",
        "$$\n",
        "\\text{minimize}\\frac{1}{2}\\|w\\|^2\n",
        "$$\n",
        "\n",
        "subject to \n",
        "\n",
        "$$\n",
        "y_i -wx_i - b\\leq\\epsilon\\\\\n",
        "wx_i+b-y_i \\leq \\epsilon\n",
        "$$\n",
        "\n",
        "Intuitively we have\n",
        "\n",
        "<figure>\n",
        "<center>\n",
        "<img src='https://drive.google.com/uc?id=181CQwT0LE0UnbBspZyce_4sSr6Qbcx38' \n",
        "width='500px' />\n",
        "<figcaption>Support Vector Regression</figcaption></center>\n",
        "</figure>\n"
      ]
    },
    {
      "cell_type": "code",
      "metadata": {
        "id": "XfTa3C99gY8a"
      },
      "source": [
        "regSVM = LinearSVR(epsilon=1.0, tol=1e-8,max_iter=1000000)"
      ],
      "execution_count": null,
      "outputs": []
    },
    {
      "cell_type": "code",
      "metadata": {
        "id": "cbZeR8s515qJ"
      },
      "source": [
        "from sklearn.model_selection import KFold # import KFold\n",
        "kf = KFold(n_splits=10, random_state=2020,shuffle=True)"
      ],
      "execution_count": null,
      "outputs": []
    },
    {
      "cell_type": "code",
      "metadata": {
        "id": "4zpdjITz2UG-"
      },
      "source": [
        "data = load_boston()\n",
        "df = pd.DataFrame(data=data.data, columns=data.feature_names)\n",
        "y = data.target"
      ],
      "execution_count": null,
      "outputs": []
    },
    {
      "cell_type": "code",
      "metadata": {
        "id": "l_LPQded2ytJ"
      },
      "source": [
        "df.head(10)"
      ],
      "execution_count": null,
      "outputs": []
    },
    {
      "cell_type": "code",
      "metadata": {
        "id": "-fUHl3zH2G-T",
        "colab": {
          "base_uri": "https://localhost:8080/",
          "height": 34
        },
        "outputId": "93e06bd2-64f1-409b-aea6-bcfc4631121f"
      },
      "source": [
        "i = 0\n",
        "PE = []\n",
        "lm = linear_model.LinearRegression()\n",
        "for train_index, test_index in kf.split(df):\n",
        "    X_train = df.values[train_index]\n",
        "    y_train = y[train_index]\n",
        "    X_test = df.values[test_index]\n",
        "    y_test = y[test_index]\n",
        "    model = lm.fit(X_train, y_train)\n",
        "    y_pred = lm.predict(X_test)\n",
        "    PE.append(np.sqrt(MSE(y_test, y_pred)))\n",
        "    # print('RMSE from each fold:',np.sqrt(MSE(y_test, y_pred)))\n",
        "\n",
        "print('The k-fold crossvalidated prediction error is: ' + str(np.mean(PE)))"
      ],
      "execution_count": null,
      "outputs": [
        {
          "output_type": "stream",
          "text": [
            "The k-fold crossvalidated prediction error is: 4.7812545174140775\n"
          ],
          "name": "stdout"
        }
      ]
    },
    {
      "cell_type": "code",
      "metadata": {
        "id": "LII46BkJ3enB"
      },
      "source": [
        "i = 0\n",
        "PE = []\n",
        "regSVM = LinearSVR(epsilon=5.0,max_iter= 10000)\n",
        "for train_index, test_index in kf.split(df):\n",
        "    X_train = df.values[train_index]\n",
        "    y_train = y[train_index]\n",
        "    X_test = df.values[test_index]\n",
        "    y_test = y[test_index]\n",
        "    model = regSVM.fit(X_train, y_train)\n",
        "    y_pred = regSVM.predict(X_test)\n",
        "    PE.append(np.sqrt(MSE(y_test, y_pred)))\n",
        "    # print('RMSE from each fold:',np.sqrt(MSE(y_test, y_pred)))\n",
        "\n",
        "print('The k-fold crossvalidated prediction error is: ' + str(np.mean(PE)))"
      ],
      "execution_count": null,
      "outputs": []
    },
    {
      "cell_type": "markdown",
      "metadata": {
        "id": "7yRDd3wGgkr5"
      },
      "source": [
        "Make a cross-validated comparison between SVR, OLS, Lasso and RIDGE regression."
      ]
    },
    {
      "cell_type": "markdown",
      "metadata": {
        "id": "30LiiRRbhgyu"
      },
      "source": [
        "##<font color='navy'> Regression Trees</font>\n",
        "\n",
        "<font color='green'> **Main Idea:** Things are different for subsets in the data. Nonlinear relationships may exist and we should be able to accommodate them.\n",
        "</font>\n",
        "\n",
        "\\\n",
        "\n",
        "**Example:** Predict the price of a car by using a (possibly nonlinear) combination of features such as wheelbase and horsepower.\n",
        "\n",
        "<figure>\n",
        "<center>\n",
        "<img src='https://drive.google.com/uc?id=1yVm5Xa9WVZViJjaA9w35veKGGK3ggqGU' \n",
        "width='500px' />\n",
        "<figcaption>Data for a Decision Tree</figcaption></center>\n",
        "</figure>\n",
        "\n",
        "And we can create a **regression tree**:\n",
        "\n",
        "<figure>\n",
        "<center>\n",
        "<img src='https://drive.google.com/uc?id=1Pm0nKc2DCw7Cx4gSGX_fDPKCU2w5mmkM' \n",
        "width='400px' />\n",
        "<figcaption>The actual Decision Tree</figcaption></center>\n",
        "</figure>\n",
        "\n",
        "<figure>\n",
        "<center>\n",
        "<img src='https://drive.google.com/uc?id=1WXNaLZMFe5vV2sE6NO6QgXUWQ10kSHjW' \n",
        "width='350px' />\n",
        "<figcaption>Visual interpretation</figcaption></center>\n",
        "</figure>\n",
        "\n",
        "<font color=\"green\">**Stopping Criteria:** Stop growing the tree when further splits gives less than some minimal amount of extra information or when we have less than 5% of the data in those nodes.</font>\n",
        "\n",
        "\n",
        "1. Start with a single node containing all the points then calculate $m_c$ and $S.$ We have $$S:=\\sum\\limits_{C\\in\\text{leaves(T)}}\\sum\\limits_{i\\in C}(y_i-m_c)^2$$ and $$m_c:=\\frac{1}{n_c}\\sum\\limits_{i\\in C}y_i.$$\n",
        "2. If all the points in the node have the same value for all the independent variables, stop. Otherwise, search over all binary splits of all variables for the one which will reduce $S$ as much as possible. If the largest decrease in $S$ would be less than some threshold $\\delta$, or one of the resulting nodes would contain less than $q$ points, stop. Otherwise take that split, creating two new nodes.\n",
        "3. In each new node go back to Step 1.\n"
      ]
    },
    {
      "cell_type": "markdown",
      "metadata": {
        "id": "pDEQ5bzOmKYu"
      },
      "source": [
        "##<font color='navy'> Example of Regression Tree in Python</font>\n",
        "\n",
        "In this example we have one input feature and one dependent variable."
      ]
    },
    {
      "cell_type": "code",
      "metadata": {
        "id": "19fLS_U0mcj6"
      },
      "source": [
        "%matplotlib inline\n",
        "%config InlineBackend.figure_format = 'retina'\n",
        "import matplotlib as mpl\n",
        "mpl.rcParams['figure.dpi'] = 120"
      ],
      "execution_count": null,
      "outputs": []
    },
    {
      "cell_type": "code",
      "metadata": {
        "id": "xYhimxyImJm1",
        "colab": {
          "base_uri": "https://localhost:8080/",
          "height": 480
        },
        "outputId": "916bacd4-b83a-4b00-9ff3-3e6668157893"
      },
      "source": [
        "# Import the necessary modules and libraries\n",
        "import numpy as np\n",
        "from sklearn.tree import DecisionTreeRegressor\n",
        "import matplotlib.pyplot as plt\n",
        "\n",
        "# Create a random dataset\n",
        "rng = np.random.RandomState(1)\n",
        "X = np.sort(5 * rng.rand(80, 1), axis=0)\n",
        "y = np.sin(X).ravel()\n",
        "y[::5] += 3 * (0.5 - rng.rand(16))\n",
        "\n",
        "# Fit regression model\n",
        "regr_1 = DecisionTreeRegressor(max_depth=2)\n",
        "regr_2 = DecisionTreeRegressor(max_depth=5)\n",
        "regr_1.fit(X, y)\n",
        "regr_2.fit(X, y)\n",
        "\n",
        "# Predict\n",
        "X_test = np.arange(0.0, 5.0, 0.01)[:, np.newaxis]\n",
        "y_1 = regr_1.predict(X_test)\n",
        "y_2 = regr_2.predict(X_test)\n",
        "\n",
        "# Plot the results\n",
        "plt.figure()\n",
        "plt.scatter(X, y, s=20, edgecolor=\"black\",\n",
        "            c=\"darkorange\", label=\"data\")\n",
        "plt.plot(X_test, y_1, color=\"cornflowerblue\",\n",
        "         label=\"max_depth=2\", linewidth=2)\n",
        "plt.plot(X_test, y_2, color=\"yellowgreen\", label=\"max_depth=5\", linewidth=2)\n",
        "plt.xlabel(\"data\")\n",
        "plt.ylabel(\"target\")\n",
        "plt.title(\"Decision Tree Regression\")\n",
        "plt.legend()\n",
        "plt.show()"
      ],
      "execution_count": null,
      "outputs": [
        {
          "output_type": "display_data",
          "data": {
            "image/png": "[encoded data removed]",
            "text/plain": [
              "<Figure size 720x480 with 1 Axes>"
            ]
          },
          "metadata": {
            "tags": [],
            "image/png": {
              "width": 657,
              "height": 463
            },
            "needs_background": "light"
          }
        }
      ]
    },
    {
      "cell_type": "markdown",
      "metadata": {
        "id": "CYV8yJKqm4A-"
      },
      "source": [
        "##<font color=\"navy\"> Ensemble Learning - Random Forests</font>\n",
        "\n",
        "- Step 1: Pick a random set of points from your training set.\n",
        "\n",
        "- Step 2: Build the regression tree.\n",
        "\n",
        "- Step 3: Build thousands of trees, repeating 1 and 2.\n",
        "\n",
        "- Step 4: For every unit of observation, take the average prediction across all trees.\n",
        "\n",
        "<font color='green'>**Rationale**: more resilient to outliers, better for external validity. You can also provide information on how certain or uncertain you are about a result.\n",
        "</font>\n",
        "\n",
        "- Question: How many trees should we grow in the forest?\n",
        "Answer: Don’t want your answer changing much. There is no good pre-determined number.\n",
        "\n",
        "- “Convergence” -when adding another ten trees (or, whatever number) doesn’t matter to your results. Depends heavily on the structure and complication of your study.\n",
        "\n",
        "Generally speaking, \"let it grow\" (Leo Breiman)"
      ]
    },
    {
      "cell_type": "code",
      "metadata": {
        "id": "EmpACbz5m21y"
      },
      "source": [
        ""
      ],
      "execution_count": null,
      "outputs": []
    }
  ]
}