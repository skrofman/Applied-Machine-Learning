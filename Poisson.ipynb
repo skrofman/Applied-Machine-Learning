{
  "nbformat": 4,
  "nbformat_minor": 0,
  "metadata": {
    "kernelspec": {
      "display_name": "Python 3",
      "language": "python",
      "name": "python3"
    },
    "language_info": {
      "codemirror_mode": {
        "name": "ipython",
        "version": 3
      },
      "file_extension": ".py",
      "mimetype": "text/x-python",
      "name": "python",
      "nbconvert_exporter": "python",
      "pygments_lexer": "ipython3",
      "version": "3.8.3"
    },
    "colab": {
      "name": "Poisson.ipynb",
      "provenance": [],
      "include_colab_link": true
    }
  },
  "cells": [
    {
      "cell_type": "markdown",
      "metadata": {
        "id": "view-in-github",
        "colab_type": "text"
      },
      "source": [
        "<a href=\"https://colab.research.google.com/github/skrofman/Applied-Machine-Learning/blob/master/Poisson.ipynb\" target=\"_parent\"><img src=\"https://colab.research.google.com/assets/colab-badge.svg\" alt=\"Open In Colab\"/></a>"
      ]
    },
    {
      "cell_type": "code",
      "metadata": {
        "id": "NwsKbJeRkJDx"
      },
      "source": [
        "%matplotlib inline\n",
        "import scipy.stats as ss\n",
        "import seaborn as sns\n",
        "import matplotlib.pyplot as plt\n",
        "import pandas as pd"
      ],
      "execution_count": 1,
      "outputs": []
    },
    {
      "cell_type": "code",
      "metadata": {
        "colab": {
          "base_uri": "https://localhost:8080/"
        },
        "id": "gHz9AetskJD8",
        "outputId": "f7911de4-a73e-44e3-b056-275724c0743e"
      },
      "source": [
        "#Exactly 10\n",
        "#pmf is probability at one value\n",
        "#What is the probability that a base has coverage exactly equal to 10?\n",
        "#What proportion of bases do we expect to have coverage exactly equal to 10?\n",
        "print(ss.poisson.pmf(10, mu = 16.7))"
      ],
      "execution_count": 2,
      "outputs": [
        {
          "output_type": "stream",
          "text": [
            "0.025982673190913498\n"
          ],
          "name": "stdout"
        }
      ]
    },
    {
      "cell_type": "code",
      "metadata": {
        "colab": {
          "base_uri": "https://localhost:8080/"
        },
        "id": "EsSRBHT3kJD9",
        "outputId": "d8e302f0-5ff3-40c3-fa39-09e1a28802e5"
      },
      "source": [
        "#At most 10 (10 or less)\n",
        "#cdf is probability added up to that value\n",
        "#What is probability coverage is AT MOST?\n",
        "print(ss.poisson.cdf(10, mu = 16.7))"
      ],
      "execution_count": 3,
      "outputs": [
        {
          "output_type": "stream",
          "text": [
            "0.05646445563750697\n"
          ],
          "name": "stdout"
        }
      ]
    },
    {
      "cell_type": "code",
      "metadata": {
        "colab": {
          "base_uri": "https://localhost:8080/"
        },
        "id": "hjGZQa-8kJD-",
        "outputId": "fc0f26ff-dd1d-4ee6-ea0f-c1abc619c104"
      },
      "source": [
        "#At least 10\n",
        "print(1 - ss.poisson.cdf(9,mu=16.7))"
      ],
      "execution_count": 4,
      "outputs": [
        {
          "output_type": "stream",
          "text": [
            "0.9695182175534065\n"
          ],
          "name": "stdout"
        }
      ]
    },
    {
      "cell_type": "code",
      "metadata": {
        "id": "OcjFdpdokJD_"
      },
      "source": [
        "poisson_10X = pd.Series(index = range(32), data = [ss.poisson.pmf(i,16.7) for i in range(32)]) "
      ],
      "execution_count": 6,
      "outputs": []
    },
    {
      "cell_type": "code",
      "metadata": {
        "colab": {
          "base_uri": "https://localhost:8080/",
          "height": 461
        },
        "id": "VLe4wRrBkJD_",
        "outputId": "611b566b-6c56-41af-dac4-f90c70bd984d"
      },
      "source": [
        "plt.figure(figsize = [12,6])\n",
        "plt.title('Poisson Individual Base Coverage Probabilities')\n",
        "sns.barplot(poisson_10X.index, poisson_10X.values)"
      ],
      "execution_count": 7,
      "outputs": [
        {
          "output_type": "stream",
          "text": [
            "/usr/local/lib/python3.7/dist-packages/seaborn/_decorators.py:43: FutureWarning: Pass the following variables as keyword args: x, y. From version 0.12, the only valid positional argument will be `data`, and passing other arguments without an explicit keyword will result in an error or misinterpretation.\n",
            "  FutureWarning\n"
          ],
          "name": "stderr"
        },
        {
          "output_type": "execute_result",
          "data": {
            "text/plain": [
              "<matplotlib.axes._subplots.AxesSubplot at 0x7fe675a89fd0>"
            ]
          },
          "metadata": {
            "tags": []
          },
          "execution_count": 7
        },
        {
          "output_type": "display_data",
          "data": {
            "image/png": "[encoded data removed]",
            "text/plain": [
              "<Figure size 864x432 with 1 Axes>"
            ]
          },
          "metadata": {
            "tags": [],
            "needs_background": "light"
          }
        }
      ]
    },
    {
      "cell_type": "code",
      "metadata": {
        "id": "zcwYYt4rkJEB"
      },
      "source": [
        "poisson_10X = pd.Series(index = range(32), data = [ss.poisson.cdf(i,16.7) for i in range(32)])    "
      ],
      "execution_count": 8,
      "outputs": []
    },
    {
      "cell_type": "code",
      "metadata": {
        "colab": {
          "base_uri": "https://localhost:8080/",
          "height": 461
        },
        "id": "UCO_aWB6kJEC",
        "outputId": "7ff3f732-1cd8-4aa4-d282-316bac25dbf7"
      },
      "source": [
        "plt.figure(figsize = [12,6])\n",
        "plt.title('Cumulative Poisson Base Coverage Probabilities')\n",
        "sns.barplot(poisson_10X.index, poisson_10X.values)"
      ],
      "execution_count": 9,
      "outputs": [
        {
          "output_type": "stream",
          "text": [
            "/usr/local/lib/python3.7/dist-packages/seaborn/_decorators.py:43: FutureWarning: Pass the following variables as keyword args: x, y. From version 0.12, the only valid positional argument will be `data`, and passing other arguments without an explicit keyword will result in an error or misinterpretation.\n",
            "  FutureWarning\n"
          ],
          "name": "stderr"
        },
        {
          "output_type": "execute_result",
          "data": {
            "text/plain": [
              "<matplotlib.axes._subplots.AxesSubplot at 0x7fe675992210>"
            ]
          },
          "metadata": {
            "tags": []
          },
          "execution_count": 9
        },
        {
          "output_type": "display_data",
          "data": {
            "image/png": "[encoded data removed]",
            "text/plain": [
              "<Figure size 864x432 with 1 Axes>"
            ]
          },
          "metadata": {
            "tags": [],
            "needs_background": "light"
          }
        }
      ]
    },
    {
      "cell_type": "code",
      "metadata": {
        "colab": {
          "base_uri": "https://localhost:8080/"
        },
        "id": "29SFGP8ckJED",
        "outputId": "a7d05f88-88f2-4948-a29d-7b745db63025"
      },
      "source": [
        "# Suppose that we have 15X coverage of our reference sequence.\n",
        "#What proportion of bases in the reference do we expect to have coverage of at least 12X?\n",
        "#Give your answer rounded to two decimal places (e.g. 0.5729 would be 0.57).\n",
        "print(1 - ss.poisson.cdf(11,mu=15))"
      ],
      "execution_count": 10,
      "outputs": [
        {
          "output_type": "stream",
          "text": [
            "0.8152482009760685\n"
          ],
          "name": "stdout"
        }
      ]
    },
    {
      "cell_type": "code",
      "metadata": {
        "colab": {
          "base_uri": "https://localhost:8080/"
        },
        "id": "lPcoTEBWlPny",
        "outputId": "464ca4ef-562d-42ac-dbe8-d31d08220743"
      },
      "source": [
        "# You are re-sequencing a 6Mb (megabase - mega = million) bacterial genome.\n",
        "# You want to obtain 10X coverage. You have the option of using Illumina MiSeq,\n",
        "#  which will generate 300 base pair reads, or the Illumina HiSeq which will generate 250 base pair reads.\n",
        "# Select the options below which apply - select ALL that apply (i.e. select more than one).\n",
        "# (We won't worry about whether the reads are paired or not - the counts given are just total counts).\n",
        "# Very few reads (<5%) will have more than 10 reads aligned to them\n",
        "print(1 - ss.poisson.cdf(10,mu=10)) #False"
      ],
      "execution_count": 15,
      "outputs": [
        {
          "output_type": "stream",
          "text": [
            "0.41696024980701485\n"
          ],
          "name": "stdout"
        }
      ]
    },
    {
      "cell_type": "code",
      "metadata": {
        "colab": {
          "base_uri": "https://localhost:8080/"
        },
        "id": "GsDwYEPcngRZ",
        "outputId": "d371b396-dfcc-4e8d-ad5e-5f3bedbe24b1"
      },
      "source": [
        "# It would be rare (happen <1% of the time) to find a base with less than 8 reads aligning to it\n",
        "print(ss.poisson.cdf(7,mu=10)) #False"
      ],
      "execution_count": 13,
      "outputs": [
        {
          "output_type": "stream",
          "text": [
            "0.22022064660169907\n"
          ],
          "name": "stdout"
        }
      ]
    },
    {
      "cell_type": "code",
      "metadata": {
        "colab": {
          "base_uri": "https://localhost:8080/"
        },
        "id": "jwsuNKvrn2cG",
        "outputId": "aafe3553-78cc-47c9-bbf3-d8ca19cba89d"
      },
      "source": [
        "# We would expect about half (~50%) of the bases to have at least 10 reads aligned to them\n",
        "print(1 - ss.poisson.cdf(9,mu=10)) #True"
      ],
      "execution_count": 16,
      "outputs": [
        {
          "output_type": "stream",
          "text": [
            "0.5420702855281476\n"
          ],
          "name": "stdout"
        }
      ]
    },
    {
      "cell_type": "code",
      "metadata": {
        "id": "iA7jdcSnoulO"
      },
      "source": [
        ""
      ],
      "execution_count": null,
      "outputs": []
    }
  ]
}